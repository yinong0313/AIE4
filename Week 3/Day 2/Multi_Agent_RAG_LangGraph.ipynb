{
  "cells": [
    {
      "cell_type": "markdown",
      "metadata": {
        "id": "KxpWDFG11o3G"
      },
      "source": [
        "# Multi-Agent Workflows + RAG - LangGraph\n",
        "\n",
        "Today we'll be looking at an example of a Multi-Agent workflow that's powered by LangGraph, LCEL, and more!\n",
        "\n",
        "We're going to be, more specifically, looking at a \"heirarchical agent teams\" from the [AutoGen: Enabling Next-Gen LLM\n",
        "Applications via Multi-Agent Conversation](https://arxiv.org/pdf/2308.08155) paper.\n",
        "\n",
        "This will be the final \"graph\" of our system:\n",
        "\n",
        "![image](https://i.imgur.com/Bhc7RVE.png)\n",
        "\n",
        "It's important to keep in mind that the actual implementation will be constructed of 3 separate graphs, the final one having 2 graphs as nodes! LangGraph is a heckuva tool!\n",
        "\n",
        "> NOTE: We'll be following along with the official LangGraph implementation very closely, which you can find [here](https://github.com/langchain-ai/langgraph/blob/main/examples/multi_agent/hierarchical_agent_teams.ipynb), with some minor modifications and extensions to showcase just how straightforward it is to modify LangGraph implementations to suit your own needs!\n",
        "\n"
      ]
    },
    {
      "cell_type": "markdown",
      "metadata": {
        "id": "mx3oaVoX5cA2"
      },
      "source": [
        "## Dependencies\n",
        "\n",
        "We'll start, as we normally do, by grabbing our dependencies.\n",
        "\n",
        "We'll be using LangChain and LangGraph to power our application, so let's start by grabbing those!"
      ]
    },
    {
      "cell_type": "code",
      "execution_count": 1,
      "metadata": {
        "id": "cs6HUTgecbzW"
      },
      "outputs": [],
      "source": [
        "!pip install -qU langgraph langchain langchain_openai langchain_experimental"
      ]
    },
    {
      "cell_type": "markdown",
      "metadata": {
        "id": "BMzWFUc25oqT"
      },
      "source": [
        "We're going to be showing a simple RAG chain as part of our LangGraph - and so we'll need specific dependencies for that as well!"
      ]
    },
    {
      "cell_type": "code",
      "execution_count": 2,
      "metadata": {
        "id": "qEUBCOdukjwc"
      },
      "outputs": [],
      "source": [
        "!pip install -qU --disable-pip-version-check qdrant-client pymupdf tiktoken"
      ]
    },
    {
      "cell_type": "markdown",
      "metadata": {
        "id": "Zpv2MWqu5vS9"
      },
      "source": [
        "Since we'll be relying on OpenAI's suite of models to power our agents today, we'll want to provide our OpenAI API Key.\n",
        "\n",
        "We're also going to be using the Tavily search tool - so we'll want to provide that API key as well!\n",
        "\n",
        "Instruction for how to obtain the Tavily API key can be found:\n",
        "\n",
        "1. [Tavily API Key](https://app.tavily.com/sign-in)\n",
        "\n"
      ]
    },
    {
      "cell_type": "code",
      "execution_count": 3,
      "metadata": {
        "colab": {
          "base_uri": "https://localhost:8080/"
        },
        "id": "h30OjkLfeR2Y",
        "outputId": "9b1275c1-bf33-4984-ab6f-e27080ef494e"
      },
      "outputs": [],
      "source": [
        "import os\n",
        "import getpass\n",
        "\n",
        "os.environ[\"OPENAI_API_KEY\"] = getpass.getpass(\"OpenAI API Key:\")\n",
        "os.environ[\"TAVILY_API_KEY\"] = getpass.getpass(\"TAVILY_API_KEY\")"
      ]
    },
    {
      "cell_type": "code",
      "execution_count": 312,
      "metadata": {},
      "outputs": [],
      "source": [
        "#some funtions for easy print\n",
        "from IPython.display import display, Markdown\n",
        "from typing import Any\n",
        "\n",
        "#def pretty_print(message: str) -> str:\n",
        "#    display(Markdown(message))\n",
        "def pretty_print(message: str) -> None:\n",
        "    display(Markdown(f\"```markdown\\n{message}\\n```\"))\n",
        "\n",
        "def format_output(data: Any, indent=0) -> str:\n",
        "    spacing = ' ' * indent\n",
        "    if isinstance(data, dict):\n",
        "        result = []\n",
        "        for key, value in data.items():\n",
        "            result.append(f\"{spacing}{key}: {format_output(value, indent + 4)}\")\n",
        "        return \"\\n\".join(result)\n",
        "    elif isinstance(data, list):\n",
        "        result = []\n",
        "        for item in data:\n",
        "            result.append(format_output(item, indent + 4))\n",
        "        return \"\\n\".join(result)\n",
        "    elif isinstance(data, BaseMessage):\n",
        "        return f\"{spacing}{type(data).__name__}(content='{data.content}', name='{data.name}')\"\n",
        "    else:\n",
        "        return f\"{spacing}{str(data)}\""
      ]
    },
    {
      "cell_type": "markdown",
      "metadata": {
        "id": "M_LD7rwT6PbO"
      },
      "source": [
        "## Simple LCEL RAG\n",
        "\n",
        "Now that we have our dependencies set-up - let's create a simple RAG chain that works over a single PDF.\n",
        "\n",
        "> NOTE: While this particular example is very straight forward - you can \"plug in\" any complexity of chain you desire as a node in a LangGraph."
      ]
    },
    {
      "cell_type": "markdown",
      "metadata": {
        "id": "JY7T5kxJ6jGn"
      },
      "source": [
        "## Retrieval\n",
        "\n",
        "The 'R' in 'RAG' - this is, at this point, fairly straightforward!"
      ]
    },
    {
      "cell_type": "markdown",
      "metadata": {
        "id": "DGuPxSCk7Ztz"
      },
      "source": [
        "#### Data Collection and Processing\n",
        "\n",
        "A classic first step, at this point, let's grab our desired document!"
      ]
    },
    {
      "cell_type": "code",
      "execution_count": 4,
      "metadata": {
        "id": "LfuoEYRCln3H"
      },
      "outputs": [],
      "source": [
        "from langchain.document_loaders import PyMuPDFLoader\n",
        "\n",
        "docs = PyMuPDFLoader(\"https://arxiv.org/pdf/2404.19553\").load()"
      ]
    },
    {
      "cell_type": "markdown",
      "metadata": {
        "id": "r_t_F1zG6vXa"
      },
      "source": [
        "Now we can chunk it down to size!"
      ]
    },
    {
      "cell_type": "code",
      "execution_count": 5,
      "metadata": {
        "id": "5R7A_z8CgL79"
      },
      "outputs": [],
      "source": [
        "import tiktoken\n",
        "from langchain.text_splitter import RecursiveCharacterTextSplitter\n",
        "\n",
        "def tiktoken_len(text):\n",
        "    tokens = tiktoken.encoding_for_model(\"gpt-4o-mini\").encode(\n",
        "        text,\n",
        "    )\n",
        "    return len(tokens)\n",
        "\n",
        "text_splitter = RecursiveCharacterTextSplitter(\n",
        "    chunk_size = 300,\n",
        "    chunk_overlap = 0,\n",
        "    length_function = tiktoken_len,\n",
        ")\n",
        "\n",
        "split_chunks = text_splitter.split_documents(docs)"
      ]
    },
    {
      "cell_type": "markdown",
      "metadata": {
        "id": "lGE-VuMc7AKv"
      },
      "source": [
        "Now we've successfully split our single PDF into..."
      ]
    },
    {
      "cell_type": "code",
      "execution_count": 87,
      "metadata": {
        "colab": {
          "base_uri": "https://localhost:8080/"
        },
        "id": "pgYBHsdWmLvW",
        "outputId": "16d5e6f1-46ff-428f-870b-2df570065171"
      },
      "outputs": [
        {
          "data": {
            "text/plain": [
              "15"
            ]
          },
          "execution_count": 87,
          "metadata": {},
          "output_type": "execute_result"
        }
      ],
      "source": [
        "len(split_chunks)"
      ]
    },
    {
      "cell_type": "markdown",
      "metadata": {
        "id": "lxaKmmyh7DHD"
      },
      "source": [
        "documents!"
      ]
    },
    {
      "cell_type": "markdown",
      "metadata": {
        "id": "cGWs7KTd7QPS"
      },
      "source": [
        "#### Embedding Model and Vector Store\n",
        "\n",
        "Now that we have our chunked document - lets create a vector store, which will first require us to create an embedding model to get the vector representations of our text!\n",
        "\n",
        "We'll use OpenAI's [`text-embedding-3-small`](https://platform.openai.com/docs/guides/embeddings/embedding-models) model - as it's cheap, and performant."
      ]
    },
    {
      "cell_type": "code",
      "execution_count": 7,
      "metadata": {
        "id": "xLIWMMZCmfrj"
      },
      "outputs": [],
      "source": [
        "from langchain_openai.embeddings import OpenAIEmbeddings\n",
        "\n",
        "embedding_model = OpenAIEmbeddings(model=\"text-embedding-3-small\")"
      ]
    },
    {
      "cell_type": "markdown",
      "metadata": {
        "id": "lTEi7Ww573sc"
      },
      "source": [
        "Now we can create our QDrant backed vector store!"
      ]
    },
    {
      "cell_type": "code",
      "execution_count": 8,
      "metadata": {
        "id": "Xct51f8omVAU"
      },
      "outputs": [],
      "source": [
        "from langchain_community.vectorstores import Qdrant\n",
        "\n",
        "qdrant_vectorstore = Qdrant.from_documents(\n",
        "    split_chunks,\n",
        "    embedding_model,\n",
        "    location=\":memory:\",\n",
        "    collection_name=\"extending_context_window_llama_3\",\n",
        ")"
      ]
    },
    {
      "cell_type": "markdown",
      "metadata": {
        "id": "wzGq6o4s79Ar"
      },
      "source": [
        "Let's make sure we can access it as a retriever."
      ]
    },
    {
      "cell_type": "code",
      "execution_count": 9,
      "metadata": {
        "id": "OTnQZbWymi4K"
      },
      "outputs": [],
      "source": [
        "qdrant_retriever = qdrant_vectorstore.as_retriever()"
      ]
    },
    {
      "cell_type": "markdown",
      "metadata": {
        "id": "aU8qSrMS7_D7"
      },
      "source": [
        "### Augmented\n",
        "\n",
        "Now that we have our retrieval process set-up, we need to set up our \"augmentation\" process - AKA a prompt template."
      ]
    },
    {
      "cell_type": "code",
      "execution_count": 88,
      "metadata": {
        "id": "lezTN0zCmk46"
      },
      "outputs": [],
      "source": [
        "from langchain_core.prompts import ChatPromptTemplate\n",
        "\n",
        "RAG_PROMPT = \"\"\"\n",
        "CONTEXT:\n",
        "{context}\n",
        "\n",
        "QUERY:\n",
        "{question}\n",
        "\n",
        "You are a helpful assistant. Use the available context to answer the question. If you can't answer the question, say you don't know.\n",
        "\"\"\"\n",
        "\n",
        "rag_prompt = ChatPromptTemplate.from_template(RAG_PROMPT)"
      ]
    },
    {
      "cell_type": "markdown",
      "metadata": {
        "id": "Y9fa63nM7IKK"
      },
      "source": [
        "### Generation\n",
        "\n",
        "Last, but certainly not least, let's put the 'G' in 'RAG' by adding our generator - in this case, we can rely on OpenAI's [`gpt-4o-mini`](https://platform.openai.com/docs/models/gpt-4o-mini) model!"
      ]
    },
    {
      "cell_type": "code",
      "execution_count": 89,
      "metadata": {
        "id": "AwEi29-Jo3a8"
      },
      "outputs": [],
      "source": [
        "from langchain_openai import ChatOpenAI\n",
        "\n",
        "openai_chat_model = ChatOpenAI(model=\"gpt-4o-mini\")"
      ]
    },
    {
      "cell_type": "markdown",
      "metadata": {
        "id": "qO-ZC0T98XJJ"
      },
      "source": [
        "### RAG - Retrieval Augmented Generation\n",
        "\n",
        "All that's left to do is combine our R, A, and G into a single chain - and we're off!"
      ]
    },
    {
      "cell_type": "code",
      "execution_count": 90,
      "metadata": {
        "id": "nlOJrPm_oT3S"
      },
      "outputs": [],
      "source": [
        "from operator import itemgetter\n",
        "from langchain.schema.output_parser import StrOutputParser\n",
        "\n",
        "rag_chain = (\n",
        "    {\"context\": itemgetter(\"question\") | qdrant_retriever, \"question\": itemgetter(\"question\")}\n",
        "    | rag_prompt | openai_chat_model | StrOutputParser()\n",
        ")"
      ]
    },
    {
      "cell_type": "markdown",
      "metadata": {
        "id": "qiWrbXpu8ggz"
      },
      "source": [
        "Let's test this out and make sure it works."
      ]
    },
    {
      "cell_type": "code",
      "execution_count": 85,
      "metadata": {
        "colab": {
          "base_uri": "https://localhost:8080/",
          "height": 104
        },
        "id": "gJhFlW32pBPe",
        "outputId": "9847e13d-7435-4224-d3e5-ac04f8a6f868"
      },
      "outputs": [
        {
          "data": {
            "text/markdown": [
              "In the context of 'long context' as discussed in the document, 'context' refers to the amount of textual information or data that a language model can process at one time. Specifically, it pertains to the length of the text that the model can consider when performing tasks such as question answering or summarization. The document discusses extending the context length of models like Llama-3-8B-Instruct from 8K to 80K tokens, indicating that 'context' is about the capacity to handle larger segments of text during processing."
            ],
            "text/plain": [
              "<IPython.core.display.Markdown object>"
            ]
          },
          "metadata": {},
          "output_type": "display_data"
        }
      ],
      "source": [
        "pretty_print(rag_chain.invoke({\"question\" : \"What does the 'context' in 'long context' refer to?\"}))"
      ]
    },
    {
      "cell_type": "markdown",
      "metadata": {
        "id": "gReMizYk8qd-"
      },
      "source": [
        "### RAG Limitation\n",
        "\n",
        "Notice how we're hard-coding our data, while this is simply meant to be an illustrative example - you could easily extend this to work with any provied paper or document in order to have a more dynamic system.\n",
        "\n",
        "For now, we'll stick with this single hard-coded example in order to keep complexity down in an already very long notebook!"
      ]
    },
    {
      "cell_type": "markdown",
      "metadata": {
        "id": "oxkbuir-H5rE"
      },
      "source": [
        "##### 🏗️ Activity #1 (Bonus Marks)\n",
        "\n",
        "Allow the system to dynamically fetch Arxiv papers instead of hard coding them.\n",
        "\n",
        "> HINT: Tuesday's assignment will be very useful here."
      ]
    },
    {
      "cell_type": "code",
      "execution_count": 227,
      "metadata": {},
      "outputs": [
        {
          "data": {
            "text/plain": [
              "[Document(metadata={'Entry ID': 'http://arxiv.org/abs/2404.19553v1', 'Published': datetime.date(2024, 4, 30), 'Title': \"Extending Llama-3's Context Ten-Fold Overnight\", 'Authors': 'Peitian Zhang, Ninglu Shao, Zheng Liu, Shitao Xiao, Hongjin Qian, Qiwei Ye, Zhicheng Dou'}, page_content=\"We extend the context length of Llama-3-8B-Instruct from 8K to 80K via QLoRA\\nfine-tuning. The entire training cycle is super efficient, which takes 8 hours\\non one 8xA800 (80G) GPU machine. The resulted model exhibits superior\\nperformances across a broad range of evaluation tasks, such as NIHS, topic\\nretrieval, and long-context language understanding; meanwhile, it also well\\npreserves the original capability over short contexts. The dramatic context\\nextension is mainly attributed to merely 3.5K synthetic training samples\\ngenerated by GPT-4 , which indicates the LLMs' inherent (yet largely\\nunderestimated) potential to extend its original context length. In fact, the\\ncontext length could be extended far beyond 80K with more computation\\nresources. Therefore, the team will publicly release the entire resources\\n(including data, model, data generation pipeline, training code) so as to\\nfacilitate the future research from the community:\\n\\\\url{https://github.com/FlagOpen/FlagEmbedding}.\"),\n",
              " Document(metadata={'Entry ID': 'http://arxiv.org/abs/2202.00929v4', 'Published': datetime.date(2023, 8, 11), 'Title': 'Term structure modelling with overnight rates beyond stochastic continuity', 'Authors': 'Claudio Fontana, Zorana Grbac, Thorsten Schmidt'}, page_content='Overnight rates, such as the SOFR (Secured Overnight Financing Rate) in the\\nUS, are central to the current reform of interest rate benchmarks. A striking\\nfeature of overnight rates is the presence of jumps and spikes occurring at\\npredetermined dates due to monetary policy interventions and liquidity\\nconstraints. This corresponds to stochastic discontinuities (i.e.,\\ndiscontinuities occurring at ex-ante known points in time) in their dynamics.\\nIn this work, we propose a term structure modelling framework based on\\novernight rates and characterize absence of arbitrage in a generalised\\nHeath-Jarrow-Morton (HJM) setting. We extend the classical short-rate approach\\nto accommodate stochastic discontinuities, developing a tractable setup driven\\nby affine semimartingales. In this context, we show that simple specifications\\nallow to capture stylized facts of the jump behavior of overnight rates. In a\\nGaussian setting, we provide explicit valuation formulas for bonds and caplets.\\nFurthermore, we investigate hedging in the sense of local risk-minimization\\nwhen the underlying term structures feature stochastic discontinuities.'),\n",
              " Document(metadata={'Entry ID': 'http://arxiv.org/abs/2402.07134v1', 'Published': datetime.date(2024, 2, 11), 'Title': 'Tail risk forecasting with semi-parametric regression models by incorporating overnight information', 'Authors': 'Cathy W. S. Chen, Takaaki Koike, Wei-Hsuan Shau'}, page_content='This research incorporates realized volatility and overnight information into\\nrisk models, wherein the overnight return often contributes significantly to\\nthe total return volatility. Extending a semi-parametric regression model based\\non asymmetric Laplace distribution, we propose a family of RES-CAViaR-oc models\\nby adding overnight return and realized measures as a nowcasting technique for\\nsimultaneously forecasting Value-at-Risk (VaR) and expected shortfall (ES). We\\nutilize Bayesian methods to estimate unknown parameters and forecast VaR and ES\\njointly for the proposed model family. We also conduct extensive backtests\\nbased on joint elicitability of the pair of VaR and ES during the out-of sample\\nperiod. Our empirical study on four international stock indices confirms that\\novernight return and realized volatility are vital in tail risk forecasting.')]"
            ]
          },
          "execution_count": 227,
          "metadata": {},
          "output_type": "execute_result"
        }
      ],
      "source": [
        "paper_title = \"Extending Llama-3's Context Ten-Fold Overnight\"\n",
        "from langchain_community.retrievers import ArxivRetriever\n",
        "\n",
        "retriever = ArxivRetriever(\n",
        "    load_max_docs=3,\n",
        "    get_ful_documents=True,\n",
        ")\n",
        "\n",
        "temp_docs = retriever.invoke(f\"{paper_title}\")\n",
        "temp_docs"
      ]
    },
    {
      "cell_type": "code",
      "execution_count": 314,
      "metadata": {},
      "outputs": [
        {
          "name": "stdout",
          "output_type": "stream",
          "text": [
            "http://arxiv.org/abs/2404.19553v1\n",
            "15\n"
          ]
        },
        {
          "data": {
            "text/markdown": [
              "```markdown\n",
              "The paper discusses the performance of various language models, particularly focusing on Llama-3-8B-Instruct and its variants, in long-context tasks. Here are the main takeaways:\n",
              "\n",
              "1. **Evaluation on LongBench and InfiniteBench**: The models were evaluated on benchmarks that include real-world long-context tasks, with most contexts being shorter than 32K tokens. Llama-3-8B-Instruct showed significant performance improvements over baselines, except in code completion tasks.\n",
              "\n",
              "2. **Performance Comparison**: Llama-3-8B-Instruct-80K-QLoRA excelled in answering questions based on long contexts and achieved competitive performance against GPT-4 in summarization tasks. Interestingly, Llama-3-8B-Instruct with 8K context outperformed GPT-4 with 128K context on summarization, suggesting that the evaluation metrics used (like rouge-f1) may favor different phrasing.\n",
              "\n",
              "3. **Context Length Considerations**: The paper notes the challenges and methodologies related to context length, highlighting that different models were trained and tested with varying context lengths, which impacts their performance on long-context tasks.\n",
              "\n",
              "4. **Model Performance Metrics**: Evaluation results from InfBench are summarized, showing average scores across different domains (STEM, Social, Humanities, Others) for the various models, indicating that Llama-3-8B-Instruct and its variants perform well across the board.\n",
              "\n",
              "Overall, the findings suggest that Llama-3-8B-Instruct and its adaptations are strong contenders for tasks requiring long-context understanding, outperforming some established models such as GPT-4 in specific areas.\n",
              "```"
            ],
            "text/plain": [
              "<IPython.core.display.Markdown object>"
            ]
          },
          "metadata": {},
          "output_type": "display_data"
        }
      ],
      "source": [
        "from langchain_community.retrievers import ArxivRetriever\n",
        "import re\n",
        "\n",
        "# Chat model for processing\n",
        "openai_chat_model = ChatOpenAI(model=\"gpt-4o-mini\")\n",
        "\n",
        "# RAG prompt template\n",
        "RAG_PROMPT = \"\"\"\n",
        "CONTEXT:\n",
        "{context}\n",
        "\n",
        "QUERY:\n",
        "{question}\n",
        "\n",
        "You are a helpful assistant. Use the available context to answer the question. If you can't answer the question, say you don't know.\n",
        "\"\"\"\n",
        "rag_prompt = ChatPromptTemplate.from_template(RAG_PROMPT)\n",
        "\n",
        "def dynamic_vdb(paper_title):\n",
        "    # Step 1: Fetch the document from Arxiv\n",
        "    retriever = ArxivRetriever(\n",
        "    load_max_docs=1,\n",
        "    get_ful_documents=True)\n",
        "\n",
        "    temp_docs = retriever.invoke(f\"{paper_title}\")\n",
        "    abs_url = temp_docs[0].metadata['Entry ID']\n",
        "    print(abs_url)\n",
        "    match = re.search(r'(http:\\/\\/arxiv\\.org\\/)abs\\/(\\d+\\.\\d+)', abs_url)\n",
        "    # Replace 'abs/' with 'pdf/' and form the final URL\n",
        "    pdf_url = f\"{match.group(1)}pdf/{match.group(2)}\"\n",
        "    docs = PyMuPDFLoader(pdf_url).load()\n",
        "     \n",
        "    # Step 2: Split and embed the document\n",
        "    split_chunks = text_splitter.split_documents(docs)\n",
        "    print(len(split_chunks))\n",
        "    qdrant_vectorstore = Qdrant.from_documents(\n",
        "         split_chunks,\n",
        "         embedding_model,\n",
        "         location=\":memory:\",\n",
        "         collection_name=\"dynamic_arxiv_collection\",\n",
        "    )\n",
        "    #qdrant_retriever = qdrant_vectorstore.as_retriever()\n",
        "    return qdrant_vectorstore.as_retriever()\n",
        "\n",
        "def create_rag_chain(paper_title: str):\n",
        "    # Use the dynamic_vdb function to get the retriever\n",
        "    qdrant_retriever = dynamic_vdb(paper_title)\n",
        "    \n",
        "    # Create the RAG chain\n",
        "    rag_chain = (\n",
        "        {\"context\": itemgetter(\"question\") | qdrant_retriever, \"question\": itemgetter(\"question\")}\n",
        "        | rag_prompt | openai_chat_model | StrOutputParser()\n",
        "    )\n",
        "\n",
        "    return rag_chain\n",
        "\n",
        "# Example usage\n",
        "rag_chain = create_rag_chain(\"Extending Llama-3's Context Ten-Fold Overnight\")\n",
        "response = rag_chain.invoke({\"question\": \"What are the main takeaways from the paper?\"})\n",
        "pretty_print(response)"
      ]
    },
    {
      "cell_type": "markdown",
      "metadata": {
        "id": "7U6a_pqQ9uWf"
      },
      "source": [
        "## Helper Functions for Agent Graphs\n",
        "\n",
        "We'll be using a number of agents, nodes, and supervisors in the rest of the notebook - and so it will help to have a collection of useful helper functions that we can leverage to make our lives easier going forward.\n",
        "\n",
        "Let's start with the most simple one!"
      ]
    },
    {
      "cell_type": "markdown",
      "metadata": {
        "id": "IDUnpEEl-L_F"
      },
      "source": [
        "#### Import Wall\n",
        "\n",
        "Here's a wall of imports we'll be needing going forward!"
      ]
    },
    {
      "cell_type": "code",
      "execution_count": 14,
      "metadata": {
        "id": "TbzoL3Q3-SG1"
      },
      "outputs": [],
      "source": [
        "from typing import Any, Callable, List, Optional, TypedDict, Union\n",
        "\n",
        "from langchain.agents import AgentExecutor, create_openai_functions_agent\n",
        "from langchain.output_parsers.openai_functions import JsonOutputFunctionsParser\n",
        "from langchain_core.prompts import ChatPromptTemplate, MessagesPlaceholder\n",
        "from langchain_core.messages import AIMessage, BaseMessage, HumanMessage\n",
        "from langchain_core.runnables import Runnable\n",
        "from langchain_core.tools import BaseTool\n",
        "from langchain_openai import ChatOpenAI\n",
        "\n",
        "from langgraph.graph import END, StateGraph"
      ]
    },
    {
      "cell_type": "markdown",
      "metadata": {
        "id": "qb6Z3EEz-Asi"
      },
      "source": [
        "### Agent Node Helper\n",
        "\n",
        "Since we're going to be wrapping each of our agents into a node - it will help to have an easy way to create the node!"
      ]
    },
    {
      "cell_type": "code",
      "execution_count": 91,
      "metadata": {
        "id": "5IF7KWfS-JKd"
      },
      "outputs": [],
      "source": [
        "def agent_node(state, agent, name):\n",
        "    result = agent.invoke(state)\n",
        "    return {\"messages\": [HumanMessage(content=result[\"output\"], name=name)]}"
      ]
    },
    {
      "cell_type": "markdown",
      "metadata": {
        "id": "fwND2teK-WHm"
      },
      "source": [
        "### Agent Creation Helper Function\n",
        "\n",
        "Since we know we'll need to create agents to populate our agent nodes, let's use a helper function for that as well!\n",
        "\n",
        "Notice a few things:\n",
        "\n",
        "1. We have a standard suffix to append to our system messages for each agent to handle the tool calling and boilerplate prompting.\n",
        "2. Each agent has its our scratchpad.\n",
        "3. We're relying on OpenAI's function-calling API for tool selection\n",
        "4. Each agent is its own executor."
      ]
    },
    {
      "cell_type": "code",
      "execution_count": 92,
      "metadata": {
        "id": "NxLyHJt5-eUx"
      },
      "outputs": [],
      "source": [
        "def create_agent(\n",
        "    llm: ChatOpenAI,\n",
        "    tools: list,\n",
        "    system_prompt: str,\n",
        ") -> str:\n",
        "    \"\"\"Create a function-calling agent and add it to the graph.\"\"\"\n",
        "    system_prompt += (\"\\nWork autonomously according to your specialty, using the tools available to you.\"\n",
        "    \" Do not ask for clarification.\"\n",
        "    \" Your other team members (and other teams) will collaborate with you with their own specialties.\"\n",
        "    \" You are chosen for a reason! You are one of the following team members: {team_members}.\")\n",
        "    prompt = ChatPromptTemplate.from_messages(\n",
        "        [\n",
        "            (\n",
        "                \"system\",\n",
        "                system_prompt,\n",
        "            ),\n",
        "            MessagesPlaceholder(variable_name=\"messages\"),\n",
        "            MessagesPlaceholder(variable_name=\"agent_scratchpad\"),\n",
        "        ]\n",
        "    )\n",
        "    agent = create_openai_functions_agent(llm, tools, prompt)\n",
        "    executor = AgentExecutor(agent=agent, tools=tools)\n",
        "    return executor"
      ]
    },
    {
      "cell_type": "markdown",
      "metadata": {
        "id": "S6kmlR9d-1K5"
      },
      "source": [
        "### Supervisor Helper Function\n",
        "\n",
        "Finally, we need a \"supervisor\" that decides and routes tasks to specific agents.\n",
        "\n",
        "Since each \"team\" will have a collection of potential agents - this \"supervisor\" will act as an \"intelligent\" router to make sure that the right agent is selected for the right task.\n",
        "\n",
        "Notice that, at the end of the day, this \"supervisor\" is simply directing who acts next - or if the state is considered \"done\"."
      ]
    },
    {
      "cell_type": "code",
      "execution_count": 93,
      "metadata": {
        "id": "S2MXA83mrYE2"
      },
      "outputs": [],
      "source": [
        "def create_team_supervisor(llm: ChatOpenAI, system_prompt, members) -> str:\n",
        "    \"\"\"An LLM-based router.\"\"\"\n",
        "    options = [\"FINISH\"] + members\n",
        "    function_def = {\n",
        "        \"name\": \"route\",\n",
        "        \"description\": \"Select the next role.\",\n",
        "        \"parameters\": {\n",
        "            \"title\": \"routeSchema\",\n",
        "            \"type\": \"object\",\n",
        "            \"properties\": {\n",
        "                \"next\": {\n",
        "                    \"title\": \"Next\",\n",
        "                    \"anyOf\": [\n",
        "                        {\"enum\": options},\n",
        "                    ],\n",
        "                },\n",
        "            },\n",
        "            \"required\": [\"next\"],\n",
        "        },\n",
        "    }\n",
        "    prompt = ChatPromptTemplate.from_messages(\n",
        "        [\n",
        "            (\"system\", system_prompt),\n",
        "            MessagesPlaceholder(variable_name=\"messages\"),\n",
        "            (\n",
        "                \"system\",\n",
        "                \"Given the conversation above, who should act next?\"\n",
        "                \" Or should we FINISH? Select one of: {options}\",\n",
        "            ),\n",
        "        ]\n",
        "    ).partial(options=str(options), team_members=\", \".join(members))\n",
        "    return (\n",
        "        prompt\n",
        "        | llm.bind_functions(functions=[function_def], function_call=\"route\")\n",
        "        | JsonOutputFunctionsParser()\n",
        "    )"
      ]
    },
    {
      "cell_type": "markdown",
      "metadata": {
        "id": "jd0zfyq48jKb"
      },
      "source": [
        "## Research Team - A LangGraph for Researching A Specific Topic\n",
        "\n",
        "Now that we have our RAG chain set-up and some awesome helper functions, we want to create a LangGraph related to researching a specific topic.\n",
        "\n",
        "We're going to start by equipping our Research Team with a few tools:\n",
        "\n",
        "1. Tavily Search - aka \"Google\", for the most up to date information possible.\n",
        "2. Our RAG chain - specific and high quality information about our topic.\n",
        "\n",
        "Let's create those tools now!"
      ]
    },
    {
      "cell_type": "markdown",
      "metadata": {
        "id": "VNsVTZrH_alw"
      },
      "source": [
        "### Tool Creation\n",
        "\n",
        "As you can see below, some tools already come pre-packaged ready to use!"
      ]
    },
    {
      "cell_type": "code",
      "execution_count": 94,
      "metadata": {
        "id": "ce7FKTZDgAWG"
      },
      "outputs": [],
      "source": [
        "from langchain_community.tools.tavily_search import TavilySearchResults\n",
        "\n",
        "tavily_tool = TavilySearchResults(max_results=5)"
      ]
    },
    {
      "cell_type": "markdown",
      "metadata": {
        "id": "NIR7cbTL9agM"
      },
      "source": [
        "Creating a custom tool, however, is very straightforward.\n",
        "\n",
        "> NOTE: You *must* include a docstring, as that is what the LLM will consider when deciding when to use this tool."
      ]
    },
    {
      "cell_type": "code",
      "execution_count": 228,
      "metadata": {
        "id": "sSwO2L_UqFhm"
      },
      "outputs": [],
      "source": [
        "from typing import Annotated, List, Tuple, Union\n",
        "from langchain_core.tools import tool\n",
        "\n",
        "@tool\n",
        "def retrieve_information(\n",
        "    query: Annotated[str, \"query to ask the retrieve information tool\"]\n",
        "    ):\n",
        "  \"\"\"Use Retrieval Augmented Generation to retrieve information about the 'Extending Llama-3’s Context Ten-Fold Overnight' paper.\"\"\"\n",
        "  return rag_chain.invoke({\"question\" : query})"
      ]
    },
    {
      "cell_type": "markdown",
      "metadata": {
        "id": "nxsMnqjpBTCj"
      },
      "source": [
        "> NOTE: We could just as easily use the LCEL chain directly, since nodes can be LCEL objects - but creating a tool helps explain the tool creation process at the same time."
      ]
    },
    {
      "cell_type": "markdown",
      "metadata": {
        "id": "oDHCajO4_gB2"
      },
      "source": [
        "### Research Team State\n",
        "\n",
        "Since we're using LangGraph - we're going to need state!\n",
        "\n",
        "Let's look at how we've created our state below."
      ]
    },
    {
      "cell_type": "code",
      "execution_count": 229,
      "metadata": {
        "id": "mXminK9d_1fa"
      },
      "outputs": [],
      "source": [
        "import functools\n",
        "import operator\n",
        "\n",
        "from langchain_core.messages import AIMessage, BaseMessage, HumanMessage\n",
        "from langchain_openai.chat_models import ChatOpenAI\n",
        "import functools\n",
        "\n",
        "class ResearchTeamState(TypedDict):\n",
        "    messages: Annotated[List[BaseMessage], operator.add]\n",
        "    team_members: List[str]\n",
        "    next: str"
      ]
    },
    {
      "cell_type": "markdown",
      "metadata": {
        "id": "fvPM5msq_18C"
      },
      "source": [
        "Notice how we've used `messages`, `team_members`, and `next`.\n",
        "\n",
        "These states will help us understand:\n",
        "\n",
        "1. What we've done so far (`messages`)\n",
        "2. Which team members we have access to (`team_members`)\n",
        "3. Which team member is up next! (`next`)"
      ]
    },
    {
      "cell_type": "markdown",
      "metadata": {
        "id": "Mu7B_6qHAFjK"
      },
      "source": [
        "### Research Team LLM\n",
        "\n",
        "We'll be using `gpt-4-turbo` today. This LLM is going to be doing a lot of reasoning - and so using a \"powerful\" LLM is very important here!"
      ]
    },
    {
      "cell_type": "code",
      "execution_count": 230,
      "metadata": {
        "id": "dTNqrip8AcKR"
      },
      "outputs": [],
      "source": [
        "llm = ChatOpenAI(model=\"gpt-4-turbo\")"
      ]
    },
    {
      "cell_type": "markdown",
      "metadata": {
        "id": "pfb_VCNKIy9w"
      },
      "source": [
        "##### ❓ Question #1:\n",
        "\n",
        "Why is a \"powerful\" LLM important for this use-case?\n",
        "\n",
        "What tasks must our Agent perform that make it such that the LLM's reasoning capability is a potential limiter?\n",
        "\n",
        "gpt-4o is faster, but 4-turbo is more powerful (and more expensive). It is important for this use case due to the complexity involved in managing multiple agents, interpreting user requests, and making informed decisions about which agent should perform which task. We need to make sure the decision is accurate.\n",
        "\n",
        "To be more specific, the LLM needs to first accurately interpret potentially complex and ambiguous user inputs. Then the supervisor agent needs to manage and maintain context across interactions with multiple agents (e.g., search agent, research agent). The supervisor agent also must decide which agent (search or research) should act next based on the progress of the task, and the agents are designed to have specific roles (e.g., search for information vs. retrieving specific details about a paper). The LLM must ensure that each agent adheres to its role and does not stray into unrelated tasks."
      ]
    },
    {
      "cell_type": "markdown",
      "metadata": {
        "id": "ZR_1LuMKAekf"
      },
      "source": [
        "### Research Team Agents & Nodes\n",
        "\n",
        "Now we can use our helper functions to create our agent nodes, with their related tools.\n",
        "\n",
        "Let's start with our search agent node."
      ]
    },
    {
      "cell_type": "markdown",
      "metadata": {
        "id": "uzx6wuPoAlPq"
      },
      "source": [
        "#### Research Team: Search Agent\n",
        "\n",
        "We're going to give our agent access to the Tavily tool, power it with our GPT-4 Turbo model, and then create its node - and name it `Search`."
      ]
    },
    {
      "cell_type": "code",
      "execution_count": 294,
      "metadata": {
        "id": "FIlLPxj7Atpj"
      },
      "outputs": [],
      "source": [
        "search_agent = create_agent(\n",
        "    llm,\n",
        "    [tavily_tool],\n",
        "    \"You are a research assistant who can search for up-to-date info using the tavily search engine.\"\n",
        "    \"You may only speak as your role. You must not speak as any other roles.\",\n",
        ")\n",
        "search_node = functools.partial(agent_node, agent=search_agent, name=\"Search\")"
      ]
    },
    {
      "cell_type": "markdown",
      "metadata": {
        "id": "emLtesudA9Dd"
      },
      "source": [
        "#### Research Team: RAG Agent Node\n",
        "\n",
        "Now we can wrap our LCEL RAG pipeline in an agent node as well, using the LCEL RAG pipeline as the tool, as created above."
      ]
    },
    {
      "cell_type": "code",
      "execution_count": 286,
      "metadata": {
        "id": "z-nnAG9XA_p7"
      },
      "outputs": [],
      "source": [
        "research_agent = create_agent(\n",
        "    llm,\n",
        "    [retrieve_information],\n",
        "    \"You are a research assistant who can provide specific information on the provided paper: 'Extending Llama-3’s Context Ten-Fold Overnight'.\"\n",
        "    \"You must only respond with information about the paper related to the request. \"\n",
        "    \"You must not create contents like post or blog\"\n",
        "    \"You may only speak as your role. You must not speak as any other roles.\",\n",
        ")\n",
        "research_node = functools.partial(agent_node, agent=research_agent, name=\"PaperInformationRetriever\")"
      ]
    },
    {
      "cell_type": "markdown",
      "metadata": {
        "id": "dA5z6T1CBeSc"
      },
      "source": [
        "### Research Team Supervisor Agent\n",
        "\n",
        "Notice that we're not yet creating our supervisor *node*, simply the agent here.\n",
        "\n",
        "Also notice how we need to provide a few extra pieces of information - including which tools we're using.\n",
        "\n",
        "> NOTE: It's important to use the *exact* tool name, as that is how the LLM will reference the tool. Also, it's important that your tool name is all a single alphanumeric string!\n",
        "\n"
      ]
    },
    {
      "cell_type": "code",
      "execution_count": 295,
      "metadata": {
        "id": "J0g8CQMBrtFs"
      },
      "outputs": [],
      "source": [
        "supervisor_agent = create_team_supervisor(\n",
        "    llm,\n",
        "    (\"You are a supervisor tasked with managing a conversation between the\"\n",
        "    \" following workers:  Search, PaperInformationRetriever. Make sure to consult PaperInformationRetriever first. Given the following user request,\"\n",
        "    \" determine the subject to be researched and respond with the worker to act next. Each worker will perform a\"\n",
        "    \" task and respond with their results and status. \"\n",
        "    \" You should never ask your team to do anything beyond research. They are not required to write content or posts.\"\n",
        "    \" You should only pass tasks to workers that are specifically research focused.\"\n",
        "    \" When finished, respond with FINISH.\"),\n",
        "    [\"Search\", \"PaperInformationRetriever\"],\n",
        ")"
      ]
    },
    {
      "cell_type": "markdown",
      "metadata": {
        "id": "qohn0DcgB_U1"
      },
      "source": [
        "### Research Team Graph Creation\n",
        "\n",
        "Now that we have our research team agent nodes created, and our supervisor agent - let's finally construct our graph!\n",
        "\n",
        "We'll start by creating our base graph from our state, and then adding the nodes/agent we've created as nodes on our LangGraph."
      ]
    },
    {
      "cell_type": "code",
      "execution_count": 296,
      "metadata": {
        "id": "p0s2GAgJCN8G"
      },
      "outputs": [],
      "source": [
        "research_graph = StateGraph(ResearchTeamState)\n",
        "\n",
        "research_graph.add_node(\"Search\", search_node)\n",
        "research_graph.add_node(\"PaperInformationRetriever\", research_node)\n",
        "research_graph.add_node(\"supervisor\", supervisor_agent)"
      ]
    },
    {
      "cell_type": "markdown",
      "metadata": {
        "id": "33qixRGNCaAX"
      },
      "source": [
        "Now we can define our edges - include our conditional edge from our supervisor to our agent nodes.\n",
        "\n",
        "Notice how we're always routing our agent nodes back to our supervisor!"
      ]
    },
    {
      "cell_type": "code",
      "execution_count": 297,
      "metadata": {
        "id": "yYSJIhijsGyg"
      },
      "outputs": [],
      "source": [
        "research_graph.add_edge(\"Search\", \"supervisor\")\n",
        "research_graph.add_edge(\"PaperInformationRetriever\", \"supervisor\")\n",
        "research_graph.add_conditional_edges(\n",
        "    \"supervisor\",\n",
        "    lambda x: x[\"next\"],\n",
        "    {\"Search\": \"Search\", \"PaperInformationRetriever\": \"PaperInformationRetriever\", \"FINISH\": END},\n",
        ")"
      ]
    },
    {
      "cell_type": "markdown",
      "metadata": {
        "id": "hgGcuZzkCj1-"
      },
      "source": [
        "Now we can set our supervisor node as the entry point, and compile our graph!"
      ]
    },
    {
      "cell_type": "code",
      "execution_count": 298,
      "metadata": {
        "id": "1l-1I2Z3CnPX"
      },
      "outputs": [],
      "source": [
        "research_graph.set_entry_point(\"supervisor\")\n",
        "chain = research_graph.compile()"
      ]
    },
    {
      "cell_type": "markdown",
      "metadata": {
        "id": "GDwQpYTSEY13"
      },
      "source": [
        "#### Display Graph"
      ]
    },
    {
      "cell_type": "code",
      "execution_count": 28,
      "metadata": {
        "id": "pzRE5ldzFlLQ"
      },
      "outputs": [],
      "source": [
        "!pip install -qU python_mermaid"
      ]
    },
    {
      "cell_type": "code",
      "execution_count": 299,
      "metadata": {
        "colab": {
          "base_uri": "https://localhost:8080/",
          "height": 423
        },
        "id": "l8n6SXhpEa2b",
        "outputId": "7bdb0c10-9bfe-4b5b-a812-0b01ba66dda9"
      },
      "outputs": [
        {
          "data": {
            "image/jpeg": "[encoded data removed]",
            "text/plain": [
              "<IPython.core.display.Image object>"
            ]
          },
          "metadata": {},
          "output_type": "display_data"
        }
      ],
      "source": [
        "from IPython.display import Image, display\n",
        "\n",
        "try:\n",
        "    display(Image(chain.get_graph(xray=True).draw_mermaid_png()))\n",
        "except:\n",
        "    pass"
      ]
    },
    {
      "cell_type": "markdown",
      "metadata": {
        "id": "bfRvA2QfCqFL"
      },
      "source": [
        "The next part is key - since we need to \"wrap\" our LangGraph in order for it to be compatible in the following steps - let's create an LCEL chain out of it!\n",
        "\n",
        "This allows us to \"broadcast\" messages down to our Research Team LangGraph!"
      ]
    },
    {
      "cell_type": "code",
      "execution_count": 300,
      "metadata": {
        "id": "1G7hmEINCx3i"
      },
      "outputs": [],
      "source": [
        "def enter_chain(message: str):\n",
        "    results = {\n",
        "        \"messages\": [HumanMessage(content=message)],\n",
        "    }\n",
        "    return results\n",
        "\n",
        "research_chain = enter_chain | chain"
      ]
    },
    {
      "cell_type": "markdown",
      "metadata": {
        "id": "EGdoCdXWC7Pi"
      },
      "source": [
        "Now, finally, we can take it for a spin!"
      ]
    },
    {
      "cell_type": "code",
      "execution_count": 246,
      "metadata": {},
      "outputs": [
        {
          "name": "stdout",
          "output_type": "stream",
          "text": [
            "supervisor:     next: PaperInformationRetriever\n",
            "---\n",
            "PaperInformationRetriever:     messages: HumanMessage(content='🚀 Exciting News in AI! 🚀\n",
            "\n",
            "We are thrilled to announce the breakthrough detailed in the new paper \"Extending Llama-3’s Context Ten-Fold Overnight.\" This innovative work has successfully expanded the context length of the Llama-3-8B-Instruct model from 8K to an impressive 80K tokens!\n",
            "\n",
            "🔍 Key Highlights:\n",
            "- The extension was achieved through QLoRA fine-tuning, completed in just 8 hours using an 8xA800 (80G) GPU machine.\n",
            "- The extended model excels in NIHS and long-context language understanding tasks while preserving efficiency in shorter contexts.\n",
            "- A unique approach was used, generating 3.5K synthetic training samples via GPT-4.\n",
            "- The training dataset was enriched with a mix of data from RedPajama and LongAlpaca, totaling 20K instances.\n",
            "\n",
            "This advancement not only enhances the model's performance but also opens up new possibilities for applications requiring extensive context understanding.\n",
            "\n",
            "🔗 Stay tuned as all resources, including the model, data, and training code, will be made publicly available.\n",
            "\n",
            "Let's discuss how this can transform the future of AI applications! #AI #MachineLearning #DeepLearning #NLP #Innovation #Technology\n",
            "\n",
            "👉 Feel free to share your thoughts and insights!\n",
            "\n",
            "---\n",
            "Engage with this post to explore the potential impacts and applications of these advancements in AI!', name='PaperInformationRetriever')\n",
            "---\n",
            "supervisor:     next: FINISH\n",
            "---\n"
          ]
        }
      ],
      "source": [
        "for s in research_chain.stream(\n",
        "    \"Write a LinkedIn post on the paper `Extending Llama-3's Context Ten-Fold Overnight' Please use Search and PaperInformationRetriever!\", \n",
        "    {\"recursion_limit\": 10}\n",
        "):\n",
        "    if \"__end__\" not in s:\n",
        "        output = format_output(s, indent=0)\n",
        "        pretty_print(output)"
      ]
    },
    {
      "cell_type": "code",
      "execution_count": 311,
      "metadata": {},
      "outputs": [
        {
          "data": {
            "text/markdown": [
              "```markdown\n",
              "supervisor:     next:         PaperInformationRetriever\n",
              "```"
            ],
            "text/plain": [
              "<IPython.core.display.Markdown object>"
            ]
          },
          "metadata": {},
          "output_type": "display_data"
        },
        {
          "data": {
            "text/markdown": [
              "```markdown\n",
              "PaperInformationRetriever:     messages:             HumanMessage(content='I'm sorry for any misunderstanding, but as a research assistant, I am limited to providing specific information about the paper 'Extending Llama-3’s Context Ten-Fold Overnight' and am not able to create content such as a LinkedIn post. However, I can provide you with details about the paper using the retrieval augmented generation function if you specify what information you'd like to know.', name='PaperInformationRetriever')\n",
              "```"
            ],
            "text/plain": [
              "<IPython.core.display.Markdown object>"
            ]
          },
          "metadata": {},
          "output_type": "display_data"
        },
        {
          "data": {
            "text/markdown": [
              "```markdown\n",
              "supervisor:     next:         PaperInformationRetriever\n",
              "```"
            ],
            "text/plain": [
              "<IPython.core.display.Markdown object>"
            ]
          },
          "metadata": {},
          "output_type": "display_data"
        },
        {
          "data": {
            "text/markdown": [
              "```markdown\n",
              "PaperInformationRetriever:     messages:             HumanMessage(content='The paper 'Extending Llama-3’s Context Ten-Fold Overnight' discusses the process of extending the context length of Llama-3-8B-Instruct from 8K to 80K using QLoRA fine-tuning. The authors were able to achieve this in an efficient manner, with the training process taking only 8 hours on a specific GPU setup. \n",
              "\n",
              "The enhanced model showed improved performance across a variety of tasks, including NIHS, topic retrieval, and long-context language understanding. Despite these improvements, the model was able to maintain its original capabilities over short contexts.\n",
              "\n",
              "The extension was primarily achieved through 3.5K synthetic training samples generated by GPT-4. This demonstrates the potential of large language models (LLMs) to significantly extend their context length.\n",
              "\n",
              "The authors of the paper have planned to publicly release all resources related to their work, making it more accessible for further research and development in the field.', name='PaperInformationRetriever')\n",
              "```"
            ],
            "text/plain": [
              "<IPython.core.display.Markdown object>"
            ]
          },
          "metadata": {},
          "output_type": "display_data"
        },
        {
          "data": {
            "text/markdown": [
              "```markdown\n",
              "supervisor:     next:         Search\n",
              "```"
            ],
            "text/plain": [
              "<IPython.core.display.Markdown object>"
            ]
          },
          "metadata": {},
          "output_type": "display_data"
        },
        {
          "data": {
            "text/markdown": [
              "```markdown\n",
              "Search:     messages:             HumanMessage(content='The paper 'Extending Llama-3’s Context Ten-Fold Overnight' discusses the process of extending the context length of Llama-3-8B-Instruct from 8K to 80K using QLoRA fine-tuning. The authors were able to achieve this in an efficient manner, with the training process taking only 8 hours on a specific GPU setup.\n",
              "\n",
              "The enhanced model showed improved performance across a variety of tasks, including NIHS, topic retrieval, and long-context language understanding. Despite these improvements, the model was able to maintain its original capabilities over short contexts.\n",
              "\n",
              "The extension was primarily achieved through 3.5K synthetic training samples generated by GPT-4. This demonstrates the potential of large language models (LLMs) to significantly extend their context length.\n",
              "\n",
              "The authors of the paper have planned to publicly release all resources related to their work, making it more accessible for further research and development in the field.\n",
              "', name='Search')\n",
              "```"
            ],
            "text/plain": [
              "<IPython.core.display.Markdown object>"
            ]
          },
          "metadata": {},
          "output_type": "display_data"
        },
        {
          "data": {
            "text/markdown": [
              "```markdown\n",
              "supervisor:     next:         FINISH\n",
              "```"
            ],
            "text/plain": [
              "<IPython.core.display.Markdown object>"
            ]
          },
          "metadata": {},
          "output_type": "display_data"
        }
      ],
      "source": [
        "for s in research_chain.stream(\n",
        "    \"Write a LinkedIn post on the paper `Extending Llama-3's Context Ten-Fold Overnight' Please use Search and PaperInformationRetriever!\", \n",
        "    {\"recursion_limit\": 10}\n",
        "):\n",
        "    if \"__end__\" not in s:\n",
        "        output = format_output(s, indent=0)\n",
        "        pretty_print(output)"
      ]
    },
    {
      "cell_type": "markdown",
      "metadata": {
        "id": "DHAgsbwIIhwj"
      },
      "source": [
        "##### 🏗️ Activity #2:\n",
        "\n",
        "Using whatever drawing application you wish - please label the flow above on a diagram of your graph.\n",
        "<img src=\"./image.png\" alt=\"image\" width=\"400\"/>"
      ]
    },
    {
      "cell_type": "markdown",
      "metadata": {
        "id": "eH70eHGlJbq4"
      },
      "source": [
        "##### ❓ Question #2:\n",
        "\n",
        "How could you make sure your Agent uses specific tools that you wish it to use? Are there any ways to concretely set a flow through tools?\n",
        "\n",
        "Give supervisor_agent clear instruction on which agent it should choose under what scenario.\n",
        "Given detailed descriptions about search_agent and research_agent agent so the model knows which agent should be assigned the task to. \n",
        "When defining the tools (e.g., if it's user defined tools like a customer rag, give clear instructions in the rag_prompt)\n",
        "\n",
        "Also, you can assign the edges (connect agent) in a way you want to for example, if we connect research_agent to search_agent (instend of supervisor), once research_agent done its job, the search_agent will always get executed. "
      ]
    },
    {
      "cell_type": "markdown",
      "metadata": {
        "id": "ejsHCZZ2EmwM"
      },
      "source": [
        "## Document Writing Team - A LangGraph for Writing, Editing, and Planning a LinkedIn post.\n",
        "\n",
        "Let's run it all back, this time specifically creating tools, agent nodes, and a graph for planning, writing, and editing a LinkedIn post!"
      ]
    },
    {
      "cell_type": "markdown",
      "metadata": {
        "id": "4awQtZ-oFUN-"
      },
      "source": [
        "### Tool Creation\n",
        "\n",
        "Let's create some tools that will help us understand, open, work with, and edit documents to our liking!"
      ]
    },
    {
      "cell_type": "code",
      "execution_count": 107,
      "metadata": {
        "id": "ptXilgparOkq"
      },
      "outputs": [],
      "source": [
        "from pathlib import Path\n",
        "from tempfile import TemporaryDirectory\n",
        "from typing import Dict, Optional\n",
        "from typing_extensions import TypedDict\n",
        "import uuid\n",
        "import os\n",
        "\n",
        "os.makedirs('./content/data', exist_ok=True)\n",
        "\n",
        "def create_random_subdirectory():\n",
        "    random_id = str(uuid.uuid4())[:8]  # Use first 8 characters of a UUID\n",
        "    subdirectory_path = os.path.join('./content/data', random_id)\n",
        "    os.makedirs(subdirectory_path, exist_ok=True)\n",
        "    return subdirectory_path\n",
        "\n",
        "WORKING_DIRECTORY = Path(create_random_subdirectory())\n",
        "\n",
        "@tool\n",
        "def create_outline(\n",
        "    points: Annotated[List[str], \"List of main points or sections.\"],\n",
        "    file_name: Annotated[str, \"File path to save the outline.\"],\n",
        ") -> Annotated[str, \"Path of the saved outline file.\"]:\n",
        "    \"\"\"Create and save an outline.\"\"\"\n",
        "    with (WORKING_DIRECTORY / file_name).open(\"w\") as file:\n",
        "        for i, point in enumerate(points):\n",
        "            file.write(f\"{i + 1}. {point}\\n\")\n",
        "    return f\"Outline saved to {file_name}\"\n",
        "\n",
        "\n",
        "@tool\n",
        "def read_document(\n",
        "    file_name: Annotated[str, \"File path to save the document.\"],\n",
        "    start: Annotated[Optional[int], \"The start line. Default is 0\"] = None,\n",
        "    end: Annotated[Optional[int], \"The end line. Default is None\"] = None,\n",
        ") -> str:\n",
        "    \"\"\"Read the specified document.\"\"\"\n",
        "    with (WORKING_DIRECTORY / file_name).open(\"r\") as file:\n",
        "        lines = file.readlines()\n",
        "    if start is not None:\n",
        "        start = 0\n",
        "    return \"\\n\".join(lines[start:end])\n",
        "\n",
        "\n",
        "@tool\n",
        "def write_document(\n",
        "    content: Annotated[str, \"Text content to be written into the document.\"],\n",
        "    file_name: Annotated[str, \"File path to save the document.\"],\n",
        ") -> Annotated[str, \"Path of the saved document file.\"]:\n",
        "    \"\"\"Create and save a text document.\"\"\"\n",
        "    with (WORKING_DIRECTORY / file_name).open(\"w\") as file:\n",
        "        file.write(content)\n",
        "    return f\"Document saved to {file_name}\"\n",
        "\n",
        "\n",
        "@tool\n",
        "def edit_document(\n",
        "    file_name: Annotated[str, \"Path of the document to be edited.\"],\n",
        "    inserts: Annotated[\n",
        "        Dict[int, str],\n",
        "        \"Dictionary where key is the line number (1-indexed) and value is the text to be inserted at that line.\",\n",
        "    ] = {},\n",
        ") -> Annotated[str, \"Path of the edited document file.\"]:\n",
        "    \"\"\"Edit a document by inserting text at specific line numbers.\"\"\"\n",
        "\n",
        "    with (WORKING_DIRECTORY / file_name).open(\"r\") as file:\n",
        "        lines = file.readlines()\n",
        "\n",
        "    sorted_inserts = sorted(inserts.items())\n",
        "\n",
        "    for line_number, text in sorted_inserts:\n",
        "        if 1 <= line_number <= len(lines) + 1:\n",
        "            lines.insert(line_number - 1, text + \"\\n\")\n",
        "        else:\n",
        "            return f\"Error: Line number {line_number} is out of range.\"\n",
        "\n",
        "    with (WORKING_DIRECTORY / file_name).open(\"w\") as file:\n",
        "        file.writelines(lines)\n",
        "\n",
        "    return f\"Document edited and saved to {file_name}\""
      ]
    },
    {
      "cell_type": "markdown",
      "metadata": {
        "id": "n8yH1IAYK7nL"
      },
      "source": [
        "##### 🏗️ Activity #3:\n",
        "\n",
        "Describe, briefly, what each of these tools is doing in your own words.\n",
        "\n",
        "create_outline:\n",
        "This tool creates an outline based on a list of main points or sections. It saves the outline as a text file in specified path. Each point is numbered in the file.\n",
        "\n",
        "read_document:\n",
        "This tool reads the content of a document given the path. It allows us to specify a range of lines to read (start and end). If no range is specified, it reads the entire document.\n",
        "\n",
        "write_document:\n",
        "This tool writes content provided by the user and then saves it in the given path.\n",
        "\n",
        "edit_document:\n",
        "This tool edits an existing document by inserting new text at specific line numbers. We need to provide a dictionary where keys are line numbers and values are the text to be inserted at those lines. The edited document is then saved in the same file."
      ]
    },
    {
      "cell_type": "markdown",
      "metadata": {
        "id": "__Jw_XBIFwwa"
      },
      "source": [
        "### Document Writing State\n",
        "\n",
        "Just like with our Research Team state - we want to keep track of a few things, however this time - we also want to keep track of which files we've created - so let's add that here!"
      ]
    },
    {
      "cell_type": "code",
      "execution_count": 248,
      "metadata": {
        "id": "DoU2YwJRu7wD"
      },
      "outputs": [],
      "source": [
        "import operator\n",
        "from pathlib import Path\n",
        "\n",
        "class DocWritingState(TypedDict):\n",
        "    messages: Annotated[List[BaseMessage], operator.add]\n",
        "    team_members: str\n",
        "    next: str\n",
        "    current_files: str"
      ]
    },
    {
      "cell_type": "markdown",
      "metadata": {
        "id": "4p1kQShmGHCh"
      },
      "source": [
        "### Document Writing Prelude Function\n",
        "\n",
        "Since we have a working directory - we want to be clear about what our current working directory looks like - this helper function will allow us to do that cleanly!"
      ]
    },
    {
      "cell_type": "code",
      "execution_count": 249,
      "metadata": {
        "id": "G79mUggQGLVq"
      },
      "outputs": [],
      "source": [
        "def prelude(state):\n",
        "    written_files = []\n",
        "    if not WORKING_DIRECTORY.exists():\n",
        "        WORKING_DIRECTORY.mkdir()\n",
        "    try:\n",
        "        written_files = [\n",
        "            f.relative_to(WORKING_DIRECTORY) for f in WORKING_DIRECTORY.rglob(\"*\")\n",
        "        ]\n",
        "    except:\n",
        "        pass\n",
        "    if not written_files:\n",
        "        return {**state, \"current_files\": \"No files written.\"}\n",
        "    return {\n",
        "        **state,\n",
        "        \"current_files\": \"\\nBelow are files your team has written to the directory:\\n\"\n",
        "        + \"\\n\".join([f\" - {f}\" for f in written_files]),\n",
        "    }"
      ]
    },
    {
      "cell_type": "markdown",
      "metadata": {
        "id": "wbSre9agT9Gb"
      },
      "source": [
        "### Document Writing Node Creation\n",
        "\n"
      ]
    },
    {
      "cell_type": "code",
      "execution_count": 267,
      "metadata": {
        "id": "v7oso327T_wa"
      },
      "outputs": [],
      "source": [
        "doc_writer_agent = create_agent(\n",
        "    llm,\n",
        "    [write_document, edit_document, read_document],\n",
        "    (\"You are an expert writing technical LinkedIn posts.\\n\"\n",
        "    \"Below are files currently in your directory:\\n{current_files}\"\n",
        "    \"You may only speak as your role. You must not speak as any other roles.\"),\n",
        ")\n",
        "context_aware_doc_writer_agent = prelude | doc_writer_agent\n",
        "doc_writing_node = functools.partial(\n",
        "    agent_node, agent=context_aware_doc_writer_agent, name=\"DocWriter\"\n",
        ")\n",
        "\n",
        "note_taking_agent = create_agent(\n",
        "    llm,\n",
        "    [create_outline, read_document],\n",
        "    (\"You are an expert senior researcher tasked with writing a LinkedIn post outline and\"\n",
        "    \" taking notes to craft a LinkedIn post.\\n{current_files}\"\n",
        "    \"You may only speak as your role. You must not speak as any other roles.\"),\n",
        ")\n",
        "context_aware_note_taking_agent = prelude | note_taking_agent\n",
        "note_taking_node = functools.partial(\n",
        "    agent_node, agent=context_aware_note_taking_agent, name=\"NoteTaker\"\n",
        ")\n",
        "\n",
        "copy_editor_agent = create_agent(\n",
        "    llm,\n",
        "    [write_document, edit_document, read_document],\n",
        "    (\"You are an expert copy editor who focuses on fixing grammar, spelling, and tone issues\\n\"\n",
        "    \"Below are files currently in your directory:\\n{current_files}\"\n",
        "    \"You may only speak as your role. You must not speak as any other roles.\"),\n",
        ")\n",
        "context_aware_copy_editor_agent = prelude | copy_editor_agent\n",
        "copy_editing_node = functools.partial(\n",
        "    agent_node, agent=context_aware_copy_editor_agent, name=\"CopyEditor\"\n",
        ")\n",
        "\n",
        "dopeness_editor_agent = create_agent(\n",
        "    llm,\n",
        "    [write_document, edit_document, read_document],\n",
        "    (\"You are an expert in dopeness, litness, coolness, etc - you edit the document to make sure it's dope.\"\n",
        "    \"Below are files currently in your directory:\\n{current_files}\"\n",
        "    \"You may only speak as your role. You must not speak as any other roles.\"),\n",
        ")\n",
        "context_aware_dopeness_editor_agent = prelude | dopeness_editor_agent\n",
        "dopeness_node = functools.partial(\n",
        "    agent_node, agent=context_aware_dopeness_editor_agent, name=\"DopenessEditor\"\n",
        ")\n",
        "\n",
        "doc_writing_supervisor = create_team_supervisor(\n",
        "    llm,\n",
        "    (\"You are a supervisor tasked with managing a conversation between the\"\n",
        "    \" following workers: {team_members}. You should always verify the technical\"\n",
        "    \" contents after any edits are made. \"\n",
        "    \"Given the following user request,\"\n",
        "    \" respond with the worker to act next. Each worker will perform a\"\n",
        "    \" task and respond with their results and status. When each team is finished,\"\n",
        "    \" you must respond with FINISH.\"),\n",
        "    [\"DocWriter\", \"NoteTaker\", \"DopenessEditor\", \"CopyEditor\"],\n",
        ")"
      ]
    },
    {
      "cell_type": "markdown",
      "metadata": {
        "id": "AUiNMpJBGXN0"
      },
      "source": [
        "### Document Writing Team LangGraph Construction\n",
        "\n",
        "This part is almost exactly the same (with a few extra nodes) as our Research Team LangGraph construction - so we'll leave it as one block!"
      ]
    },
    {
      "cell_type": "code",
      "execution_count": 272,
      "metadata": {
        "id": "Q6n8A1ytxVTv"
      },
      "outputs": [],
      "source": [
        "authoring_graph = StateGraph(DocWritingState)\n",
        "authoring_graph.add_node(\"DocWriter\", doc_writing_node)\n",
        "authoring_graph.add_node(\"NoteTaker\", note_taking_node)\n",
        "authoring_graph.add_node(\"CopyEditor\", copy_editing_node)\n",
        "authoring_graph.add_node(\"DopenessEditor\", dopeness_node)\n",
        "authoring_graph.add_node(\"supervisor\", doc_writing_supervisor)\n",
        "\n",
        "# authoring_graph.add_edge(\"DocWriter\", \"supervisor\")\n",
        "# authoring_graph.add_edge(\"NoteTaker\", \"supervisor\")\n",
        "# authoring_graph.add_edge(\"CopyEditor\", \"supervisor\")\n",
        "# authoring_graph.add_edge(\"DopenessEditor\", \"supervisor\")\n",
        "\n",
        "authoring_graph.add_edge(\"DocWriter\", \"NoteTaker\")\n",
        "authoring_graph.add_edge(\"NoteTaker\", \"CopyEditor\")\n",
        "authoring_graph.add_edge(\"CopyEditor\", \"DopenessEditor\")\n",
        "authoring_graph.add_edge(\"DopenessEditor\", \"supervisor\")\n",
        "\n",
        "\n",
        "\n",
        "authoring_graph.add_conditional_edges(\n",
        "    \"supervisor\",\n",
        "    lambda x: x[\"next\"],\n",
        "    {\n",
        "        \"DocWriter\": \"DocWriter\",\n",
        "        \"NoteTaker\": \"NoteTaker\",\n",
        "        \"CopyEditor\" : \"CopyEditor\",\n",
        "        \"DopenessEditor\" : \"DopenessEditor\",\n",
        "        \"FINISH\": END,\n",
        "    },\n",
        ")\n",
        "\n",
        "authoring_graph.set_entry_point(\"supervisor\")\n",
        "chain_linkedin = authoring_graph.compile()"
      ]
    },
    {
      "cell_type": "markdown",
      "metadata": {
        "id": "Zx-EKGkHKUBO"
      },
      "source": [
        "#### Display Graph"
      ]
    },
    {
      "cell_type": "code",
      "execution_count": 273,
      "metadata": {},
      "outputs": [
        {
          "data": {
            "image/jpeg": "[encoded data removed]",
            "text/plain": [
              "<IPython.core.display.Image object>"
            ]
          },
          "metadata": {},
          "output_type": "display_data"
        }
      ],
      "source": [
        "from IPython.display import Image, display\n",
        "\n",
        "try:\n",
        "    display(Image(chain_linkedin.get_graph(xray=True).draw_mermaid_png()))\n",
        "except:\n",
        "    pass"
      ]
    },
    {
      "cell_type": "code",
      "execution_count": 256,
      "metadata": {
        "colab": {
          "base_uri": "https://localhost:8080/",
          "height": 423
        },
        "id": "AZdOb3GZKSM7",
        "outputId": "74490792-5ba5-43fd-e28d-28c4740c52a8"
      },
      "outputs": [
        {
          "data": {
            "image/jpeg": "[encoded data removed]",
            "text/plain": [
              "<IPython.core.display.Image object>"
            ]
          },
          "metadata": {},
          "output_type": "display_data"
        }
      ],
      "source": [
        "from IPython.display import Image, display\n",
        "\n",
        "try:\n",
        "    display(Image(chain_linkedin.get_graph(xray=True).draw_mermaid_png()))\n",
        "except:\n",
        "    pass"
      ]
    },
    {
      "cell_type": "markdown",
      "metadata": {
        "id": "yB_rOw1hGpwd"
      },
      "source": [
        "Just as before - we'll need to create an \"interface\" between the level above, and our graph."
      ]
    },
    {
      "cell_type": "code",
      "execution_count": 274,
      "metadata": {
        "id": "G-RbbCKoG_nt"
      },
      "outputs": [],
      "source": [
        "def enter_chain(message: str, members: List[str]):\n",
        "    results = {\n",
        "        \"messages\": [HumanMessage(content=message)],\n",
        "        \"team_members\": \", \".join(members),\n",
        "    }\n",
        "    return results\n",
        "\n",
        "authoring_chain = (\n",
        "    functools.partial(enter_chain, members=authoring_graph.nodes)\n",
        "    | authoring_graph.compile()\n",
        ")"
      ]
    },
    {
      "cell_type": "markdown",
      "metadata": {
        "id": "GgyhpTrRNgQd"
      },
      "source": [
        "Now we can test this out!\n",
        "\n",
        "> NOTE: It is possible you may see an error here - rerun the cell to clear."
      ]
    },
    {
      "cell_type": "code",
      "execution_count": 280,
      "metadata": {},
      "outputs": [
        {
          "name": "stdout",
          "output_type": "stream",
          "text": [
            "{'supervisor': {'next': 'DocWriter'}}\n",
            "---\n",
            "{'DocWriter': {'messages': [HumanMessage(content='I have created an outline for a short LinkedIn post on Linear Regression and saved it to the file \"LinkedIn_Post_Outline.txt\". The outline includes an introduction to Linear Regression, an explanation of the concept, its application, and its importance in Data Science, followed by a conclusion and a call to action.', name='DocWriter')]}}\n",
            "---\n",
            "{'NoteTaker': {'messages': [HumanMessage(content='The outline for the short LinkedIn post on Linear Regression has been successfully saved to the file named \"LinkedIn_Post_Outline.txt\". The outline includes key points such as an introduction to Linear Regression, its concept explanation, its application, its importance in Data Science, a conclusion, and a call to action.', name='NoteTaker')]}}\n",
            "---\n",
            "{'CopyEditor': {'messages': [HumanMessage(content='The outline for a short LinkedIn post on Linear Regression has been written and saved to the file \"LinkedIn_Post_Outline.txt\". This outline includes the following sections: Introduction to Linear Regression, Explanation of the Concept, Application of Linear Regression, Importance in Data Science, Conclusion, and Call to Action.', name='CopyEditor')]}}\n",
            "---\n",
            "{'DopenessEditor': {'messages': [HumanMessage(content='The document containing the outline for a short LinkedIn post on Linear Regression has been saved successfully to the file \"LinkedIn_Post_Outline.txt\". It includes sections such as Introduction to Linear Regression, Explanation of the Concept, Application of Linear Regression, Importance in Data Science, Conclusion, and Call to Action. It\\'s all set and ready to be transformed into a lit piece of content!', name='DopenessEditor')]}}\n",
            "---\n",
            "{'supervisor': {'next': 'FINISH'}}\n",
            "---\n"
          ]
        }
      ],
      "source": [
        "for s in authoring_chain.stream(\n",
        "    \"Write an outline for for a short LinkedIn post on Linear Regression and write it to disk.\",\n",
        "    {\"recursion_limit\": 100},\n",
        "):\n",
        "    if \"__end__\" not in s:\n",
        "        print(s)\n",
        "        print(\"---\")"
      ]
    },
    {
      "cell_type": "code",
      "execution_count": 255,
      "metadata": {
        "colab": {
          "base_uri": "https://localhost:8080/"
        },
        "id": "IWUxv4XDx3kg",
        "outputId": "1d626a44-3ad2-44dc-fe12-7850777d062f"
      },
      "outputs": [
        {
          "name": "stdout",
          "output_type": "stream",
          "text": [
            "{'supervisor': {'next': 'DocWriter'}}\n",
            "---\n",
            "{'DocWriter': {'messages': [HumanMessage(content=\"I've created and saved an outline for a LinkedIn post on Linear Regression. This outline includes an introduction to the topic, key concepts, applications, and a conclusion to wrap up the discussion.\", name='DocWriter')]}}\n",
            "---\n",
            "{'supervisor': {'next': 'FINISH'}}\n",
            "---\n"
          ]
        }
      ],
      "source": [
        "for s in authoring_chain.stream(\n",
        "    \"Write an outline for for a short LinkedIn post on Linear Regression and write it to disk.\",\n",
        "    {\"recursion_limit\": 100},\n",
        "):\n",
        "    if \"__end__\" not in s:\n",
        "        print(s)\n",
        "        print(\"---\")"
      ]
    },
    {
      "cell_type": "markdown",
      "metadata": {
        "id": "zpW2R9SUHGUq"
      },
      "source": [
        "## Meta-Supervisor\n",
        "\n",
        "Finally, now that we have our two LangGraph agents (some of which are already multi-agent), we can build a supervisor that sits above all of them!\n",
        "\n",
        "The final process, surprisingly, is quite straight forward!\n",
        "\n",
        "Let's jump in!\n",
        "\n",
        "First off - we'll need to create our supervisor agent node."
      ]
    },
    {
      "cell_type": "code",
      "execution_count": 303,
      "metadata": {
        "id": "wkpxeUf9ygKp"
      },
      "outputs": [],
      "source": [
        "from langchain_core.messages import AIMessage, BaseMessage, HumanMessage\n",
        "from langchain_openai.chat_models import ChatOpenAI\n",
        "\n",
        "\n",
        "llm = ChatOpenAI(model=\"gpt-4\")\n",
        "\n",
        "supervisor_node = create_team_supervisor(\n",
        "    llm,\n",
        "    \"You are a supervisor tasked with managing a conversation between the\"\n",
        "    \" following teams: {team_members}. Given the following user request,\"\n",
        "    \" respond with the worker to act next. Each worker will perform a\"\n",
        "    \" task and respond with their results and status. When all workers are finished,\"\n",
        "    \" you must respond with FINISH.\",\n",
        "    [\"Research team\", \"LinkedIn team\"],\n",
        ")"
      ]
    },
    {
      "cell_type": "markdown",
      "metadata": {
        "id": "hUvOh_xWIKig"
      },
      "source": [
        "We'll also create our new state - as well as some methods to help us navigate the new state and the subgraphs.\n",
        "\n",
        "> NOTE: We only pass the most recent message from the parent graph to the subgraph, and we only extract the most recent message from the subgraph to include in the state of the parent graph."
      ]
    },
    {
      "cell_type": "code",
      "execution_count": 304,
      "metadata": {
        "id": "O7HJ8MF0yh_i"
      },
      "outputs": [],
      "source": [
        "class State(TypedDict):\n",
        "    messages: Annotated[List[BaseMessage], operator.add]\n",
        "    next: str\n",
        "\n",
        "def get_last_message(state: State) -> str:\n",
        "    return state[\"messages\"][-1].content\n",
        "\n",
        "def join_graph(response: dict):\n",
        "    return {\"messages\": [response[\"messages\"][-1]]}"
      ]
    },
    {
      "cell_type": "markdown",
      "metadata": {
        "id": "B5RHao1sIanG"
      },
      "source": [
        "Next, we'll create our base graph.\n",
        "\n",
        "Notice how each node we're adding is *AN ENTIRE LANGGRAPH AGENT* (wrapped into an LCEL chain with our helper functions above)."
      ]
    },
    {
      "cell_type": "code",
      "execution_count": 305,
      "metadata": {
        "id": "PfCWABCMIaFy"
      },
      "outputs": [],
      "source": [
        "super_graph = StateGraph(State)\n",
        "\n",
        "super_graph.add_node(\"Research team\", get_last_message | research_chain | join_graph)\n",
        "super_graph.add_node(\n",
        "    \"LinkedIn team\", get_last_message | authoring_chain | join_graph\n",
        ")\n",
        "super_graph.add_node(\"supervisor\", supervisor_node)"
      ]
    },
    {
      "cell_type": "markdown",
      "metadata": {
        "id": "dpwpUXMtI62E"
      },
      "source": [
        "Next, we'll create our edges!\n",
        "\n",
        "This process is completely idenctical to what we've seen before - just addressing the LangGraph subgraph nodes instead of individual nodes."
      ]
    },
    {
      "cell_type": "code",
      "execution_count": 306,
      "metadata": {
        "id": "tLtjRuUYI-fx"
      },
      "outputs": [],
      "source": [
        "super_graph.add_edge(\"Research team\", \"supervisor\")\n",
        "super_graph.add_edge(\"LinkedIn team\", \"supervisor\")\n",
        "super_graph.add_conditional_edges(\n",
        "    \"supervisor\",\n",
        "    lambda x: x[\"next\"],\n",
        "    {\n",
        "        \"LinkedIn team\": \"LinkedIn team\",\n",
        "        \"Research team\": \"Research team\",\n",
        "        \"FINISH\": END,\n",
        "    },\n",
        ")\n",
        "super_graph.set_entry_point(\"supervisor\")\n",
        "super_graph = super_graph.compile()"
      ]
    },
    {
      "cell_type": "code",
      "execution_count": 315,
      "metadata": {},
      "outputs": [
        {
          "data": {
            "image/jpeg": "[encoded data removed]",
            "text/plain": [
              "<IPython.core.display.Image object>"
            ]
          },
          "metadata": {},
          "output_type": "display_data"
        }
      ],
      "source": [
        "from IPython.display import Image, display\n",
        "\n",
        "try:\n",
        "    display(Image(super_graph.get_graph(xray=True).draw_mermaid_png()))\n",
        "except:\n",
        "    pass"
      ]
    },
    {
      "cell_type": "markdown",
      "metadata": {
        "id": "K1KMfFqgJKw8"
      },
      "source": [
        "That's it!\n",
        "\n",
        "Now we can finally use our full agent!"
      ]
    },
    {
      "cell_type": "code",
      "execution_count": 310,
      "metadata": {},
      "outputs": [
        {
          "data": {
            "text/markdown": [
              "```markdown\n",
              "supervisor:     next:         Research team\n",
              "```"
            ],
            "text/plain": [
              "<IPython.core.display.Markdown object>"
            ]
          },
          "metadata": {},
          "output_type": "display_data"
        },
        {
          "name": "stdout",
          "output_type": "stream",
          "text": [
            "\n",
            "---\n",
            "\n"
          ]
        },
        {
          "data": {
            "text/markdown": [
              "```markdown\n",
              "Research team:     messages:             HumanMessage(content='The paper 'Extending Llama-3’s Context Ten-Fold Overnight' mainly focuses on the following points:\n",
              "\n",
              "1. The authors have successfully extended the context length of the Llama-3-8B-Instruct model from 8K to 80K tokens using QLoRA fine-tuning. This extension was accomplished in just 8 hours on an 8xA800 (80G) GPU machine.\n",
              "\n",
              "2. The extended model showed better performance across various evaluation tasks, including NIHS, topic retrieval, and long-context language understanding, while maintaining its original capabilities for short contexts.\n",
              "\n",
              "3. The authors achieved this extension mainly by generating 3.5K synthetic training samples using GPT-4, demonstrating the potential of large language models to significantly extend their context length with relatively few additional training samples.\n",
              "\n",
              "4. The training dataset was composed of 20K instances, which included 5K instances from RedPajama and 12K instruction tuning instances from LongAlpaca, to mitigate forgetting.\n",
              "\n",
              "5. The model was fine-tuned using QLoRA, applying it to various projections and the embedding layer, with specific parameters set for efficient training.\n",
              "\n",
              "6. The authors have indicated an intention to publicly release all resources related to their work, including data, model, data generation pipeline, and training code, showing a commitment to open research.\n",
              "\n",
              "7. The paper includes a comparison of the zero-shot performance of their model against other baselines, noting that while the long-context models may underperform the original Llama-3-8B-Instruct in short-context tasks, their performance remains superior to other open-source models of similar scale. \n",
              "\n",
              "The paper emphasizes the advancements in extending context lengths for large language models and the implications for their performance and usability.', name='PaperInformationRetriever')\n",
              "```"
            ],
            "text/plain": [
              "<IPython.core.display.Markdown object>"
            ]
          },
          "metadata": {},
          "output_type": "display_data"
        },
        {
          "name": "stdout",
          "output_type": "stream",
          "text": [
            "\n",
            "---\n",
            "\n"
          ]
        },
        {
          "data": {
            "text/markdown": [
              "```markdown\n",
              "supervisor:     next:         LinkedIn team\n",
              "```"
            ],
            "text/plain": [
              "<IPython.core.display.Markdown object>"
            ]
          },
          "metadata": {},
          "output_type": "display_data"
        },
        {
          "name": "stdout",
          "output_type": "stream",
          "text": [
            "\n",
            "---\n",
            "\n"
          ]
        },
        {
          "data": {
            "text/markdown": [
              "```markdown\n",
              "LinkedIn team:     messages:             HumanMessage(content='Alright, let's add some dopeness to this LinkedIn post. Here's the dope version:\n",
              "\n",
              "🚀 The 'Extending Llama-3’s Context Ten-Fold Overnight' study is breaking barriers, people!\n",
              "\n",
              "1️⃣ These brainiacs cranked up the context length of the Llama-3-8B-Instruct model from 8K to a massive 80K tokens using some nifty QLoRA fine-tuning. And get this, they did it in a mere 8 hours on an 8xA800 (80G) GPU machine. Talk about speed!\n",
              "\n",
              "2️⃣ The beefed-up model is acing various evaluation tasks like NIHS, topic retrieval, and long-context language understanding, all while keeping its original short context skills sharp. \n",
              "\n",
              "3️⃣ They pulled this off by generating 3.5K synthetic training samples with GPT-4. This just goes to show the untapped might of large language models.\n",
              "\n",
              "4️⃣ The training dataset was a blend of 20K instances, tossing in 5K instances from RedPajama and 12K instruction tuning instances from LongAlpaca to keep forgetting at bay.\n",
              "\n",
              "5️⃣ QLoRA was the secret sauce for fine-tuning the model, applying it to different projections and the embedding layer, all with parameters set for efficient training.\n",
              "\n",
              "6️⃣ These folks are all about open research, planning to roll out all resources related to their work to the public. \n",
              "\n",
              "7️⃣ The study also stacked up the zero-shot performance of their model against other baselines. While the long-context models may lag behind the original Llama-3-8B-Instruct in short-context tasks, they still leave other open-source models of the same scale in the dust.\n",
              "\n",
              "This study is a game-changer, pushing the boundaries in extending context lengths for large language models and revolutionizing their performance and usability. \n",
              "\n",
              "So, what's your take on the power of these large language models with extended context lengths? Let's get the convo started in the comments below. 🚀🔥', name='DopenessEditor')\n",
              "```"
            ],
            "text/plain": [
              "<IPython.core.display.Markdown object>"
            ]
          },
          "metadata": {},
          "output_type": "display_data"
        },
        {
          "name": "stdout",
          "output_type": "stream",
          "text": [
            "\n",
            "---\n",
            "\n"
          ]
        },
        {
          "data": {
            "text/markdown": [
              "```markdown\n",
              "supervisor:     next:         LinkedIn team\n",
              "```"
            ],
            "text/plain": [
              "<IPython.core.display.Markdown object>"
            ]
          },
          "metadata": {},
          "output_type": "display_data"
        },
        {
          "name": "stdout",
          "output_type": "stream",
          "text": [
            "\n",
            "---\n",
            "\n"
          ]
        },
        {
          "data": {
            "text/markdown": [
              "```markdown\n",
              "LinkedIn team:     messages:             HumanMessage(content='Done! I've added some dopeness to the LinkedIn post and saved it as \"LinkedIn_Post_Final.txt\". It should now stand out and engage the audience effectively. 🚀🔥', name='DopenessEditor')\n",
              "```"
            ],
            "text/plain": [
              "<IPython.core.display.Markdown object>"
            ]
          },
          "metadata": {},
          "output_type": "display_data"
        },
        {
          "name": "stdout",
          "output_type": "stream",
          "text": [
            "\n",
            "---\n",
            "\n"
          ]
        },
        {
          "data": {
            "text/markdown": [
              "```markdown\n",
              "supervisor:     next:         FINISH\n",
              "```"
            ],
            "text/plain": [
              "<IPython.core.display.Markdown object>"
            ]
          },
          "metadata": {},
          "output_type": "display_data"
        },
        {
          "name": "stdout",
          "output_type": "stream",
          "text": [
            "\n",
            "---\n",
            "\n"
          ]
        }
      ],
      "source": [
        "for s in super_graph.stream(\n",
        "    {\n",
        "        \"messages\": [\n",
        "            HumanMessage(\n",
        "                #content=\"Write a LinkedIn post on the paper 'Extending Llama-3’s Context Ten-Fold Overnight'. First consult the research team. Then make sure you consult the LinkedIn team, and check for copy editing and dopeness, and write the file to disk.\"\n",
        "                #content=\"Write a LinkedIn post about the paper 'Extending Llama-3’s Context Ten-Fold Overnight'. First consult the research team and ask what are the main takeaways of the paper. Then based on that, make sure you consult the LinkedIn team, and construct the post and check for copy editing and dopeness, and write the file to disk.\"            \n",
        "                content=\"Write a LinkedIn post about the paper `Extending Llama-3's Context Ten-Fold Overnight'. First consult the research team and ask what are the main takeaways of the paper. Then based on that, make sure you then consult the LinkedIn team, and construct the post and check for copy editing and dopeness, and write the file to disk.\" \n",
        "            )\n",
        "        ],\n",
        "    },\n",
        "    {\"recursion_limit\": 30},\n",
        "):\n",
        "    if \"__end__\" not in s:\n",
        "        # print(s)\n",
        "        # print(\"---\")\n",
        "        # print(format_output(s, indent=0))\n",
        "        # print(\"\\n---\\n\")\n",
        "\n",
        "        output = format_output(s, indent=0)\n",
        "        pretty_print(output)\n",
        "        print(\"\\n---\\n\")"
      ]
    },
    {
      "cell_type": "code",
      "execution_count": 309,
      "metadata": {},
      "outputs": [],
      "source": [
        "from typing import Any\n",
        "\n",
        "def format_output(data: Any, indent=0) -> str:\n",
        "    spacing = ' ' * indent\n",
        "    if isinstance(data, dict):\n",
        "        result = []\n",
        "        for key, value in data.items():\n",
        "            result.append(f\"{spacing}{key}: {format_output(value, indent + 4)}\")\n",
        "        return \"\\n\".join(result)\n",
        "    elif isinstance(data, list):\n",
        "        result = []\n",
        "        for item in data:\n",
        "            result.append(format_output(item, indent + 4))\n",
        "        return \"\\n\".join(result)\n",
        "    elif isinstance(data, BaseMessage):\n",
        "        return f\"{spacing}{type(data).__name__}(content='{data.content}', name='{data.name}')\"\n",
        "    else:\n",
        "        return f\"{spacing}{str(data)}\"\n",
        "\n",
        "def pretty_print(message: str) -> None:\n",
        "    display(Markdown(f\"```markdown\\n{message}\\n```\"))"
      ]
    },
    {
      "cell_type": "code",
      "execution_count": 221,
      "metadata": {
        "colab": {
          "base_uri": "https://localhost:8080/"
        },
        "id": "3M6wUDR-yk8s",
        "outputId": "c21fbc33-1031-400b-aaa2-ec799a23a682"
      },
      "outputs": [
        {
          "name": "stdout",
          "output_type": "stream",
          "text": [
            "{'supervisor': {'next': 'Research team'}}\n",
            "---\n",
            "{'Research team': {'messages': [HumanMessage(content=\"The paper 'Extending Llama-3’s Context Ten-Fold Overnight' discusses a significant leap in the capabilities of the Llama-3-8B-Instruct model. The researchers successfully extended the context length from 8K to an impressive 80K, all while retaining the model's original capabilities for shorter contexts. Remarkably, the process was efficiently completed in just 8 hours using an 8xA800 (80G) GPU machine. \\n\\nThe team achieved this extension primarily with the help of 3.5K synthetic training samples generated by GPT-4. This indicates the immense potential that large language models have in extending their context lengths beyond previously estimated limits.\\n\\nThe authors have committed to release all related resources, including data, model, and training code, to the public in the spirit of open collaboration. \\n\\nFor crafting a LinkedIn post, you can focus on the breakthrough of expanding the context length, the efficiency of the process, and the potential of large language models. Also, mention the team's commitment to open-source resources, which encourages collaborative advancements in the field. \\n\\nPlease note that this is a general summary. For copy-editing and finalizing the LinkedIn post, kindly consult with the respective teams and personnel.\", name='PaperInformationRetriever')]}}\n",
            "---\n",
            "{'supervisor': {'next': 'LinkedIn team'}}\n",
            "---\n",
            "{'LinkedIn team': {'messages': [HumanMessage(content='Alright, the LinkedIn post has been revised and saved as \"linkedin_post_llama3_extension_final_dope.txt\". The post now has a more engaging and energetic tone, making it pop with freshness and dopeness. It captures the excitement of the breakthrough, the speed of the process, and the open collaboration spirit of the team. The dopeness has been injected, and this post is now ready to rock LinkedIn! #AI #MachineLearning #OpenSource #Innovation #Collaboration #Advancement', name='DopenessEditor')]}}\n",
            "---\n",
            "{'supervisor': {'next': 'LinkedIn team'}}\n",
            "---\n",
            "{'LinkedIn team': {'messages': [HumanMessage(content='The final version of the post in \"linkedin_post_llama3_extension_final_dope.txt\" is grammatically correct, and the sentence structure is now smoother. The tone is engaging and energetic, and it should captivate the LinkedIn audience as intended. \\n\\nGreat teamwork, everyone! This post is now ready to be shared.', name='CopyEditor')]}}\n",
            "---\n",
            "{'supervisor': {'next': 'FINISH'}}\n",
            "---\n"
          ]
        }
      ],
      "source": [
        "for s in super_graph.stream(\n",
        "    {\n",
        "        \"messages\": [\n",
        "            HumanMessage(\n",
        "                content=\"Write a LinkedIn post on the paper 'Extending Llama-3’s Context Ten-Fold Overnight'. First consult the research team. Then make sure you consult the LinkedIn team, and check for copy editing and dopeness, and write the file to disk.\"\n",
        "            )\n",
        "        ],\n",
        "    },\n",
        "    {\"recursion_limit\": 30},\n",
        "):\n",
        "    if \"__end__\" not in s:\n",
        "        print(s)\n",
        "        print(\"---\")"
      ]
    },
    {
      "cell_type": "markdown",
      "metadata": {
        "id": "PuZAvSlJJpPP"
      },
      "source": [
        "## SAMPLE POST!"
      ]
    },
    {
      "cell_type": "markdown",
      "metadata": {
        "id": "lOEMCrXTJaxW"
      },
      "source": [
        "```\n",
        "A game-changing breakthrough in AI just touched down! The Llama-3-8B-Instruct model just went from cool to ultra-cool, extending its context length from 8K to a mind-blowing 80K. And guess what? It kept all its original capabilities for shorter contexts.\n",
        "\n",
        "Talk about speed? This upgrade was pulled off in only 8 hours using an 8xA800 (80G) GPU machine. Big ups to the 3.5K synthetic training samples generated by GPT-4 that made this possible. This shows how large language models are pushing boundaries and taking giant leaps in the game.\n",
        "\n",
        "Here's the dopest part: the squad is going all out, releasing all related resources including data, model, and training code, for everyone. This is how we move the needle, with open collaboration.\n",
        "\n",
        "For more deets on this cutting-edge breakthrough and further upgrades, hit up our dedicated teams. We've got the info, you bring the curiosity.\n",
        "\n",
        "#AI #MachineLearning #OpenSource #Innovation #Collaboration #Advancement\n",
        "```"
      ]
    }
  ],
  "metadata": {
    "colab": {
      "collapsed_sections": [
        "IDUnpEEl-L_F"
      ],
      "provenance": []
    },
    "kernelspec": {
      "display_name": "Python 3",
      "name": "python3"
    },
    "language_info": {
      "codemirror_mode": {
        "name": "ipython",
        "version": 3
      },
      "file_extension": ".py",
      "mimetype": "text/x-python",
      "name": "python",
      "nbconvert_exporter": "python",
      "pygments_lexer": "ipython3",
      "version": "3.11.9"
    }
  },
  "nbformat": 4,
  "nbformat_minor": 0
}
