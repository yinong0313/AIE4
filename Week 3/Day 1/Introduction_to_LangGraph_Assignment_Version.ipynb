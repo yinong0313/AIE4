{
  "cells": [
    {
      "cell_type": "markdown",
      "metadata": {
        "id": "gJXW_DgiSebM"
      },
      "source": [
        "# LangGraph and LangSmith - Agentic RAG Powered by LangChain\n",
        "\n",
        "In the following notebook we'll complete the following tasks:\n",
        "\n",
        "- 🤝 Breakout Room #1:\n",
        "  1. Install required libraries\n",
        "  2. Set Environment Variables\n",
        "  3. Creating our Tool Belt\n",
        "  4. Creating Our State\n",
        "  5. Creating and Compiling A Graph!\n",
        "\n",
        "  - 🤝 Breakout Room #2:\n",
        "  1. Evaluating the LangGraph Application with LangSmith\n",
        "  2. Adding Helpfulness Check and \"Loop\" Limits\n",
        "  3. LangGraph for the \"Patterns\" of GenAI"
      ]
    },
    {
      "cell_type": "markdown",
      "metadata": {
        "id": "djQ3nRAgoF67"
      },
      "source": [
        "# 🤝 Breakout Room #1"
      ]
    },
    {
      "cell_type": "markdown",
      "metadata": {
        "id": "e7pQDUhUnIo8"
      },
      "source": [
        "## Part 1: LangGraph - Building Cyclic Applications with LangChain\n",
        "\n",
        "LangGraph is a tool that leverages LangChain Expression Language to build coordinated multi-actor and stateful applications that includes cyclic behaviour.\n",
        "\n",
        "### Why Cycles?\n",
        "\n",
        "In essence, we can think of a cycle in our graph as a more robust and customizable loop. It allows us to keep our application agent-forward while still giving the powerful functionality of traditional loops.\n",
        "\n",
        "Due to the inclusion of cycles over loops, we can also compose rather complex flows through our graph in a much more readable and natural fashion. Effectively allowing us to recreate application flowcharts in code in an almost 1-to-1 fashion.\n",
        "\n",
        "### Why LangGraph?\n",
        "\n",
        "Beyond the agent-forward approach - we can easily compose and combine traditional \"DAG\" (directed acyclic graph) chains with powerful cyclic behaviour due to the tight integration with LCEL. This means it's a natural extension to LangChain's core offerings!"
      ]
    },
    {
      "cell_type": "markdown",
      "metadata": {
        "id": "3_fLDElOVoop"
      },
      "source": [
        "## Task 1:  Dependencies\n",
        "\n",
        "We'll first install all our required libraries."
      ]
    },
    {
      "cell_type": "code",
      "execution_count": 1,
      "metadata": {
        "id": "KaVwN269EttM"
      },
      "outputs": [],
      "source": [
        "!pip install -qU langchain langchain_openai langchain-community langgraph arxiv duckduckgo_search==5.3.1b1"
      ]
    },
    {
      "cell_type": "markdown",
      "metadata": {
        "id": "wujPjGJuoPwg"
      },
      "source": [
        "## Task 2: Environment Variables\n",
        "\n",
        "We'll want to set both our OpenAI API key and our LangSmith environment variables."
      ]
    },
    {
      "cell_type": "code",
      "execution_count": 2,
      "metadata": {
        "colab": {
          "base_uri": "https://localhost:8080/"
        },
        "id": "Jdh8CoVWHRvs",
        "outputId": "42b2ba5e-11ae-4f4d-e68e-77607bb794ad"
      },
      "outputs": [],
      "source": [
        "import os\n",
        "import getpass\n",
        "\n",
        "os.environ[\"OPENAI_API_KEY\"] = getpass.getpass(\"OpenAI API Key:\")"
      ]
    },
    {
      "cell_type": "code",
      "execution_count": 3,
      "metadata": {
        "colab": {
          "base_uri": "https://localhost:8080/"
        },
        "id": "Nv0glIDyHmRt",
        "outputId": "30aa2260-50f1-4abf-b305-eed0ee1b9008"
      },
      "outputs": [],
      "source": [
        "from uuid import uuid4\n",
        "\n",
        "os.environ[\"LANGCHAIN_TRACING_V2\"] = \"true\"\n",
        "os.environ[\"LANGCHAIN_PROJECT\"] = f\"AIE4 - LangGraph - {uuid4().hex[0:8]}\"\n",
        "os.environ[\"LANGCHAIN_API_KEY\"] = getpass.getpass(\"LangSmith API Key: \")"
      ]
    },
    {
      "cell_type": "code",
      "execution_count": 4,
      "metadata": {},
      "outputs": [
        {
          "data": {
            "text/plain": [
              "'AIE4 - LangGraph - d1b82ae5'"
            ]
          },
          "execution_count": 4,
          "metadata": {},
          "output_type": "execute_result"
        }
      ],
      "source": [
        "os.environ[\"LANGCHAIN_PROJECT\"]"
      ]
    },
    {
      "cell_type": "code",
      "execution_count": 35,
      "metadata": {},
      "outputs": [],
      "source": [
        "from IPython.display import display, Markdown\n",
        "\n",
        "def pretty_print(message: str) -> None:\n",
        "    display(Markdown(f\"```markdown\\n{message}\\n```\"))"
      ]
    },
    {
      "cell_type": "markdown",
      "metadata": {
        "id": "sBRyQmEAVzua"
      },
      "source": [
        "## Task 3: Creating our Tool Belt\n",
        "\n",
        "As is usually the case, we'll want to equip our agent with a toolbelt to help answer questions and add external knowledge.\n",
        "\n",
        "There's a tonne of tools in the [LangChain Community Repo](https://github.com/langchain-ai/langchain/tree/master/libs/community/langchain_community/tools) but we'll stick to a couple just so we can observe the cyclic nature of LangGraph in action!\n",
        "\n",
        "We'll leverage:\n",
        "\n",
        "- [Duck Duck Go Web Search](https://github.com/langchain-ai/langchain/tree/master/libs/community/langchain_community/tools/ddg_search)\n",
        "- [Arxiv](https://github.com/langchain-ai/langchain/tree/master/libs/community/langchain_community/tools/arxiv)"
      ]
    },
    {
      "cell_type": "markdown",
      "metadata": {
        "id": "2k6n_Dob2F46"
      },
      "source": [
        "####🏗️ Activity #1:\n",
        "\n",
        "Please add the tools to use into our toolbelt.\n",
        "\n",
        "> NOTE: Each tool in our toolbelt should be a method."
      ]
    },
    {
      "cell_type": "code",
      "execution_count": 44,
      "metadata": {
        "id": "lAxaSvlfIeOg"
      },
      "outputs": [],
      "source": [
        "from langchain_community.tools.ddg_search import DuckDuckGoSearchRun\n",
        "from langchain_community.tools.arxiv.tool import ArxivQueryRun\n",
        "\n",
        "tool_belt = [\n",
        "    DuckDuckGoSearchRun(),\n",
        "    ArxivQueryRun()\n",
        "]"
      ]
    },
    {
      "cell_type": "markdown",
      "metadata": {
        "id": "VI-C669ZYVI5"
      },
      "source": [
        "### Model\n",
        "\n",
        "Now we can set-up our model! We'll leverage the familiar OpenAI model suite for this example - but it's not *necessary* to use with LangGraph. LangGraph supports all models - though you might not find success with smaller models - as such, they recommend you stick with:\n",
        "\n",
        "- OpenAI's GPT-3.5 and GPT-4\n",
        "- Anthropic's Claude\n",
        "- Google's Gemini\n",
        "\n",
        "> NOTE: Because we're leveraging the OpenAI function calling API - we'll need to use OpenAI *for this specific example* (or any other service that exposes an OpenAI-style function calling API."
      ]
    },
    {
      "cell_type": "code",
      "execution_count": 45,
      "metadata": {
        "id": "QkNS8rNZJs4z"
      },
      "outputs": [],
      "source": [
        "from langchain_openai import ChatOpenAI\n",
        "\n",
        "model = ChatOpenAI(model=\"gpt-4o\", temperature=0)"
      ]
    },
    {
      "cell_type": "markdown",
      "metadata": {
        "id": "Ugkj3GzuZpQv"
      },
      "source": [
        "Now that we have our model set-up, let's \"put on the tool belt\", which is to say: We'll bind our LangChain formatted tools to the model in an OpenAI function calling format."
      ]
    },
    {
      "cell_type": "code",
      "execution_count": 46,
      "metadata": {
        "id": "4OdMqFafZ_0V"
      },
      "outputs": [],
      "source": [
        "model = model.bind_tools(tool_belt)"
      ]
    },
    {
      "cell_type": "markdown",
      "metadata": {
        "id": "ERzuGo6W18Lr"
      },
      "source": [
        "#### ❓ Question #1:\n",
        "\n",
        "How does the model determine which tool to use?\n",
        "\n",
        "The LLM is provided with context - why and how to call the tool, descprition of each tool, payload of the tool, LLM then will make decisions on which tools to execute. "
      ]
    },
    {
      "cell_type": "markdown",
      "metadata": {
        "id": "_296Ub96Z_H8"
      },
      "source": [
        "## Task 4: Putting the State in Stateful\n",
        "\n",
        "Earlier we used this phrasing:\n",
        "\n",
        "`coordinated multi-actor and stateful applications`\n",
        "\n",
        "So what does that \"stateful\" mean?\n",
        "\n",
        "To put it simply - we want to have some kind of object which we can pass around our application that holds information about what the current situation (state) is. Since our system will be constructed of many parts moving in a coordinated fashion - we want to be able to ensure we have some commonly understood idea of that state.\n",
        "\n",
        "LangGraph leverages a `StatefulGraph` which uses an `AgentState` object to pass information between the various nodes of the graph.\n",
        "\n",
        "There are more options than what we'll see below - but this `AgentState` object is one that is stored in a `TypedDict` with the key `messages` and the value is a `Sequence` of `BaseMessages` that will be appended to whenever the state changes.\n",
        "\n",
        "Let's think about a simple example to help understand exactly what this means (we'll simplify a great deal to try and clearly communicate what state is doing):\n",
        "\n",
        "1. We initialize our state object:\n",
        "  - `{\"messages\" : []}`\n",
        "2. Our user submits a query to our application.\n",
        "  - New State: `HumanMessage(#1)`\n",
        "  - `{\"messages\" : [HumanMessage(#1)}`\n",
        "3. We pass our state object to an Agent node which is able to read the current state. It will use the last `HumanMessage` as input. It gets some kind of output which it will add to the state.\n",
        "  - New State: `AgentMessage(#1, additional_kwargs {\"function_call\" : \"WebSearchTool\"})`\n",
        "  - `{\"messages\" : [HumanMessage(#1), AgentMessage(#1, ...)]}`\n",
        "4. We pass our state object to a \"conditional node\" (more on this later) which reads the last state to determine if we need to use a tool - which it can determine properly because of our provided object!"
      ]
    },
    {
      "cell_type": "code",
      "execution_count": 47,
      "metadata": {
        "id": "mxL9b_NZKUdL"
      },
      "outputs": [],
      "source": [
        "from typing import TypedDict, Annotated\n",
        "from langgraph.graph.message import add_messages\n",
        "import operator\n",
        "from langchain_core.messages import BaseMessage\n",
        "\n",
        "class AgentState(TypedDict):\n",
        "  messages: Annotated[list, add_messages]"
      ]
    },
    {
      "cell_type": "markdown",
      "metadata": {
        "id": "vWsMhfO9grLu"
      },
      "source": [
        "## Task 5: It's Graphing Time!\n",
        "\n",
        "Now that we have state, and we have tools, and we have an LLM - we can finally start making our graph!\n",
        "\n",
        "Let's take a second to refresh ourselves about what a graph is in this context.\n",
        "\n",
        "Graphs, also called networks in some circles, are a collection of connected objects.\n",
        "\n",
        "The objects in question are typically called nodes, or vertices, and the connections are called edges.\n",
        "\n",
        "Let's look at a simple graph.\n",
        "\n",
        "![image](https://i.imgur.com/2NFLnIc.png)\n",
        "\n",
        "Here, we're using the coloured circles to represent the nodes and the yellow lines to represent the edges. In this case, we're looking at a fully connected graph - where each node is connected by an edge to each other node.\n",
        "\n",
        "If we were to think about nodes in the context of LangGraph - we would think of a function, or an LCEL runnable.\n",
        "\n",
        "If we were to think about edges in the context of LangGraph - we might think of them as \"paths to take\" or \"where to pass our state object next\".\n",
        "\n",
        "Let's create some nodes and expand on our diagram.\n",
        "\n",
        "> NOTE: Due to the tight integration with LCEL - we can comfortably create our nodes in an async fashion!"
      ]
    },
    {
      "cell_type": "code",
      "execution_count": 48,
      "metadata": {
        "id": "91flJWtZLUrl"
      },
      "outputs": [],
      "source": [
        "from langgraph.prebuilt import ToolNode\n",
        "\n",
        "def call_model(state):\n",
        "  messages = state[\"messages\"]\n",
        "  response = model.invoke(messages)\n",
        "  return {\"messages\" : [response]}\n",
        "\n",
        "tool_node = ToolNode(tool_belt)"
      ]
    },
    {
      "cell_type": "markdown",
      "metadata": {
        "id": "2bwR7MgWj3Wg"
      },
      "source": [
        "Now we have two total nodes. We have:\n",
        "\n",
        "- `call_model` is a node that will...well...call the model\n",
        "- `tool_node` is a node which can call a tool\n",
        "\n",
        "Let's start adding nodes! We'll update our diagram along the way to keep track of what this looks like!\n"
      ]
    },
    {
      "cell_type": "code",
      "execution_count": 49,
      "metadata": {
        "id": "_vF4_lgtmQNo"
      },
      "outputs": [],
      "source": [
        "from langgraph.graph import StateGraph, END\n",
        "\n",
        "uncompiled_graph = StateGraph(AgentState)\n",
        "\n",
        "uncompiled_graph.add_node(\"agent\", call_model)\n",
        "uncompiled_graph.add_node(\"action\", tool_node)"
      ]
    },
    {
      "cell_type": "markdown",
      "metadata": {
        "id": "b8CjRlbVmRpW"
      },
      "source": [
        "Let's look at what we have so far:\n",
        "\n",
        "![image](https://i.imgur.com/md7inqG.png)"
      ]
    },
    {
      "cell_type": "markdown",
      "metadata": {
        "id": "uaXHpPeSnOWC"
      },
      "source": [
        "Next, we'll add our entrypoint. All our entrypoint does is indicate which node is called first."
      ]
    },
    {
      "cell_type": "code",
      "execution_count": 50,
      "metadata": {
        "id": "YGCbaYqRnmiw"
      },
      "outputs": [],
      "source": [
        "uncompiled_graph.set_entry_point(\"agent\")"
      ]
    },
    {
      "cell_type": "markdown",
      "metadata": {
        "id": "BUsfGoSpoF9U"
      },
      "source": [
        "![image](https://i.imgur.com/wNixpJe.png)"
      ]
    },
    {
      "cell_type": "markdown",
      "metadata": {
        "id": "0Q_pQgHmoW0M"
      },
      "source": [
        "Now we want to build a \"conditional edge\" which will use the output state of a node to determine which path to follow.\n",
        "\n",
        "We can help conceptualize this by thinking of our conditional edge as a conditional in a flowchart!\n",
        "\n",
        "Notice how our function simply checks if there is a \"function_call\" kwarg present.\n",
        "\n",
        "Then we create an edge where the origin node is our agent node and our destination node is *either* the action node or the END (finish the graph).\n",
        "\n",
        "It's important to highlight that the dictionary passed in as the third parameter (the mapping) should be created with the possible outputs of our conditional function in mind. In this case `should_continue` outputs either `\"end\"` or `\"continue\"` which are subsequently mapped to the action node or the END node."
      ]
    },
    {
      "cell_type": "code",
      "execution_count": 51,
      "metadata": {
        "id": "1BZgb81VQf9o"
      },
      "outputs": [],
      "source": [
        "def should_continue(state):\n",
        "  last_message = state[\"messages\"][-1]\n",
        "\n",
        "  if last_message.tool_calls:\n",
        "    return \"action\"\n",
        "\n",
        "  return END\n",
        "\n",
        "uncompiled_graph.add_conditional_edges(\n",
        "    \"agent\",\n",
        "    should_continue\n",
        ")"
      ]
    },
    {
      "cell_type": "markdown",
      "metadata": {
        "id": "-Cvhcf4jp0Ce"
      },
      "source": [
        "Let's visualize what this looks like.\n",
        "\n",
        "![image](https://i.imgur.com/8ZNwKI5.png)"
      ]
    },
    {
      "cell_type": "markdown",
      "metadata": {
        "id": "yKCjWJCkrJb9"
      },
      "source": [
        "Finally, we can add our last edge which will connect our action node to our agent node. This is because we *always* want our action node (which is used to call our tools) to return its output to our agent!"
      ]
    },
    {
      "cell_type": "code",
      "execution_count": 52,
      "metadata": {
        "id": "UvcgbHf1rIXZ"
      },
      "outputs": [],
      "source": [
        "uncompiled_graph.add_edge(\"action\", \"agent\")"
      ]
    },
    {
      "cell_type": "markdown",
      "metadata": {
        "id": "EiWDwBQtrw7Z"
      },
      "source": [
        "Let's look at the final visualization.\n",
        "\n",
        "![image](https://i.imgur.com/NWO7usO.png)"
      ]
    },
    {
      "cell_type": "markdown",
      "metadata": {
        "id": "KYqDpErlsCsu"
      },
      "source": [
        "All that's left to do now is to compile our workflow - and we're off!"
      ]
    },
    {
      "cell_type": "code",
      "execution_count": 53,
      "metadata": {
        "id": "zt9-KS8DpzNx"
      },
      "outputs": [],
      "source": [
        "compiled_graph = uncompiled_graph.compile()"
      ]
    },
    {
      "cell_type": "markdown",
      "metadata": {
        "id": "xhNWIwBL1W4Q"
      },
      "source": [
        "#### ❓ Question #2:\n",
        "\n",
        "Is there any specific limit to how many times we can cycle?\n",
        "\n",
        "If not, how could we impose a limit to the number of cycles?\n",
        "\n",
        "we can set a counter in the state that tracks how many times the agent has cycled. Once the counter reaches a predefined limit, in the 'should_continue' function, we return to END.\n",
        "\n",
        "Someting like this:"
      ]
    },
    {
      "cell_type": "code",
      "execution_count": 38,
      "metadata": {},
      "outputs": [],
      "source": [
        "#sudo code, commented out in case run it by accident\n",
        "# class AgentState(TypedDict):\n",
        "#   messages: Annotated[list, add_messages]\n",
        "#   cycle_count: int\n",
        "\n",
        "# CYCLE_LIMIT = some_number\n",
        "\n",
        "# def call_model(state):\n",
        "#     messages = state[\"messages\"]\n",
        "#     response = model.invoke(messages)\n",
        "#     state[\"cycle_count\"] += 1\n",
        "#     return {\"messages\": [response], \"cycle_count\": state[\"cycle_count\"]}"
      ]
    },
    {
      "cell_type": "markdown",
      "metadata": {
        "id": "VEYcTShCsPaa"
      },
      "source": [
        "## Using Our Graph\n",
        "\n",
        "Now that we've created and compiled our graph - we can call it *just as we'd call any other* `Runnable`!\n",
        "\n",
        "Let's try out a few examples to see how it fairs:"
      ]
    },
    {
      "cell_type": "code",
      "execution_count": 39,
      "metadata": {},
      "outputs": [
        {
          "name": "stdout",
          "output_type": "stream",
          "text": [
            "Receiving update from node: 'agent'\n"
          ]
        },
        {
          "data": {
            "text/markdown": [
              "```markdown\n",
              "[AIMessage(content='', additional_kwargs={'tool_calls': [{'id': 'call_Ngdom7DqqVEeQw1k5rMHuVvy', 'function': {'arguments': '{\"query\":\"current captain of the Winnipeg Jets 2023\"}', 'name': 'duckduckgo_search'}, 'type': 'function'}], 'refusal': None}, response_metadata={'token_usage': {'completion_tokens': 25, 'prompt_tokens': 156, 'total_tokens': 181}, 'model_name': 'gpt-4o-2024-05-13', 'system_fingerprint': 'fp_fde2829a40', 'finish_reason': 'tool_calls', 'logprobs': None}, id='run-869b4d15-a1fb-4140-a046-44105298b2de-0', tool_calls=[{'name': 'duckduckgo_search', 'args': {'query': 'current captain of the Winnipeg Jets 2023'}, 'id': 'call_Ngdom7DqqVEeQw1k5rMHuVvy', 'type': 'tool_call'}], usage_metadata={'input_tokens': 156, 'output_tokens': 25, 'total_tokens': 181})]\n",
              "```"
            ],
            "text/plain": [
              "<IPython.core.display.Markdown object>"
            ]
          },
          "metadata": {},
          "output_type": "display_data"
        },
        {
          "name": "stdout",
          "output_type": "stream",
          "text": [
            "\n",
            "\n",
            "\n",
            "Receiving update from node: 'action'\n"
          ]
        },
        {
          "data": {
            "text/markdown": [
              "```markdown\n",
              "[ToolMessage(content=\"The Winnipeg Jets feel they are heading in the right direction despite an early exit from the 2024 Stanley Cup Playoffs. The Jets equaled the winningest season in their history in 2023-24 ... The Winnipeg Jets are battling with Cole Perfetti right now, who's still unsigned. Perfetti had a lot of ups and downs last year, most notably going through a 23-game goalless streak, prompting ... It has become a matter of fact that McGroarty wouldn't sign with Winnipeg because they refused to guarantee him an NHL roster spot. Reportedly, a few trades over the past six months have fallen through because of McGroarty's demand until Penguins president of hockey operations/GM Kyle Dubas ponied up his top prospect, 2023 first-round pick Brayden Yager. Owen Sound Attack GM Dale DeGray said Colby Barlow informed the team a few days before training camp that he's decided to stay and prepare in the Toronto area before the Winnipeg Jets meet for camp next month. The Jets selected Barlow in the first round and signed him to an entry-level contract in the summer of 2023. Rutger McGroarty, a new prospect for the Pittsburgh Penguins, explained why he requested a trade from the Winnipeg Jets.The 20-year-old forward, who was picked 14th overall by the Jets in 2022 ...\", name='duckduckgo_search', tool_call_id='call_Ngdom7DqqVEeQw1k5rMHuVvy')]\n",
              "```"
            ],
            "text/plain": [
              "<IPython.core.display.Markdown object>"
            ]
          },
          "metadata": {},
          "output_type": "display_data"
        },
        {
          "name": "stdout",
          "output_type": "stream",
          "text": [
            "\n",
            "\n",
            "\n",
            "Receiving update from node: 'agent'\n"
          ]
        },
        {
          "data": {
            "text/markdown": [
              "```markdown\n",
              "[AIMessage(content='As of now, the Winnipeg Jets do not have a designated captain. The team has been operating without a captain since Blake Wheeler was stripped of the captaincy before the 2022-2023 season.', additional_kwargs={'refusal': None}, response_metadata={'token_usage': {'completion_tokens': 42, 'prompt_tokens': 466, 'total_tokens': 508}, 'model_name': 'gpt-4o-2024-05-13', 'system_fingerprint': 'fp_157b3831f5', 'finish_reason': 'stop', 'logprobs': None}, id='run-948a6f8d-850b-4865-89ee-13aa75428f24-0', usage_metadata={'input_tokens': 466, 'output_tokens': 42, 'total_tokens': 508})]\n",
              "```"
            ],
            "text/plain": [
              "<IPython.core.display.Markdown object>"
            ]
          },
          "metadata": {},
          "output_type": "display_data"
        },
        {
          "name": "stdout",
          "output_type": "stream",
          "text": [
            "\n",
            "\n",
            "\n"
          ]
        }
      ],
      "source": [
        "from langchain_core.messages import HumanMessage\n",
        "\n",
        "inputs = {\"messages\" : [HumanMessage(content=\"Who is the current captain of the Winnipeg Jets?\")]}\n",
        "\n",
        "async for chunk in compiled_graph.astream(inputs, stream_mode=\"updates\"):\n",
        "    for node, values in chunk.items():\n",
        "        print(f\"Receiving update from node: '{node}'\")\n",
        "        pretty_print(values[\"messages\"])\n",
        "        #pretty_print(values[\"messages\"][0].content)\n",
        "        print(\"\\n\\n\")"
      ]
    },
    {
      "cell_type": "markdown",
      "metadata": {
        "id": "DBHnUtLSscRr"
      },
      "source": [
        "Let's look at what happened:\n",
        "\n",
        "1. Our state object was populated with our request\n",
        "2. The state object was passed into our entry point (agent node) and the agent node added an `AIMessage` to the state object and passed it along the conditional edge\n",
        "3. The conditional edge received the state object, found the \"tool_calls\" `additional_kwarg`, and sent the state object to the action node\n",
        "4. The action node added the response from the OpenAI function calling endpoint to the state object and passed it along the edge to the agent node\n",
        "5. The agent node added a response to the state object and passed it along the conditional edge\n",
        "6. The conditional edge received the state object, could not find the \"tool_calls\" `additional_kwarg` and passed the state object to END where we see it output in the cell above!\n",
        "\n",
        "Now let's look at an example that shows a multiple tool usage - all with the same flow!"
      ]
    },
    {
      "cell_type": "code",
      "execution_count": 54,
      "metadata": {},
      "outputs": [
        {
          "name": "stdout",
          "output_type": "stream",
          "text": [
            "Receiving update from node: 'agent'\n"
          ]
        },
        {
          "data": {
            "text/markdown": [
              "```markdown\n",
              "[AIMessage(content='', additional_kwargs={'tool_calls': [{'id': 'call_pvRWYfQJjyqpgrIWiUKvScC2', 'function': {'arguments': '{\"query\": \"QLoRA\"}', 'name': 'arxiv'}, 'type': 'function'}, {'id': 'call_oMmkApt0m9CIjC0cmikBHl7a', 'function': {'arguments': '{\"query\": \"latest tweet\"}', 'name': 'duckduckgo_search'}, 'type': 'function'}], 'refusal': None}, response_metadata={'token_usage': {'completion_tokens': 50, 'prompt_tokens': 173, 'total_tokens': 223}, 'model_name': 'gpt-4o-2024-05-13', 'system_fingerprint': 'fp_157b3831f5', 'finish_reason': 'tool_calls', 'logprobs': None}, id='run-c5c51b2c-832a-4f3d-aef6-eac9274e6559-0', tool_calls=[{'name': 'arxiv', 'args': {'query': 'QLoRA'}, 'id': 'call_pvRWYfQJjyqpgrIWiUKvScC2', 'type': 'tool_call'}, {'name': 'duckduckgo_search', 'args': {'query': 'latest tweet'}, 'id': 'call_oMmkApt0m9CIjC0cmikBHl7a', 'type': 'tool_call'}], usage_metadata={'input_tokens': 173, 'output_tokens': 50, 'total_tokens': 223})]\n",
              "```"
            ],
            "text/plain": [
              "<IPython.core.display.Markdown object>"
            ]
          },
          "metadata": {},
          "output_type": "display_data"
        },
        {
          "name": "stdout",
          "output_type": "stream",
          "text": [
            "\n",
            "\n",
            "\n",
            "Receiving update from node: 'action'\n",
            "Tool Used: arxiv\n"
          ]
        },
        {
          "data": {
            "text/markdown": [
              "```markdown\n",
              "[ToolMessage(content='Published: 2023-05-23\\nTitle: QLoRA: Efficient Finetuning of Quantized LLMs\\nAuthors: Tim Dettmers, Artidoro Pagnoni, Ari Holtzman, Luke Zettlemoyer\\nSummary: We present QLoRA, an efficient finetuning approach that reduces memory usage\\nenough to finetune a 65B parameter model on a single 48GB GPU while preserving\\nfull 16-bit finetuning task performance. QLoRA backpropagates gradients through\\na frozen, 4-bit quantized pretrained language model into Low Rank\\nAdapters~(LoRA). Our best model family, which we name Guanaco, outperforms all\\nprevious openly released models on the Vicuna benchmark, reaching 99.3% of the\\nperformance level of ChatGPT while only requiring 24 hours of finetuning on a\\nsingle GPU. QLoRA introduces a number of innovations to save memory without\\nsacrificing performance: (a) 4-bit NormalFloat (NF4), a new data type that is\\ninformation theoretically optimal for normally distributed weights (b) double\\nquantization to reduce the average memory footprint by quantizing the\\nquantization constants, and (c) paged optimziers to manage memory spikes. We\\nuse QLoRA to finetune more than 1,000 models, providing a detailed analysis of\\ninstruction following and chatbot performance across 8 instruction datasets,\\nmultiple model types (LLaMA, T5), and model scales that would be infeasible to\\nrun with regular finetuning (e.g. 33B and 65B parameter models). Our results\\nshow that QLoRA finetuning on a small high-quality dataset leads to\\nstate-of-the-art results, even when using smaller models than the previous\\nSoTA. We provide a detailed analysis of chatbot performance based on both human\\nand GPT-4 evaluations showing that GPT-4 evaluations are a cheap and reasonable\\nalternative to human evaluation. Furthermore, we find that current chatbot\\nbenchmarks are not trustworthy to accurately evaluate the performance levels of\\nchatbots. A lemon-picked analysis demonstrates where Guanaco fails compared to\\nChatGPT. We release all of our models and code, including CUDA kernels for\\n4-bit training.\\n\\nPublished: 2024-05-27\\nTitle: Accurate LoRA-Finetuning Quantization of LLMs via Information Retention\\nAuthors: Haotong Qin, Xudong Ma, Xingyu Zheng, Xiaoyang Li, Yang Zhang, Shouda Liu, Jie Luo, Xianglong Liu, Michele Magno\\nSummary: The LoRA-finetuning quantization of LLMs has been extensively studied to\\nobtain accurate yet compact LLMs for deployment on resource-constrained\\nhardware. However, existing methods cause the quantized LLM to severely degrade\\nand even fail to benefit from the finetuning of LoRA. This paper proposes a\\nnovel IR-QLoRA for pushing quantized LLMs with LoRA to be highly accurate\\nthrough information retention. The proposed IR-QLoRA mainly relies on two\\ntechnologies derived from the perspective of unified information: (1)\\nstatistics-based Information Calibration Quantization allows the quantized\\nparameters of LLM to retain original information accurately; (2)\\nfinetuning-based Information Elastic Connection makes LoRA utilizes elastic\\nrepresentation transformation with diverse information. Comprehensive\\nexperiments show that IR-QLoRA can significantly improve accuracy across LLaMA\\nand LLaMA2 families under 2-4 bit-widths, e.g., 4- bit LLaMA-7B achieves 1.4%\\nimprovement on MMLU compared with the state-of-the-art methods. The significant\\nperformance gain requires only a tiny 0.31% additional time consumption,\\nrevealing the satisfactory efficiency of our IR-QLoRA. We highlight that\\nIR-QLoRA enjoys excellent versatility, compatible with various frameworks\\n(e.g., NormalFloat and Integer quantization) and brings general accuracy gains.\\nThe code is available at https://github.com/htqin/ir-qlora.\\n\\nPublished: 2024-06-12\\nTitle: Exploring Fact Memorization and Style Imitation in LLMs Using QLoRA: An Experimental Study and Quality Assessment Methods\\nAuthors: Eugene Vyborov, Oleksiy Osypenko, Serge Sotnyk\\nSummary: There are various methods for adapting LLMs to different domains. The most\\ncommon methods are prompting, finetuning, and RAG. In this w', name='arxiv', tool_call_id='call_pvRWYfQJjyqpgrIWiUKvScC2'), ToolMessage(content=\"While Clark was the focal point after the win, a 2021 tweet by Reese resurfaced. Ostensibly, the tweet suggests LeBron wasn't helping the Lakers in Game 6 of their first-round postseason series ... Vice President Kamala Harris condemned former President Donald Trump and his campaign for their actions on Monday at the Arlington National Cemetery in a new post on X. Harris accused Trump of ... Twitter. The latest Twitter news and updates. Twitter is a social networking service, primarily microblogging but also a picture and video sharing service, founded by Jack Dorsey, Noah Glass, Biz ... Twitter Blue's Chaotic Revamp: The overhaul of the subscription service that lets users buy verified badges was the first big test for Musk as the platform's new owner. It didn't go well . Twitter has added a warning to one of President Donald Trump's tweets about protests in Minneapolis. The company says the tweet violated the platform's rules about glorifying violence. U.S ...\", name='duckduckgo_search', tool_call_id='call_oMmkApt0m9CIjC0cmikBHl7a')]\n",
              "```"
            ],
            "text/plain": [
              "<IPython.core.display.Markdown object>"
            ]
          },
          "metadata": {},
          "output_type": "display_data"
        },
        {
          "name": "stdout",
          "output_type": "stream",
          "text": [
            "\n",
            "\n",
            "\n",
            "Receiving update from node: 'agent'\n"
          ]
        },
        {
          "data": {
            "text/markdown": [
              "```markdown\n",
              "[AIMessage(content='', additional_kwargs={'tool_calls': [{'id': 'call_2D01nuepHj8X2xNnBjalxCMR', 'function': {'arguments': '{\"query\": \"Tim Dettmers latest tweet\"}', 'name': 'duckduckgo_search'}, 'type': 'function'}, {'id': 'call_S3iO58HSRIAAxSpssjKc7YSH', 'function': {'arguments': '{\"query\": \"Artidoro Pagnoni latest tweet\"}', 'name': 'duckduckgo_search'}, 'type': 'function'}, {'id': 'call_VOR108Zy9ZRHS7PmsQsNqEC2', 'function': {'arguments': '{\"query\": \"Ari Holtzman latest tweet\"}', 'name': 'duckduckgo_search'}, 'type': 'function'}, {'id': 'call_e7A9sfqKkPzVa01GZBqbleyz', 'function': {'arguments': '{\"query\": \"Luke Zettlemoyer latest tweet\"}', 'name': 'duckduckgo_search'}, 'type': 'function'}], 'refusal': None}, response_metadata={'token_usage': {'completion_tokens': 108, 'prompt_tokens': 1395, 'total_tokens': 1503}, 'model_name': 'gpt-4o-2024-05-13', 'system_fingerprint': 'fp_157b3831f5', 'finish_reason': 'tool_calls', 'logprobs': None}, id='run-5edb56a5-0bbe-46b0-85e3-dc60313b52c2-0', tool_calls=[{'name': 'duckduckgo_search', 'args': {'query': 'Tim Dettmers latest tweet'}, 'id': 'call_2D01nuepHj8X2xNnBjalxCMR', 'type': 'tool_call'}, {'name': 'duckduckgo_search', 'args': {'query': 'Artidoro Pagnoni latest tweet'}, 'id': 'call_S3iO58HSRIAAxSpssjKc7YSH', 'type': 'tool_call'}, {'name': 'duckduckgo_search', 'args': {'query': 'Ari Holtzman latest tweet'}, 'id': 'call_VOR108Zy9ZRHS7PmsQsNqEC2', 'type': 'tool_call'}, {'name': 'duckduckgo_search', 'args': {'query': 'Luke Zettlemoyer latest tweet'}, 'id': 'call_e7A9sfqKkPzVa01GZBqbleyz', 'type': 'tool_call'}], usage_metadata={'input_tokens': 1395, 'output_tokens': 108, 'total_tokens': 1503})]\n",
              "```"
            ],
            "text/plain": [
              "<IPython.core.display.Markdown object>"
            ]
          },
          "metadata": {},
          "output_type": "display_data"
        },
        {
          "name": "stdout",
          "output_type": "stream",
          "text": [
            "\n",
            "\n",
            "\n",
            "Receiving update from node: 'action'\n",
            "Tool Used: duckduckgo_search\n"
          ]
        },
        {
          "data": {
            "text/markdown": [
              "```markdown\n",
              "[ToolMessage(content=\"Allen School Ph.D. student Tim Dettmers accepted the grand prize for QLoRA, a novel approach to finetuning pretrained models that significantly reduces the amount of GPU memory required — from over 780GB to less than 48GB — to finetune a 65B parameter model. With QLoRA, the largest publicly available models can be finetuned on a single ... They show Dettmers explaining to EleutherAI researchers that Meta lawyers had concerns with using The Pile, an AI training dataset created by EleutherAI that includes Books3. The plaintiffs' attorneys have since redacted the quotes from the amended complaint, but screenshots of the chats have continued to circulate on LinkedIn, according to ... Her new position hasn't been finalized. ... — Tim Dettmers is joining Ai2 as an AI researcher. Dettmers specializes in efficient deep learning at the intersection of machine learning, NLP, and ... Tim Dettmers, Ruslan A. Svirschevski, Vage Egiazarian, Denis Kuznedelev, ... (SpQR), a new compressed format and quantization technique that enables for the first time \\\\emph{near-lossless} compression of LLMs across model scales while reaching similar compression levels to previous methods. SpQR works by identifying and isolating \\\\emph{outlier ... Essentially, a CPU is a latency-optimized device while GPUs are bandwidth-optimized devices. If a CPU is a race car, a GPU is a cargo truck. The main job in deep learning is to fetch and move ...\", name='duckduckgo_search', tool_call_id='call_2D01nuepHj8X2xNnBjalxCMR'), ToolMessage(content=\"QLoRA introduces multiple innovations designed to reduce memory use without sacrificing performance: (1) 4-bit NormalFloat, an information theoretically optimal quantization data type for normally distributed data that yields better empirical results than 4-bit Integers and 4-bit Floats.(2) Double Quantization, a method that quantizes the quantization constants, saving an average of about 0.37 ... We present QLoRA, an efficient finetuning approach that reduces memory usage enough to finetune a 65B parameter model on a single 48GB GPU while preserving full 16-bit finetuning task performance. QLoRA backpropagates gradients through a frozen, 4-bit quantized pretrained language model into Low Rank Adapters~(LoRA). Our best model family, which we name Guanaco, outperforms all previous openly ... Artidoro Pagnoni. artidoro. Follow. mrm8488's profile picture Weyaxi's profile picture nezubn's profile picture. ... artidoro/model-tvergho. Updated Nov 18, 2023. artidoro/model-vinaic. Updated Nov 18, 2023. artidoro/model-vinaia. Updated Nov 18, 2023. datasets. None public yet. Company Recent studies have highlighted the promising performance of LLMs in various NLP tasks, particularly in the zero-shot and few-shot settings. Notably, GPT-3 has shown competitive performance and, in some cases, even outperformed state-of-the-art models in few-shot in-context learning (Brown et al., 2020b; Zhong et al., 2023).However, when it comes to sentiment analysis tasks, some studies have ... Pagnoni Celebrates 175th Year. Pagnoni has been a leading light in the world of HPL, short-cycle and compact presses for the value-added panel product industry. Stephen Powney interviews director Michele Pagnoni about the company's developments and his view on markets.\", name='duckduckgo_search', tool_call_id='call_S3iO58HSRIAAxSpssjKc7YSH'), ToolMessage(content='We need to get back to where they can be punished for knowingly lying on air like that. He 100% said that and he knows it. — SaltyGoat (@SaltyGoat17) August 29, 2024 If his network were honest ... The heated on-air dispute last night between MSNBC\\'s Ari Melber and Donald Trump campaign adviser Corey Lewandowski didn\\'t end with Wednesday\\'s segment: Today, Lewandowski tweeted a video in ... Ari Melber warns Trump campaign advisor Corey Lewandowski he \\'will be potentially in a defamation situation\\' on Wednesday\\'s episode of The Beat (MSNBC) \"I did not say that. That is a false ... MSNBC host Ari Melber, during an interview with Trump campaign adviser Corey Lewandowski on Wednesday, threatened him with a defamation lawsuit for quoting the anchor calling the former President ... While in Mumbai, Ari would stay at the Holtzman\\'s home each evening. \"Their house was like a second home to me,\" explains Ari, who has travelled to India forty times. The last time that Ari was at the Holtzman\\'s Chabad House was two months ago, where he stayed for a week and participated in prayers and Torah lectures given by Rabbi ...', name='duckduckgo_search', tool_call_id='call_VOR108Zy9ZRHS7PmsQsNqEC2'), ToolMessage(content=\"Luke Zettlemoyer is a research manager and site lead for FAIR Seattle. He is also a Professor in the Allen School of Computer Science & Engineering at the University of Washington. His research is in empirical computational semantics, where the goal is to build models that recover representations of the meaning of natural language text. \\ufeff Twitter \\ufeff Reddit. Join our list for notifications and early access to events ... About this Episode. Today we're joined by Luke Zettlemoyer, professor at University of Washington and a research manager at Meta. In our conversation with Luke, we cover multimodal generative AI, the effect of data on models, and the significance of open ... Today we're joined by Luke Zettlemoyer, professor at University of Washington and a research manager at Meta. In our conversation with Luke, we cover multimodal generative AI, the effect of data on models, and the significance of open source and open science. We explore the grounding problem, the need for visual grounding and embodiment in Evaluating the factuality of long-form text generated by large language models (LMs) is nontrivial because (1) generations often contain a mixture of... Luke Zettlemoyer, Omer Levy. Abstract. We introduce Transfusion, a recipe for training a multi-modal model over discrete and continuous data. Transfusion combines the language modeling loss function (next token prediction) with diffusion to train a single transformer over mixed-modality sequences. We pretrain multiple Transfusion models up to ...\", name='duckduckgo_search', tool_call_id='call_e7A9sfqKkPzVa01GZBqbleyz')]\n",
              "```"
            ],
            "text/plain": [
              "<IPython.core.display.Markdown object>"
            ]
          },
          "metadata": {},
          "output_type": "display_data"
        },
        {
          "name": "stdout",
          "output_type": "stream",
          "text": [
            "\n",
            "\n",
            "\n",
            "Receiving update from node: 'agent'\n"
          ]
        },
        {
          "data": {
            "text/markdown": [
              "```markdown\n",
              "[AIMessage(content='Here are the latest updates and tweets related to the authors of the QLoRA paper:\\n\\n### Tim Dettmers\\n- **Latest Update**: Tim Dettmers is joining Ai2 as an AI researcher. He specializes in efficient deep learning at the intersection of machine learning, NLP, and more.\\n- **Latest Tweet**: No specific tweet found, but recent discussions involve his work on QLoRA and efficient deep learning techniques.\\n\\n### Artidoro Pagnoni\\n- **Latest Update**: Artidoro Pagnoni has been involved in various NLP tasks and has updated several models recently.\\n- **Latest Tweet**: No specific tweet found, but his recent work includes updates to models like `model-tvergho` and `model-vinaic`.\\n\\n### Ari Holtzman\\n- **Latest Update**: Ari Holtzman has been involved in discussions and interviews related to political and social issues.\\n- **Latest Tweet**: No specific tweet found, but recent mentions include his involvement in interviews and discussions on MSNBC.\\n\\n### Luke Zettlemoyer\\n- **Latest Update**: Luke Zettlemoyer is a research manager and site lead for FAIR Seattle, and a professor at the University of Washington. His research focuses on empirical computational semantics.\\n- **Latest Tweet**: No specific tweet found, but recent discussions include his work on multimodal generative AI and the significance of open source and open science.\\n\\nFor more detailed and specific tweets, you might want to check their individual Twitter profiles directly.', additional_kwargs={'refusal': None}, response_metadata={'token_usage': {'completion_tokens': 308, 'prompt_tokens': 2813, 'total_tokens': 3121}, 'model_name': 'gpt-4o-2024-05-13', 'system_fingerprint': 'fp_157b3831f5', 'finish_reason': 'stop', 'logprobs': None}, id='run-83aa0906-0bfc-462d-a045-305439bafcb2-0', usage_metadata={'input_tokens': 2813, 'output_tokens': 308, 'total_tokens': 3121})]\n",
              "```"
            ],
            "text/plain": [
              "<IPython.core.display.Markdown object>"
            ]
          },
          "metadata": {},
          "output_type": "display_data"
        },
        {
          "name": "stdout",
          "output_type": "stream",
          "text": [
            "\n",
            "\n",
            "\n"
          ]
        }
      ],
      "source": [
        "inputs = {\"messages\" : [HumanMessage(content=\"Search Arxiv for the QLoRA paper, then search each of the authors to find out their latest Tweet using DuckDuckGo.\")]}\n",
        "\n",
        "async for chunk in compiled_graph.astream(inputs, stream_mode=\"updates\"):\n",
        "    for node, values in chunk.items():\n",
        "        print(f\"Receiving update from node: '{node}'\")\n",
        "        if node == \"action\":\n",
        "          print(f\"Tool Used: {values['messages'][0].name}\")\n",
        "        pretty_print(values[\"messages\"])\n",
        "\n",
        "        print(\"\\n\\n\")"
      ]
    },
    {
      "cell_type": "markdown",
      "metadata": {
        "id": "CXzDlZVz1Hnf"
      },
      "source": [
        "####🏗️ Activity #2:\n",
        "\n",
        "Please write out the steps the agent took to arrive at the correct answer.\n",
        "\n",
        "1. Our state object was populated with our request\n",
        "2. The state object was passed into our entry point (agent node) and the agent node added an `AIMessage` to the state object and passed it along the conditional edge\n",
        "3. The conditional edge received the state object, found a list of \"tool_calls\" `additional_kwarg`, and sent the state object to the action node. In this case, we have tool arxiv and duckduckgo_search in the \"tool_calls\" list, each tool will be executed sequentially within each cycle of the loop. \n",
        "4. Arxiv got executed first, then query \"latest tweet\" also got executed via duckduckgo_search (although it's not gonna bring anything useful information to our case). The action node added the response from the OpenAI function calling endpoint to the state object and passed it along the edge to the agent node. \n",
        "5. The agent node added a response to the state object and passed it along the conditional edge. In here the agent identified the authors of the paper and decided to use duckduckgo_search to search each author's latest tweets. \n",
        "6. The conditional edge received the state object, found a list of \"tool_calls\" `additional_kwarg`, and sent the state object to the action node. In this case, it's a list of queries to search each author's latest tweets.\n",
        "6. A list of duckduckgo_search got executed to search each author's lastest tweets. The action node added the response from the OpenAI function calling endpoint to the state object and passed it along the edge to the agent node. \n",
        "7. The agent node added a response to the state object and passed it along the conditional edge. \n",
        "6. The conditional edge received the state object, could not find the \"tool_calls\" `additional_kwarg` and passed the state object to END where we see it output in the cell above!"
      ]
    },
    {
      "cell_type": "markdown",
      "metadata": {
        "id": "v7c8-Uyarh1v"
      },
      "source": [
        "## Part 1: LangSmith Evaluator"
      ]
    },
    {
      "cell_type": "markdown",
      "metadata": {
        "id": "pV3XeFOT1Sar"
      },
      "source": [
        "### Pre-processing for LangSmith"
      ]
    },
    {
      "cell_type": "markdown",
      "metadata": {
        "id": "wruQCuzewUuO"
      },
      "source": [
        "To do a little bit more preprocessing, let's wrap our LangGraph agent in a simple chain."
      ]
    },
    {
      "cell_type": "code",
      "execution_count": 55,
      "metadata": {
        "id": "oeXdQgbxwhTv"
      },
      "outputs": [],
      "source": [
        "def convert_inputs(input_object):\n",
        "  return {\"messages\" : [HumanMessage(content=input_object[\"question\"])]}\n",
        "\n",
        "def parse_output(input_state):\n",
        "  return input_state[\"messages\"][-1].content\n",
        "\n",
        "agent_chain = convert_inputs | compiled_graph | parse_output"
      ]
    },
    {
      "cell_type": "code",
      "execution_count": 56,
      "metadata": {
        "colab": {
          "base_uri": "https://localhost:8080/",
          "height": 139
        },
        "id": "orYxBZXSxJjZ",
        "outputId": "b160f3e4-89d1-4411-ed96-fe17b3cad200"
      },
      "outputs": [
        {
          "data": {
            "text/markdown": [
              "```markdown\n",
              "RAG stands for Retrieval-Augmented Generation. It is a technique used in natural language processing (NLP) and machine learning to improve the performance of language models by combining retrieval-based methods with generative models. Here's a brief overview of how it works:\n",
              "\n",
              "1. **Retrieval**: In the first step, the system retrieves relevant documents or pieces of information from a large corpus based on the input query. This is typically done using a retrieval model, such as BM25 or a dense retrieval model like DPR (Dense Passage Retrieval).\n",
              "\n",
              "2. **Augmentation**: The retrieved documents are then used to augment the input query. This can involve concatenating the retrieved information with the original query or using it to provide additional context.\n",
              "\n",
              "3. **Generation**: Finally, a generative model, such as GPT-3 or BERT, is used to generate a response based on the augmented input. The generative model can produce more accurate and contextually relevant responses because it has access to the additional information retrieved in the first step.\n",
              "\n",
              "RAG models are particularly useful in scenarios where the input query requires specific knowledge or context that may not be fully captured by the generative model alone. By incorporating relevant external information, RAG models can provide more accurate and informative responses.\n",
              "```"
            ],
            "text/plain": [
              "<IPython.core.display.Markdown object>"
            ]
          },
          "metadata": {},
          "output_type": "display_data"
        }
      ],
      "source": [
        "pretty_print(agent_chain.invoke({\"question\" : \"What is RAG?\"}))"
      ]
    },
    {
      "cell_type": "markdown",
      "metadata": {
        "id": "f9UkCIqkpyZu"
      },
      "source": [
        "### Task 1: Creating An Evaluation Dataset\n",
        "\n",
        "Just as we saw last week, we'll want to create a dataset to test our Agent's ability to answer questions.\n",
        "\n",
        "In order to do this - we'll want to provide some questions and some answers. Let's look at how we can create such a dataset below.\n",
        "\n",
        "```python\n",
        "questions = [\n",
        "    \"What optimizer is used in QLoRA?\",\n",
        "    \"What data type was created in the QLoRA paper?\",\n",
        "    \"What is a Retrieval Augmented Generation system?\",\n",
        "    \"Who authored the QLoRA paper?\",\n",
        "    \"What is the most popular deep learning framework?\",\n",
        "    \"What significant improvements does the LoRA system make?\"\n",
        "]\n",
        "\n",
        "answers = [\n",
        "    {\"must_mention\" : [\"paged\", \"optimizer\"]},\n",
        "    {\"must_mention\" : [\"NF4\", \"NormalFloat\"]},\n",
        "    {\"must_mention\" : [\"ground\", \"context\"]},\n",
        "    {\"must_mention\" : [\"Tim\", \"Dettmers\"]},\n",
        "    {\"must_mention\" : [\"PyTorch\", \"TensorFlow\"]},\n",
        "    {\"must_mention\" : [\"reduce\", \"parameters\"]},\n",
        "]\n",
        "```"
      ]
    },
    {
      "cell_type": "markdown",
      "metadata": {
        "id": "VfMXF2KAsQxs"
      },
      "source": [
        "####🏗️ Activity #3:\n",
        "\n",
        "Please create a dataset in the above format with at least 5 questions."
      ]
    },
    {
      "cell_type": "code",
      "execution_count": 75,
      "metadata": {
        "id": "CbagRuJop83E"
      },
      "outputs": [],
      "source": [
        "questions = [\n",
        "    \"What are the key components of the Transformer model?\",\n",
        "    \"How does the Transformer model handle the order of sequences without recurrent layers?\",\n",
        "    \"What are the advantages of the Transformer model over traditional RNN-based models?\",\n",
        "    \"Who authored the Attention is All You Need paper?\",\n",
        "    \"What are some limitations of the Transformer model mentioned in the paper?\",\n",
        "    \"What is the main contribution of the Attention is All You Need paper\"\n",
        "]\n",
        "\n",
        "answers = [\n",
        "    {\"must_mention\" : [\"self-attention\", \"multi-head\"]},\n",
        "    {\"must_mention\" : [\"positional\", \"encoding\"]},\n",
        "    {\"must_mention\" : [\"parallelization\", \"long-range\"]},\n",
        "    {\"must_mention\" : [\"vaswani\", \"ashish\"]},\n",
        "    {\"must_mention\" : [\"qadratic\", \"recurrence\"]},\n",
        "    {\"must_mention\" : [\"transformer\", \"architecture\"]},\n",
        "]"
      ]
    },
    {
      "cell_type": "markdown",
      "metadata": {
        "id": "z7QVFuAmsh7L"
      },
      "source": [
        "Now we can add our dataset to our LangSmith project using the following code which we saw last Thursday!"
      ]
    },
    {
      "cell_type": "code",
      "execution_count": 76,
      "metadata": {},
      "outputs": [
        {
          "data": {
            "text/plain": [
              "'fa79f0a7'"
            ]
          },
          "execution_count": 76,
          "metadata": {},
          "output_type": "execute_result"
        }
      ],
      "source": [
        "uuid4().hex[0:8]"
      ]
    },
    {
      "cell_type": "code",
      "execution_count": 77,
      "metadata": {
        "id": "RLfrZrgSsn85"
      },
      "outputs": [],
      "source": [
        "from langsmith import Client\n",
        "\n",
        "client = Client()\n",
        "dataset_name = f\"Retrieval Augmented Generation - Evaluation Dataset - {uuid4().hex[0:8]}\"\n",
        "\n",
        "dataset = client.create_dataset(\n",
        "    dataset_name=dataset_name,\n",
        "    description=\"Questions about the Attention is All You Need Paper to Evaluate RAG over the same paper.\"\n",
        ")\n",
        "\n",
        "client.create_examples(\n",
        "    inputs=[{\"question\" : q} for q in questions],\n",
        "    outputs=answers,\n",
        "    dataset_id=dataset.id,\n",
        ")"
      ]
    },
    {
      "cell_type": "markdown",
      "metadata": {
        "id": "ciV73F9Q04w0"
      },
      "source": [
        "#### ❓ Question #3:\n",
        "\n",
        "How are the correct answers associated with the questions?\n",
        "\n",
        "> NOTE: Feel free to indicate if this is problematic or not\n",
        "\n",
        "please see below answer using the agent_chain"
      ]
    },
    {
      "cell_type": "code",
      "execution_count": 21,
      "metadata": {},
      "outputs": [
        {
          "name": "stderr",
          "output_type": "stream",
          "text": [
            "CallbackManager.merge(): Parent run IDs do not match. Using the parent run ID of the first callback manager.\n"
          ]
        },
        {
          "data": {
            "text/markdown": [
              "In LangSmith evaluations, correct answers are typically associated with questions through a process that involves defining a set of expected answers or criteria that the responses should meet. Here’s a general outline of how this process might work:\n",
              "\n",
              "1. **Question Definition**: Clearly define the questions that need to be evaluated. Each question should be specific and unambiguous.\n",
              "\n",
              "2. **Expected Answer Specification**: For each question, specify the correct or expected answers. This can be done in several ways:\n",
              "   - **Exact Match**: The correct answer is a specific string or set of strings.\n",
              "   - **Pattern Matching**: The correct answer follows a certain pattern or regular expression.\n",
              "   - **Semantic Matching**: The correct answer is evaluated based on its meaning, which might involve natural language understanding.\n",
              "\n",
              "3. **Evaluation Criteria**: Define the criteria for evaluating the answers. This can include:\n",
              "   - **Accuracy**: How closely the answer matches the expected answer.\n",
              "   - **Completeness**: Whether the answer fully addresses the question.\n",
              "   - **Relevance**: Whether the answer is relevant to the question.\n",
              "   - **Conciseness**: Whether the answer is concise and to the point.\n",
              "\n",
              "4. **Automated Evaluation**: Use automated tools to compare the provided answers against the expected answers based on the defined criteria. This can involve:\n",
              "   - **String Comparison**: For exact matches.\n",
              "   - **Regular Expressions**: For pattern matching.\n",
              "   - **Natural Language Processing (NLP)**: For semantic matching, using techniques like word embeddings, similarity measures, or pre-trained language models.\n",
              "\n",
              "5. **Human Review**: In cases where automated evaluation is challenging, human reviewers might be involved to assess the answers based on the criteria.\n",
              "\n",
              "6. **Scoring and Feedback**: Assign scores to the answers based on how well they meet the criteria and provide feedback if necessary.\n",
              "\n",
              "By following these steps, LangSmith evaluations can systematically associate correct answers with questions, ensuring a fair and consistent assessment process."
            ],
            "text/plain": [
              "<IPython.core.display.Markdown object>"
            ]
          },
          "metadata": {},
          "output_type": "display_data"
        }
      ],
      "source": [
        "pretty_print(agent_chain.invoke({\"question\" : \"How are the correct answers associated with the questions in LangSmith evaluation?\"}))"
      ]
    },
    {
      "cell_type": "markdown",
      "metadata": {
        "id": "-lRTXUrTtP9Y"
      },
      "source": [
        "### Task 2: Adding Evaluators\n",
        "\n",
        "Now we can add a custom evaluator to see if our responses contain the expected information.\n",
        "\n",
        "We'll be using a fairly naive exact-match process to determine if our response contains specific strings."
      ]
    },
    {
      "cell_type": "code",
      "execution_count": 78,
      "metadata": {
        "id": "QrAUXMFftlAY"
      },
      "outputs": [],
      "source": [
        "from langsmith.evaluation import EvaluationResult, run_evaluator\n",
        "\n",
        "@run_evaluator\n",
        "def must_mention(run, example) -> EvaluationResult:\n",
        "    prediction = run.outputs.get(\"output\").lower() or \"\"\n",
        "    required = example.outputs.get(\"must_mention\") or []\n",
        "    score = all(phrase in prediction for phrase in required)\n",
        "    return EvaluationResult(key=\"must_mention\", score=score)"
      ]
    },
    {
      "cell_type": "code",
      "execution_count": 69,
      "metadata": {},
      "outputs": [
        {
          "data": {
            "text/plain": [
              "False"
            ]
          },
          "execution_count": 69,
          "metadata": {},
          "output_type": "execute_result"
        }
      ],
      "source": [
        "all(phrase in 'yes no' for phrase in ['yes','and'])"
      ]
    },
    {
      "cell_type": "markdown",
      "metadata": {
        "id": "PNtHORUh0jZY"
      },
      "source": [
        "#### ❓ Question #4:\n",
        "\n",
        "What are some ways you could improve this metric as-is?\n",
        "\n",
        "> NOTE: Alternatively you can suggest where gaps exist in this method.\n",
        "\n",
        "it's purely based on string-matching, in this case, a lot variations can happen. I modified the above score logic to get everything to lower case first before comparing. Besides that, we can add fuzzy scores to do fuzzy matches, along with adding regex to define patterns or remove non alphanumeric characters, to make our metric more flexible. \n",
        "\n",
        "We can also have more metrics like 'must not have', or instead of all(phrase in prediction for phrase in required), we can do any(phrase in prediction for phrase in required), etc. \n",
        "\n",
        "At the last, we can use LLMs like BERT to evalute if 'prediction' and 'required' have same semantic meaning, in this way we don't need to focus on 1-1 match. "
      ]
    },
    {
      "cell_type": "markdown",
      "metadata": {
        "id": "mZ4DVSXl0BX5"
      },
      "source": [
        "Now that we have created our custom evaluator - let's initialize our `RunEvalConfig` with it!"
      ]
    },
    {
      "cell_type": "code",
      "execution_count": 79,
      "metadata": {
        "id": "sL4-XcjytWsu"
      },
      "outputs": [],
      "source": [
        "from langchain.smith import RunEvalConfig, run_on_dataset\n",
        "\n",
        "eval_config = RunEvalConfig(\n",
        "    custom_evaluators=[must_mention],\n",
        ")"
      ]
    },
    {
      "cell_type": "markdown",
      "metadata": {
        "id": "r1RJr349zhv7"
      },
      "source": [
        "Task 3: Evaluating\n",
        "\n",
        "All that is left to do is evaluate our agent's response!"
      ]
    },
    {
      "cell_type": "code",
      "execution_count": 80,
      "metadata": {
        "colab": {
          "base_uri": "https://localhost:8080/"
        },
        "id": "p5TeCUUkuGld",
        "outputId": "8b98fff1-bd75-4dbe-cadc-a76d8a82577c"
      },
      "outputs": [
        {
          "name": "stdout",
          "output_type": "stream",
          "text": [
            "View the evaluation results for project 'RAG Pipeline - Evaluation - bd970406' at:\n",
            "https://smith.langchain.com/o/e8fff0bf-5e2d-5959-8289-a4e1b2625f84/datasets/f375c3a9-4379-4a16-8109-06a8746e4b9a/compare?selectedSessions=29bcf60a-ca49-4215-ac57-19368576ca8b\n",
            "\n",
            "View all tests for Dataset Retrieval Augmented Generation - Evaluation Dataset - df4b8743 at:\n",
            "https://smith.langchain.com/o/e8fff0bf-5e2d-5959-8289-a4e1b2625f84/datasets/f375c3a9-4379-4a16-8109-06a8746e4b9a\n",
            "[------------------------------------------------->] 6/6"
          ]
        },
        {
          "data": {
            "text/html": [
              "<h3>Experiment Results:</h3>"
            ],
            "text/plain": [
              "<IPython.core.display.HTML object>"
            ]
          },
          "metadata": {},
          "output_type": "display_data"
        },
        {
          "data": {
            "text/html": [
              "<div>\n",
              "<style scoped>\n",
              "    .dataframe tbody tr th:only-of-type {\n",
              "        vertical-align: middle;\n",
              "    }\n",
              "\n",
              "    .dataframe tbody tr th {\n",
              "        vertical-align: top;\n",
              "    }\n",
              "\n",
              "    .dataframe thead th {\n",
              "        text-align: right;\n",
              "    }\n",
              "</style>\n",
              "<table border=\"1\" class=\"dataframe\">\n",
              "  <thead>\n",
              "    <tr style=\"text-align: right;\">\n",
              "      <th></th>\n",
              "      <th>feedback.must_mention</th>\n",
              "      <th>error</th>\n",
              "      <th>execution_time</th>\n",
              "      <th>run_id</th>\n",
              "    </tr>\n",
              "  </thead>\n",
              "  <tbody>\n",
              "    <tr>\n",
              "      <th>count</th>\n",
              "      <td>6</td>\n",
              "      <td>0</td>\n",
              "      <td>6.000000</td>\n",
              "      <td>6</td>\n",
              "    </tr>\n",
              "    <tr>\n",
              "      <th>unique</th>\n",
              "      <td>2</td>\n",
              "      <td>0</td>\n",
              "      <td>NaN</td>\n",
              "      <td>6</td>\n",
              "    </tr>\n",
              "    <tr>\n",
              "      <th>top</th>\n",
              "      <td>True</td>\n",
              "      <td>NaN</td>\n",
              "      <td>NaN</td>\n",
              "      <td>13cac096-8dd4-4f4d-a465-58bbc5fc9cbc</td>\n",
              "    </tr>\n",
              "    <tr>\n",
              "      <th>freq</th>\n",
              "      <td>5</td>\n",
              "      <td>NaN</td>\n",
              "      <td>NaN</td>\n",
              "      <td>1</td>\n",
              "    </tr>\n",
              "    <tr>\n",
              "      <th>mean</th>\n",
              "      <td>NaN</td>\n",
              "      <td>NaN</td>\n",
              "      <td>6.840911</td>\n",
              "      <td>NaN</td>\n",
              "    </tr>\n",
              "    <tr>\n",
              "      <th>std</th>\n",
              "      <td>NaN</td>\n",
              "      <td>NaN</td>\n",
              "      <td>1.694429</td>\n",
              "      <td>NaN</td>\n",
              "    </tr>\n",
              "    <tr>\n",
              "      <th>min</th>\n",
              "      <td>NaN</td>\n",
              "      <td>NaN</td>\n",
              "      <td>5.687585</td>\n",
              "      <td>NaN</td>\n",
              "    </tr>\n",
              "    <tr>\n",
              "      <th>25%</th>\n",
              "      <td>NaN</td>\n",
              "      <td>NaN</td>\n",
              "      <td>5.734344</td>\n",
              "      <td>NaN</td>\n",
              "    </tr>\n",
              "    <tr>\n",
              "      <th>50%</th>\n",
              "      <td>NaN</td>\n",
              "      <td>NaN</td>\n",
              "      <td>5.922246</td>\n",
              "      <td>NaN</td>\n",
              "    </tr>\n",
              "    <tr>\n",
              "      <th>75%</th>\n",
              "      <td>NaN</td>\n",
              "      <td>NaN</td>\n",
              "      <td>7.525476</td>\n",
              "      <td>NaN</td>\n",
              "    </tr>\n",
              "    <tr>\n",
              "      <th>max</th>\n",
              "      <td>NaN</td>\n",
              "      <td>NaN</td>\n",
              "      <td>9.781794</td>\n",
              "      <td>NaN</td>\n",
              "    </tr>\n",
              "  </tbody>\n",
              "</table>\n",
              "</div>"
            ],
            "text/plain": [
              "       feedback.must_mention error  execution_time  \\\n",
              "count                      6     0        6.000000   \n",
              "unique                     2     0             NaN   \n",
              "top                     True   NaN             NaN   \n",
              "freq                       5   NaN             NaN   \n",
              "mean                     NaN   NaN        6.840911   \n",
              "std                      NaN   NaN        1.694429   \n",
              "min                      NaN   NaN        5.687585   \n",
              "25%                      NaN   NaN        5.734344   \n",
              "50%                      NaN   NaN        5.922246   \n",
              "75%                      NaN   NaN        7.525476   \n",
              "max                      NaN   NaN        9.781794   \n",
              "\n",
              "                                      run_id  \n",
              "count                                      6  \n",
              "unique                                     6  \n",
              "top     13cac096-8dd4-4f4d-a465-58bbc5fc9cbc  \n",
              "freq                                       1  \n",
              "mean                                     NaN  \n",
              "std                                      NaN  \n",
              "min                                      NaN  \n",
              "25%                                      NaN  \n",
              "50%                                      NaN  \n",
              "75%                                      NaN  \n",
              "max                                      NaN  "
            ]
          },
          "metadata": {},
          "output_type": "display_data"
        },
        {
          "data": {
            "text/plain": [
              "{'project_name': 'RAG Pipeline - Evaluation - bd970406',\n",
              " 'results': {'42cd6405-6c47-448f-afb6-e9d3af67ca23': {'input': {'question': 'What are the key components of the Transformer model?'},\n",
              "   'feedback': [EvaluationResult(key='must_mention', score=True, value=None, comment=None, correction=None, evaluator_info={}, feedback_config=None, source_run_id=UUID('7ed2a47b-bdef-4a46-90db-b8c0cb8e7b97'), target_run_id=None)],\n",
              "   'execution_time': 5.687585,\n",
              "   'run_id': '13cac096-8dd4-4f4d-a465-58bbc5fc9cbc',\n",
              "   'output': 'The Transformer model, introduced in the paper \"Attention is All You Need\" by Vaswani et al., is a deep learning model primarily used for natural language processing tasks. The key components of the Transformer model are:\\n\\n1. **Encoder-Decoder Architecture**:\\n   - The Transformer model consists of an encoder and a decoder, each composed of multiple layers.\\n\\n2. **Encoder**:\\n   - **Input Embedding**: Converts input tokens into dense vectors.\\n   - **Positional Encoding**: Adds information about the position of each token in the sequence.\\n   - **Multi-Head Self-Attention Mechanism**: Allows the model to focus on different parts of the input sequence simultaneously.\\n   - **Feed-Forward Neural Network**: Applies a fully connected feed-forward network to each position.\\n   - **Layer Normalization and Residual Connections**: Helps in stabilizing and speeding up the training process.\\n\\n3. **Decoder**:\\n   - **Output Embedding**: Converts output tokens into dense vectors.\\n   - **Positional Encoding**: Adds positional information to the output tokens.\\n   - **Masked Multi-Head Self-Attention Mechanism**: Prevents the decoder from attending to future tokens in the sequence.\\n   - **Multi-Head Attention Mechanism**: Attends to the encoder\\'s output.\\n   - **Feed-Forward Neural Network**: Similar to the encoder\\'s feed-forward network.\\n   - **Layer Normalization and Residual Connections**: Similar to the encoder.\\n\\n4. **Attention Mechanisms**:\\n   - **Scaled Dot-Product Attention**: Computes attention scores using dot products of query, key, and value vectors.\\n   - **Multi-Head Attention**: Uses multiple attention heads to capture different aspects of the input.\\n\\n5. **Positional Encoding**:\\n   - Adds sinusoidal positional encodings to the input embeddings to retain the order of the sequence.\\n\\n6. **Feed-Forward Neural Networks**:\\n   - Consists of two linear transformations with a ReLU activation in between.\\n\\n7. **Layer Normalization**:\\n   - Normalizes the inputs to each sub-layer to stabilize and speed up training.\\n\\n8. **Residual Connections**:\\n   - Adds the input of each sub-layer to its output to help with gradient flow during backpropagation.\\n\\n9. **Softmax Layer**:\\n   - Converts the final output logits into probabilities.\\n\\nThese components work together to enable the Transformer model to process sequences of data efficiently and effectively, making it a powerful tool for tasks such as machine translation, text summarization, and more.',\n",
              "   'reference': {'must_mention': ['self-attention', 'multi-head']}},\n",
              "  '119dfa16-a3ae-47e8-998a-0c4d2672163a': {'input': {'question': 'How does the Transformer model handle the order of sequences without recurrent layers?'},\n",
              "   'feedback': [EvaluationResult(key='must_mention', score=True, value=None, comment=None, correction=None, evaluator_info={}, feedback_config=None, source_run_id=UUID('52b2ce3e-6077-4186-b9af-8a89f3d03823'), target_run_id=None)],\n",
              "   'execution_time': 5.71339,\n",
              "   'run_id': 'af7ed875-43b3-4efa-bdb7-e87b8b57cf36',\n",
              "   'output': \"The Transformer model handles the order of sequences without recurrent layers by using a mechanism called **positional encoding**. Here's a detailed explanation of how it works:\\n\\n### Positional Encoding\\n\\n1. **Purpose**: Since the Transformer model does not have any inherent notion of the order of the input tokens (unlike RNNs or LSTMs which process tokens sequentially), it needs a way to incorporate information about the position of each token in the sequence.\\n\\n2. **Mechanism**: Positional encoding is added to the input embeddings to provide the model with information about the position of each token. This encoding is a fixed-size vector that is added to the input embeddings before they are fed into the Transformer layers.\\n\\n3. **Formulation**: The positional encoding vectors are designed to have unique values for each position and are typically generated using sine and cosine functions of different frequencies. The formula for the positional encoding for a position \\\\( pos \\\\) and dimension \\\\( i \\\\) is as follows:\\n   \\\\[\\n   PE_{(pos, 2i)} = \\\\sin\\\\left(\\\\frac{pos}{10000^{2i/d_{model}}}\\\\right)\\n   \\\\]\\n   \\\\[\\n   PE_{(pos, 2i+1)} = \\\\cos\\\\left(\\\\frac{pos}{10000^{2i/d_{model}}}\\\\right)\\n   \\\\]\\n   where \\\\( d_{model} \\\\) is the dimension of the model.\\n\\n4. **Properties**: These sine and cosine functions ensure that each position has a unique encoding and that the encodings for nearby positions are similar, which helps the model to learn the relative positions of tokens.\\n\\n### Example\\n\\nConsider a sequence of tokens: \\\\([ \\\\text{token}_1, \\\\text{token}_2, \\\\text{token}_3, \\\\ldots, \\\\text{token}_n ]\\\\).\\n\\n- Each token is first converted into an embedding vector.\\n- Positional encodings are then generated for each position in the sequence.\\n- These positional encodings are added to the corresponding token embeddings.\\n- The resulting vectors (token embeddings + positional encodings) are then fed into the Transformer layers.\\n\\n### Benefits\\n\\n- **Parallelization**: Unlike RNNs, which process tokens sequentially, the use of positional encoding allows the Transformer to process all tokens in the sequence simultaneously, enabling efficient parallelization.\\n- **Flexibility**: The model can handle sequences of varying lengths and can generalize to longer sequences than those seen during training.\\n\\n### Conclusion\\n\\nBy incorporating positional encodings, the Transformer model effectively captures the order of sequences without relying on recurrent layers, allowing it to leverage the benefits of parallel processing and improved efficiency.\",\n",
              "   'reference': {'must_mention': ['positional', 'encoding']}},\n",
              "  '3d7db30f-f866-43a6-880f-2018992cfc43': {'input': {'question': 'What are the advantages of the Transformer model over traditional RNN-based models?'},\n",
              "   'feedback': [EvaluationResult(key='must_mention', score=True, value=None, comment=None, correction=None, evaluator_info={}, feedback_config=None, source_run_id=UUID('f8c45d3b-b7b5-433f-a139-931159268e0f'), target_run_id=None)],\n",
              "   'execution_time': 8.018206,\n",
              "   'run_id': 'b8834c8b-334e-4276-9634-27741a632f6e',\n",
              "   'output': 'The Transformer model, introduced in the paper \"Attention is All You Need\" by Vaswani et al. in 2017, has several advantages over traditional RNN-based models (such as LSTMs and GRUs). Here are some key advantages:\\n\\n1. **Parallelization**:\\n   - **Transformers**: The Transformer model allows for parallel processing of input data because it does not rely on sequential data processing. This is achieved through the self-attention mechanism, which processes all tokens in the input sequence simultaneously.\\n   - **RNNs**: RNNs process input data sequentially, which means that each step depends on the previous one. This sequential nature makes it difficult to parallelize computations, leading to slower training times.\\n\\n2. **Long-Range Dependencies**:\\n   - **Transformers**: The self-attention mechanism in Transformers can capture long-range dependencies more effectively. Each token in the input sequence can attend to all other tokens, allowing the model to learn relationships between distant tokens.\\n   - **RNNs**: RNNs, especially vanilla RNNs, struggle with long-range dependencies due to the vanishing gradient problem. While LSTMs and GRUs mitigate this issue to some extent, they still have limitations in capturing very long-range dependencies.\\n\\n3. **Scalability**:\\n   - **Transformers**: Transformers scale well with larger datasets and model sizes. The architecture is highly modular, making it easier to increase the number of layers and attention heads to improve performance.\\n   - **RNNs**: Scaling RNNs can be challenging due to the sequential nature of their computations and the difficulty in training very deep RNNs.\\n\\n4. **Memory Efficiency**:\\n   - **Transformers**: Transformers can be more memory-efficient during training because they allow for parallel processing and can leverage hardware accelerators like GPUs and TPUs more effectively.\\n   - **RNNs**: RNNs require maintaining hidden states for each time step, which can be memory-intensive, especially for long sequences.\\n\\n5. **Flexibility**:\\n   - **Transformers**: The Transformer architecture is highly flexible and has been adapted for various tasks, including natural language processing (NLP), computer vision, and more. Models like BERT, GPT, and Vision Transformers (ViTs) are based on the Transformer architecture.\\n   - **RNNs**: While RNNs have been used for a variety of tasks, their architecture is less flexible compared to Transformers, and they are primarily used for sequential data.\\n\\n6. **Interpretability**:\\n   - **Transformers**: The attention mechanism in Transformers provides a level of interpretability by showing which parts of the input the model is focusing on. This can be useful for understanding model decisions.\\n   - **RNNs**: RNNs are generally less interpretable, as it is harder to visualize and understand the hidden states and their contributions to the final output.\\n\\nOverall, the Transformer model has revolutionized the field of deep learning, particularly in NLP, by addressing many of the limitations of traditional RNN-based models.',\n",
              "   'reference': {'must_mention': ['parallelization', 'long-range']}},\n",
              "  'd485db5d-7359-4dd3-9e96-01d2a08d4251': {'input': {'question': 'Who authored the Attention is All You Need paper?'},\n",
              "   'feedback': [EvaluationResult(key='must_mention', score=True, value=None, comment=None, correction=None, evaluator_info={}, feedback_config=None, source_run_id=UUID('aabb47c3-a79f-4c19-ac7f-576cc3b4ca63'), target_run_id=None)],\n",
              "   'execution_time': 6.047285,\n",
              "   'run_id': '1a889108-4d83-464b-9764-3069b9f5b7d3',\n",
              "   'output': 'The seminal paper \"Attention is All You Need,\" which introduced the Transformer neural network architecture, was authored by:\\n\\n- Ashish Vaswani\\n- Noam Shazeer\\n- Niki Parmar\\n- Jakob Uszkoreit\\n- Llion Jones\\n- Aidan N. Gomez\\n- Łukasz Kaiser\\n- Illia Polosukhin\\n\\nThis paper was published in 2017 and has had a significant impact on the field of natural language processing and beyond.',\n",
              "   'reference': {'must_mention': ['vaswani', 'ashish']}},\n",
              "  '0e376d04-02b1-47be-bc9d-8981531ae3fc': {'input': {'question': 'What are some limitations of the Transformer model mentioned in the paper?'},\n",
              "   'feedback': [EvaluationResult(key='must_mention', score=False, value=None, comment=None, correction=None, evaluator_info={}, feedback_config=None, source_run_id=UUID('8a9546b0-e987-4409-9a66-980d674207b1'), target_run_id=None)],\n",
              "   'execution_time': 9.781794,\n",
              "   'run_id': 'c9a8f4da-6a56-4009-bdd9-8bc54d5fe157',\n",
              "   'output': 'Here are some limitations of the Transformer model mentioned in the papers:\\n\\n1. **Vanishing Capacity of Global Attention**: In the context of graph transformers, as the model depth increases, the global attention mechanism\\'s capacity diminishes. This restricts the transformer\\'s ability to focus on critical substructures and obtain expressive features. (Source: \"Are More Layers Beneficial to Graph Transformers?\" by Haiteng Zhao et al.)\\n\\n2. **Underperformance in Learning HMMs**: Transformers consistently underperform compared to Recurrent Neural Networks (RNNs) in both training speed and testing accuracy when learning Hidden Markov Models (HMMs). There are challenging HMM instances where Transformers struggle to learn, while RNNs can successfully do so. (Source: \"On Limitation of Transformer for Learning HMMs\" by Jiachen Hu et al.)\\n\\n3. **Depth Limitation**: The depth of Transformers is related to the longest sequence length they can effectively learn. This limitation is influenced by the types and complexity of the sequences being modeled. (Source: \"On Limitation of Transformer for Learning HMMs\" by Jiachen Hu et al.)\\n\\n4. **Increased Training Time with Block CoT**: While a variant of the Chain-of-Thought (CoT) called \"block CoT\" can help Transformers reduce evaluation error and learn longer sequences, it comes at the cost of increased training time. (Source: \"On Limitation of Transformer for Learning HMMs\" by Jiachen Hu et al.)\\n\\nThese limitations highlight areas where the Transformer model may struggle or require additional modifications to perform effectively.',\n",
              "   'reference': {'must_mention': ['qadratic', 'recurrence']}},\n",
              "  'f657730f-7b32-454c-92f1-cd1503412cb8': {'input': {'question': 'What is the main contribution of the Attention is All You Need paper'},\n",
              "   'feedback': [EvaluationResult(key='must_mention', score=True, value=None, comment=None, correction=None, evaluator_info={}, feedback_config=None, source_run_id=UUID('bec1069b-306c-4be6-b6fd-c2ce70787855'), target_run_id=None)],\n",
              "   'execution_time': 5.797207,\n",
              "   'run_id': 'cf103a4b-5952-46d2-b1f3-ef6b0166f767',\n",
              "   'output': 'The main contribution of the \"Attention is All You Need\" paper, authored by Vaswani et al. and published in 2017, is the introduction of the Transformer model, which relies entirely on self-attention mechanisms, dispensing with recurrence and convolutions entirely. This model significantly improved the efficiency and performance of sequence transduction tasks such as machine translation.\\n\\nKey contributions include:\\n\\n1. **Self-Attention Mechanism**: The paper introduced the self-attention mechanism, which allows the model to weigh the importance of different words in a sentence when encoding a particular word. This mechanism enables the model to capture long-range dependencies more effectively than RNNs or CNNs.\\n\\n2. **Transformer Architecture**: The Transformer architecture is composed of an encoder and a decoder, each made up of a stack of identical layers. Each layer has two main components: multi-head self-attention mechanisms and position-wise fully connected feed-forward networks.\\n\\n3. **Positional Encoding**: Since the Transformer model does not have a built-in notion of word order (unlike RNNs), the authors introduced positional encodings to inject information about the relative or absolute position of tokens in the sequence.\\n\\n4. **Parallelization**: The design of the Transformer allows for much more parallelization during training, as compared to RNNs, leading to significant speedups.\\n\\n5. **Performance**: The Transformer model achieved state-of-the-art results on various tasks, including English-to-German and English-to-French translation tasks, demonstrating its effectiveness and efficiency.\\n\\nOverall, the \"Attention is All You Need\" paper has had a profound impact on the field of natural language processing and has paved the way for the development of more advanced models like BERT, GPT, and others.',\n",
              "   'reference': {'must_mention': ['transformer', 'architecture']}}},\n",
              " 'aggregate_metrics': None}"
            ]
          },
          "execution_count": 80,
          "metadata": {},
          "output_type": "execute_result"
        }
      ],
      "source": [
        "client.run_on_dataset(\n",
        "    dataset_name=dataset_name,\n",
        "    llm_or_chain_factory=agent_chain,\n",
        "    evaluation=eval_config,\n",
        "    verbose=True,\n",
        "    project_name=f\"RAG Pipeline - Evaluation - {uuid4().hex[0:8]}\",\n",
        "    project_metadata={\"version\": \"1.0.0\"},\n",
        ")"
      ]
    },
    {
      "cell_type": "markdown",
      "metadata": {
        "id": "jhTNe4kWrplB"
      },
      "source": [
        "## Part 2: LangGraph with Helpfulness:"
      ]
    },
    {
      "cell_type": "markdown",
      "metadata": {
        "id": "w1wKRddbIY_S"
      },
      "source": [
        "### Task 3: Adding Helpfulness Check and \"Loop\" Limits\n",
        "\n",
        "Now that we've done evaluation - let's see if we can add an extra step where we review the content we've generated to confirm if it fully answers the user's query!\n",
        "\n",
        "We're going to make a few key adjustments to account for this:\n",
        "\n",
        "1. We're going to add an artificial limit on how many \"loops\" the agent can go through - this will help us to avoid the potential situation where we never exit the loop.\n",
        "2. We'll add to our existing conditional edge to obtain the behaviour we desire."
      ]
    },
    {
      "cell_type": "markdown",
      "metadata": {
        "id": "npTYJ8ayR5B3"
      },
      "source": [
        "First, let's define our state again - we can check the length of the state object, so we don't need additional state for this."
      ]
    },
    {
      "cell_type": "code",
      "execution_count": 81,
      "metadata": {
        "id": "-LQ84YhyJG0w"
      },
      "outputs": [],
      "source": [
        "class AgentState(TypedDict):\n",
        "  messages: Annotated[list, add_messages]"
      ]
    },
    {
      "cell_type": "markdown",
      "metadata": {
        "id": "sD7EV0HqSQcb"
      },
      "source": [
        "Now we can set our graph up! This process will be almost entirely the same - with the inclusion of one additional node/conditional edge!"
      ]
    },
    {
      "cell_type": "markdown",
      "metadata": {
        "id": "oajBwLkFVi1N"
      },
      "source": [
        "####🏗️ Activity #5:\n",
        "\n",
        "Please write markdown for the following cells to explain what each is doing."
      ]
    },
    {
      "cell_type": "markdown",
      "metadata": {
        "id": "M6rN7feNVn9f"
      },
      "source": [
        "##### YOUR MARKDOWN HERE\n",
        "create an empty graph, add agent node and action node"
      ]
    },
    {
      "cell_type": "code",
      "execution_count": 82,
      "metadata": {
        "id": "6r6XXA5FJbVf"
      },
      "outputs": [],
      "source": [
        "graph_with_helpfulness_check = StateGraph(AgentState)\n",
        "\n",
        "graph_with_helpfulness_check.add_node(\"agent\", call_model)\n",
        "graph_with_helpfulness_check.add_node(\"action\", tool_node)"
      ]
    },
    {
      "cell_type": "markdown",
      "metadata": {
        "id": "XZ22o2mWVrfp"
      },
      "source": [
        "##### YOUR MARKDOWN HERE\n",
        "add our entrypoint. The entrypoint indicates which node is called first (in here, it will be 'agent')."
      ]
    },
    {
      "cell_type": "code",
      "execution_count": 83,
      "metadata": {
        "id": "HNWHwWxuRiLY"
      },
      "outputs": [],
      "source": [
        "graph_with_helpfulness_check.set_entry_point(\"agent\")"
      ]
    },
    {
      "cell_type": "markdown",
      "metadata": {
        "id": "rsXeF6xlaXOZ"
      },
      "source": [
        "##### YOUR MARKDOWN HERE\n",
        "Define conditional edge.\n",
        "It will check the most recent state of a node , total numbers of the state, and 'if the answer is helpful or not' to determine which path to follow.\n"
      ]
    },
    {
      "cell_type": "code",
      "execution_count": 84,
      "metadata": {
        "id": "z_Sq3A9SaV1O"
      },
      "outputs": [],
      "source": [
        "from langchain_core.prompts import PromptTemplate\n",
        "from langchain_core.output_parsers import StrOutputParser\n",
        "\n",
        "def tool_call_or_helpful(state):\n",
        "  last_message = state[\"messages\"][-1]\n",
        "\n",
        "  if last_message.tool_calls:\n",
        "    return \"action\"\n",
        "\n",
        "  initial_query = state[\"messages\"][0]\n",
        "  final_response = state[\"messages\"][-1]\n",
        "\n",
        "  if len(state[\"messages\"]) > 10:\n",
        "    return \"end\"\n",
        "\n",
        "  prompt_template = \"\"\"\\\n",
        "  Given an initial query and a final response, determine if the final response is extremely helpful or not. Please indicate helpfulness with a 'Y' and unhelpfulness as an 'N'.\n",
        "\n",
        "  Initial Query:\n",
        "  {initial_query}\n",
        "\n",
        "  Final Response:\n",
        "  {final_response}\"\"\"\n",
        "\n",
        "  prompt_template = PromptTemplate.from_template(prompt_template)\n",
        "\n",
        "  helpfulness_check_model = ChatOpenAI(model=\"gpt-4\")\n",
        "\n",
        "  helpfulness_chain = prompt_template | helpfulness_check_model | StrOutputParser()\n",
        "\n",
        "  helpfulness_response = helpfulness_chain.invoke({\"initial_query\" : initial_query.content, \"final_response\" : final_response.content})\n",
        "\n",
        "  if \"Y\" in helpfulness_response:\n",
        "    return \"end\"\n",
        "  else:\n",
        "    return \"continue\""
      ]
    },
    {
      "cell_type": "markdown",
      "metadata": {
        "id": "Fz1u9Vf4SHxJ"
      },
      "source": [
        "####🏗️ Activity #4:\n",
        "\n",
        "Please write what is happening in our `tool_call_or_helpful` function!\n",
        "\n",
        "If there is \"tool_calls\" `additional_kwarg` in the most recent state, then return 'action'; if the total number of messages in the state exceeds 10, then return 'end'; Given the initial user query and the fianl response message (when there is no \"tool_calls\" `additional_kwarg` in the most recent state), if LLM thinks the answer is helpful ('Y'), then return 'end' otherwise 'continue' (going back to agent node, do more reasoning and decide what to do next)."
      ]
    },
    {
      "cell_type": "markdown",
      "metadata": {
        "id": "6BhnBW2YVsJO"
      },
      "source": [
        "##### YOUR MARKDOWN HERE\n",
        "connect agent to correct path based on the return of the `tool_call_or_helpful` function. If the function returns 'action', then call tools; if the function returns 'end', then end the flow; if the funciton returns 'continue', then go back to agent."
      ]
    },
    {
      "cell_type": "code",
      "execution_count": 85,
      "metadata": {
        "id": "aVTKnWMbP_8T"
      },
      "outputs": [],
      "source": [
        "graph_with_helpfulness_check.add_conditional_edges(\n",
        "    \"agent\",\n",
        "    tool_call_or_helpful,\n",
        "    {\n",
        "        \"continue\" : \"agent\",\n",
        "        \"action\" : \"action\",\n",
        "        \"end\" : END\n",
        "    }\n",
        ")"
      ]
    },
    {
      "cell_type": "markdown",
      "metadata": {
        "id": "ZGDLEWOIVtK0"
      },
      "source": [
        "##### YOUR MARKDOWN HERE\n",
        "connect action node to agent node so the action node (which is used to call our tools) can return its output to our agent."
      ]
    },
    {
      "cell_type": "code",
      "execution_count": 86,
      "metadata": {
        "id": "cbDK2MbuREgU"
      },
      "outputs": [],
      "source": [
        "graph_with_helpfulness_check.add_edge(\"action\", \"agent\")"
      ]
    },
    {
      "cell_type": "markdown",
      "metadata": {
        "id": "rSI8AOaEVvT-"
      },
      "source": [
        "##### YOUR MARKDOWN HERE\n",
        "compile the whole graph"
      ]
    },
    {
      "cell_type": "code",
      "execution_count": 87,
      "metadata": {
        "id": "oQldl8ERQ8lf"
      },
      "outputs": [],
      "source": [
        "agent_with_helpfulness_check = graph_with_helpfulness_check.compile()"
      ]
    },
    {
      "cell_type": "markdown",
      "metadata": {
        "id": "F67FGCMRVwGz"
      },
      "source": [
        "##### YOUR MARKDOWN HERE\n",
        "execute the state graph asynchronously, processing the inputs and printing out the results as they are generated."
      ]
    },
    {
      "cell_type": "code",
      "execution_count": 91,
      "metadata": {
        "colab": {
          "base_uri": "https://localhost:8080/"
        },
        "id": "B3oo8E-PRK1T",
        "outputId": "22470df4-9aa7-4751-95b6-d30ce71b17db"
      },
      "outputs": [
        {
          "name": "stdout",
          "output_type": "stream",
          "text": [
            "Receiving update from node: 'agent'\n"
          ]
        },
        {
          "data": {
            "text/markdown": [
              "```markdown\n",
              "[AIMessage(content='', additional_kwargs={'tool_calls': [{'id': 'call_jw9bg0EbXbQKqk4QcrGxKmlA', 'function': {'arguments': '{\"query\": \"LoRA machine learning\"}', 'name': 'duckduckgo_search'}, 'type': 'function'}, {'id': 'call_txI7KrjFJnp6V22k0qBo3jCZ', 'function': {'arguments': '{\"query\": \"Tim Dettmers\"}', 'name': 'duckduckgo_search'}, 'type': 'function'}, {'id': 'call_jJ3dMLa69eBoEgwk4CXYDFgm', 'function': {'arguments': '{\"query\": \"Attention in machine learning\"}', 'name': 'duckduckgo_search'}, 'type': 'function'}], 'refusal': None}, response_metadata={'token_usage': {'completion_tokens': 76, 'prompt_tokens': 171, 'total_tokens': 247}, 'model_name': 'gpt-4o-2024-05-13', 'system_fingerprint': 'fp_157b3831f5', 'finish_reason': 'tool_calls', 'logprobs': None}, id='run-81eaca01-ada3-466e-8745-493aa3570426-0', tool_calls=[{'name': 'duckduckgo_search', 'args': {'query': 'LoRA machine learning'}, 'id': 'call_jw9bg0EbXbQKqk4QcrGxKmlA', 'type': 'tool_call'}, {'name': 'duckduckgo_search', 'args': {'query': 'Tim Dettmers'}, 'id': 'call_txI7KrjFJnp6V22k0qBo3jCZ', 'type': 'tool_call'}, {'name': 'duckduckgo_search', 'args': {'query': 'Attention in machine learning'}, 'id': 'call_jJ3dMLa69eBoEgwk4CXYDFgm', 'type': 'tool_call'}], usage_metadata={'input_tokens': 171, 'output_tokens': 76, 'total_tokens': 247})]\n",
              "```"
            ],
            "text/plain": [
              "<IPython.core.display.Markdown object>"
            ]
          },
          "metadata": {},
          "output_type": "display_data"
        },
        {
          "data": {
            "text/markdown": [
              "```markdown\n",
              "\n",
              "```"
            ],
            "text/plain": [
              "<IPython.core.display.Markdown object>"
            ]
          },
          "metadata": {},
          "output_type": "display_data"
        },
        {
          "name": "stdout",
          "output_type": "stream",
          "text": [
            "\n",
            "\n",
            "\n",
            "Receiving update from node: 'action'\n"
          ]
        },
        {
          "data": {
            "text/markdown": [
              "```markdown\n",
              "[ToolMessage(content='Let\\'s jump on LoRA. Low-Rank Adaptation of LLMs (LoRA) So, in usual fine-tuning, we. Take a pretrained model. Do Transfer Learning over new training data to slightly adjust these pre-trained weights LoRA\\'s approach to decomposing ( Δ W ) into a product of lower rank matrices effectively balances the need to adapt large pre-trained models to new tasks while maintaining computational efficiency. The intrinsic rank concept is key to this balance, ensuring that the essence of the model\\'s learning capability is preserved with significantly ... \"Lora The Tuner\" By Daniel Warfield using MidJourney. All images by the author unless otherwise specified. Fine tuning is the process of tailoring a machine learning model to a specific application, which can be vital in achieving consistent and high quality performance. Feb 18, 2024. Share. Ever since the introduction of BERT in 2019, fine-tuning has been the standard approach to adapt large language models (LLMs) to downstream tasks. This changed with the introduction of LoRA (Hu et al 2021) which showed for the first time that the weight update matrix during fine-tuning can be drastically simplified using ... Low-Rank Adaptation (LoRA) is a widely-used parameter-efficient finetuning method for large language models. LoRA saves memory by training only low rank perturbations to selected weight matrices. In this work, we compare the performance of LoRA and full finetuning on two target domains, programming and mathematics. We consider both the instruction finetuning ($\\\\\\\\approx$100K prompt-response ...', name='duckduckgo_search', tool_call_id='call_jw9bg0EbXbQKqk4QcrGxKmlA'), ToolMessage(content='Allen School Ph.D. student Tim Dettmers accepted the grand prize for QLoRA, a novel approach to finetuning pretrained models that significantly reduces the amount of GPU memory required — from over 780GB to less than 48GB — to finetune a 65B parameter model. With QLoRA, the largest publicly available models can be finetuned on a single ... — Tim Dettmers is joining Ai2 as an AI researcher. Dettmers specializes in efficient deep learning at the intersection of machine learning, NLP, and computer systems with a focus on quantization ... Its purpose is to make cutting-edge research by Tim Dettmers, a leading academic expert on quantization and the use of deep learning hardware accelerators, accessible to the general public. QLoRA: One of the core contributions of bitsandbytes towards the democratization of AI. If you have a curiosity about how fancy graphics cards actually work, and why they are so well-suited to AI-type applications, then take a few minutes to read [Tim Dettmers] explain why this is so.… Tim Dettmers. Video. Tech Moves: AI researcher Yejin Choi leaves Univ. of Washington and Allen Institute for AI. by Todd Bishop & Taylor Soper on August 2, 2024 August 2, 2024 at 11:59 am.', name='duckduckgo_search', tool_call_id='call_txI7KrjFJnp6V22k0qBo3jCZ'), ToolMessage(content='Learn how attention mechanisms in deep learning enable models to focus on relevant information and improve performance in tasks such as machine translation, image captioning, and speech recognition. Understand the steps and components of attention mechanism architecture and see examples of its applications. Attention mechanism is a fundamental invention in artificial intelligence and machine learning, redefining the capabilities of deep learning models. This mechanism, inspired by the human mental process of selective focus, has emerged as a pillar in a variety of applications, accelerating developments in natural language processing, computer vision, and beyond. There are several types of attention mechanisms, each designed to cater to specific use cases. Here are a few notable ones: 1. Self-Attention Mechanism. Self-attention, also known as intra ... They all use transformer architecture with attention mechanisms at their core to solve problems across domains. In the Transformer series, we go over the ingredients that have made Transformers a universal recipe for machine learning. First up, we take a visual dive to understand the attention mechanism: Why transformers and attention took over. The concept of \"attention\" in deep learning has its roots in the effort to improve Recurrent Neural Networks (RNNs) for handling longer sequences or sentences. For instance, consider translating a sentence from one language to another. Translating a sentence word-by-word is usually not an option because it ignores the complex grammatical ...', name='duckduckgo_search', tool_call_id='call_jJ3dMLa69eBoEgwk4CXYDFgm')]\n",
              "```"
            ],
            "text/plain": [
              "<IPython.core.display.Markdown object>"
            ]
          },
          "metadata": {},
          "output_type": "display_data"
        },
        {
          "data": {
            "text/markdown": [
              "```markdown\n",
              "Let's jump on LoRA. Low-Rank Adaptation of LLMs (LoRA) So, in usual fine-tuning, we. Take a pretrained model. Do Transfer Learning over new training data to slightly adjust these pre-trained weights LoRA's approach to decomposing ( Δ W ) into a product of lower rank matrices effectively balances the need to adapt large pre-trained models to new tasks while maintaining computational efficiency. The intrinsic rank concept is key to this balance, ensuring that the essence of the model's learning capability is preserved with significantly ... \"Lora The Tuner\" By Daniel Warfield using MidJourney. All images by the author unless otherwise specified. Fine tuning is the process of tailoring a machine learning model to a specific application, which can be vital in achieving consistent and high quality performance. Feb 18, 2024. Share. Ever since the introduction of BERT in 2019, fine-tuning has been the standard approach to adapt large language models (LLMs) to downstream tasks. This changed with the introduction of LoRA (Hu et al 2021) which showed for the first time that the weight update matrix during fine-tuning can be drastically simplified using ... Low-Rank Adaptation (LoRA) is a widely-used parameter-efficient finetuning method for large language models. LoRA saves memory by training only low rank perturbations to selected weight matrices. In this work, we compare the performance of LoRA and full finetuning on two target domains, programming and mathematics. We consider both the instruction finetuning ($\\\\approx$100K prompt-response ...\n",
              "```"
            ],
            "text/plain": [
              "<IPython.core.display.Markdown object>"
            ]
          },
          "metadata": {},
          "output_type": "display_data"
        },
        {
          "name": "stdout",
          "output_type": "stream",
          "text": [
            "\n",
            "\n",
            "\n",
            "Receiving update from node: 'agent'\n"
          ]
        },
        {
          "data": {
            "text/markdown": [
              "```markdown\n",
              "[AIMessage(content=\"### LoRA in Machine Learning\\n**LoRA** stands for **Low-Rank Adaptation**. It is a parameter-efficient fine-tuning method for large language models (LLMs). Traditional fine-tuning involves adjusting the pre-trained weights of a model to adapt it to new tasks, which can be computationally expensive. LoRA simplifies this process by decomposing the weight update matrix into a product of lower-rank matrices. This approach significantly reduces the memory and computational requirements while maintaining the model's performance. LoRA is particularly useful for adapting large pre-trained models to new tasks efficiently.\\n\\n### Tim Dettmers\\n**Tim Dettmers** is a researcher specializing in efficient deep learning, particularly at the intersection of machine learning, natural language processing (NLP), and computer systems. He is known for his work on quantization and the use of deep learning hardware accelerators. One of his notable contributions is **QLoRA**, a method that drastically reduces the GPU memory required to fine-tune large models, making it possible to fine-tune a 65 billion parameter model on a single GPU. Tim Dettmers is associated with the Allen School and has joined the Allen Institute for AI (Ai2) as an AI researcher.\\n\\n### Attention in Machine Learning\\n**Attention mechanisms** are a fundamental component in modern deep learning models, particularly in natural language processing (NLP) and computer vision. The concept of attention allows models to focus on relevant parts of the input data, improving performance in tasks such as machine translation, image captioning, and speech recognition. \\n\\nThere are several types of attention mechanisms:\\n1. **Self-Attention**: Also known as intra-attention, it allows a model to consider different positions of a single sequence to compute a representation of the sequence.\\n2. **Global Attention**: Considers all parts of the input sequence when generating each part of the output sequence.\\n3. **Local Attention**: Focuses on a specific part of the input sequence, which is particularly useful for long sequences.\\n\\nAttention mechanisms are a core component of the Transformer architecture, which has become the foundation for many state-of-the-art models in NLP and beyond. The ability to focus on relevant information and ignore irrelevant details makes attention mechanisms powerful tools for improving model performance across various tasks.\", additional_kwargs={'refusal': None}, response_metadata={'token_usage': {'completion_tokens': 463, 'prompt_tokens': 1154, 'total_tokens': 1617}, 'model_name': 'gpt-4o-2024-05-13', 'system_fingerprint': 'fp_157b3831f5', 'finish_reason': 'stop', 'logprobs': None}, id='run-3872aa98-382c-49f3-b1af-17e9ab39258e-0', usage_metadata={'input_tokens': 1154, 'output_tokens': 463, 'total_tokens': 1617})]\n",
              "```"
            ],
            "text/plain": [
              "<IPython.core.display.Markdown object>"
            ]
          },
          "metadata": {},
          "output_type": "display_data"
        },
        {
          "data": {
            "text/markdown": [
              "```markdown\n",
              "### LoRA in Machine Learning\n",
              "**LoRA** stands for **Low-Rank Adaptation**. It is a parameter-efficient fine-tuning method for large language models (LLMs). Traditional fine-tuning involves adjusting the pre-trained weights of a model to adapt it to new tasks, which can be computationally expensive. LoRA simplifies this process by decomposing the weight update matrix into a product of lower-rank matrices. This approach significantly reduces the memory and computational requirements while maintaining the model's performance. LoRA is particularly useful for adapting large pre-trained models to new tasks efficiently.\n",
              "\n",
              "### Tim Dettmers\n",
              "**Tim Dettmers** is a researcher specializing in efficient deep learning, particularly at the intersection of machine learning, natural language processing (NLP), and computer systems. He is known for his work on quantization and the use of deep learning hardware accelerators. One of his notable contributions is **QLoRA**, a method that drastically reduces the GPU memory required to fine-tune large models, making it possible to fine-tune a 65 billion parameter model on a single GPU. Tim Dettmers is associated with the Allen School and has joined the Allen Institute for AI (Ai2) as an AI researcher.\n",
              "\n",
              "### Attention in Machine Learning\n",
              "**Attention mechanisms** are a fundamental component in modern deep learning models, particularly in natural language processing (NLP) and computer vision. The concept of attention allows models to focus on relevant parts of the input data, improving performance in tasks such as machine translation, image captioning, and speech recognition. \n",
              "\n",
              "There are several types of attention mechanisms:\n",
              "1. **Self-Attention**: Also known as intra-attention, it allows a model to consider different positions of a single sequence to compute a representation of the sequence.\n",
              "2. **Global Attention**: Considers all parts of the input sequence when generating each part of the output sequence.\n",
              "3. **Local Attention**: Focuses on a specific part of the input sequence, which is particularly useful for long sequences.\n",
              "\n",
              "Attention mechanisms are a core component of the Transformer architecture, which has become the foundation for many state-of-the-art models in NLP and beyond. The ability to focus on relevant information and ignore irrelevant details makes attention mechanisms powerful tools for improving model performance across various tasks.\n",
              "```"
            ],
            "text/plain": [
              "<IPython.core.display.Markdown object>"
            ]
          },
          "metadata": {},
          "output_type": "display_data"
        },
        {
          "name": "stdout",
          "output_type": "stream",
          "text": [
            "\n",
            "\n",
            "\n"
          ]
        }
      ],
      "source": [
        "inputs = {\"messages\" : [HumanMessage(content=\"Related to machine learning, what is LoRA? Also, who is Tim Dettmers? Also, what is Attention?\")]}\n",
        "\n",
        "async for chunk in agent_with_helpfulness_check.astream(inputs, stream_mode=\"updates\"):\n",
        "    for node, values in chunk.items():\n",
        "        print(f\"Receiving update from node: '{node}'\")\n",
        "        pretty_print(values[\"messages\"])\n",
        "        pretty_print(values[\"messages\"][0].content)\n",
        "        print(\"\\n\\n\")"
      ]
    },
    {
      "cell_type": "markdown",
      "metadata": {
        "id": "yVmZPs6lnpsM"
      },
      "source": [
        "### Task 4: LangGraph for the \"Patterns\" of GenAI\n",
        "\n",
        "Let's ask our system about the 4 patterns of Generative AI:\n",
        "\n",
        "1. Prompt Engineering\n",
        "2. RAG\n",
        "3. Fine-tuning\n",
        "4. Agents"
      ]
    },
    {
      "cell_type": "code",
      "execution_count": 92,
      "metadata": {
        "id": "ZoLl7GlXoae-"
      },
      "outputs": [],
      "source": [
        "patterns = [\"prompt engineering\", \"RAG\", \"fine-tuning\", \"LLM-based agents\"]"
      ]
    },
    {
      "cell_type": "code",
      "execution_count": 93,
      "metadata": {
        "colab": {
          "base_uri": "https://localhost:8080/"
        },
        "id": "Zkh0YJuCp3Zl",
        "outputId": "0593c6f5-0a1d-41f6-960b-f32d101b3ade"
      },
      "outputs": [
        {
          "name": "stdout",
          "output_type": "stream",
          "text": [
            "Prompt engineering is a concept primarily associated with the field of artificial intelligence, particularly in the context of natural language processing (NLP) and large language models (LLMs) like GPT-3. It involves the design and optimization of prompts (input queries or instructions) to elicit the most accurate, relevant, and useful responses from AI models. The goal is to frame questions or tasks in a way that maximizes the performance of the AI in generating desired outputs.\n",
            "\n",
            "### Key Aspects of Prompt Engineering:\n",
            "1. **Prompt Design**: Crafting the input text to guide the AI model towards producing a specific type of response.\n",
            "2. **Prompt Optimization**: Iteratively refining prompts based on the quality of the responses received.\n",
            "3. **Contextualization**: Providing sufficient context within the prompt to help the AI understand the task or question.\n",
            "4. **Task Specification**: Clearly defining the task or question to avoid ambiguity and ensure the AI understands what is being asked.\n",
            "\n",
            "### Emergence of Prompt Engineering:\n",
            "Prompt engineering became more prominent with the advent of large-scale language models like OpenAI's GPT-3, which was released in June 2020. The ability of these models to generate human-like text based on prompts led to a growing interest in how to effectively communicate with them to achieve desired outcomes. The term \"prompt engineering\" itself started gaining traction around this time as researchers and practitioners began to explore and document best practices for interacting with these advanced AI systems.\n",
            "\n",
            "Would you like more detailed information or recent developments in prompt engineering?\n",
            "\n",
            "\n",
            "\n",
            "RAG, or Retrieval-Augmented Generation, is a technique in natural language processing (NLP) that combines retrieval-based methods with generative models to improve the quality and relevance of generated text. The core idea is to retrieve relevant documents or pieces of information from a large corpus and use this retrieved information to guide the generation process, typically using models like GPT-3 or BERT.\n",
            "\n",
            "RAG was introduced by Facebook AI Research (FAIR) in a paper titled \"Retrieval-Augmented Generation for Knowledge-Intensive NLP Tasks,\" which was published in 2020. The technique has since gained significant attention for its ability to enhance the performance of generative models, especially in tasks that require access to a large amount of external knowledge.\n",
            "\n",
            "Would you like more detailed information or specific papers on RAG?\n",
            "\n",
            "\n",
            "\n",
            "Fine-tuning is a process in machine learning where a pre-trained model is further trained on a new dataset to adapt it to a specific task. This approach leverages the knowledge the model has already acquired during its initial training on a large, general dataset, and refines it to perform well on a more specialized task. Fine-tuning is particularly useful in natural language processing (NLP) and computer vision, where large pre-trained models like BERT, GPT, and ResNet can be adapted to specific tasks such as sentiment analysis, text classification, or object detection.\n",
            "\n",
            "The concept of fine-tuning has been around for a while, but it gained significant attention and popularity with the advent of deep learning and the development of large pre-trained models. One of the key moments when fine-tuning became prominent was with the introduction of the ImageNet dataset and the success of models like AlexNet in 2012. In the NLP domain, the release of models like BERT (Bidirectional Encoder Representations from Transformers) by Google in 2018 and GPT (Generative Pre-trained Transformer) by OpenAI in 2018-2019 brought fine-tuning into the spotlight.\n",
            "\n",
            "Would you like more detailed information or specific articles on this topic?\n",
            "\n",
            "\n",
            "\n",
            "LLM-based agents, or Large Language Model-based agents, are a novel technology that leverages large language models to interact with their environment through perception, sensing environmental data, and taking actions based on that information. These agents have gained significant attention in both research and industry due to their potential to solve real-world problems that require long-term and complex interactions between the agent and its environment.\n",
            "\n",
            "The rise of LLM-based agents can be traced back to the advent of large language models themselves, which have seen remarkable success in various domains such as code generation, vulnerability detection, and natural language processing. The concept of LLM-based agents has initiated a new era in artificial intelligence, although they are still evolving and not yet perfect.\n",
            "\n",
            "The exact timeline of when LLM-based agents broke onto the scene is not explicitly mentioned, but it is closely tied to the development and success of large language models, which have been a focal point of research in recent years.\n",
            "\n",
            "\n",
            "\n"
          ]
        }
      ],
      "source": [
        "for pattern in patterns:\n",
        "  what_is_string = f\"What is {pattern} and when did it break onto the scene??\"\n",
        "  inputs = {\"messages\" : [HumanMessage(content=what_is_string)]}\n",
        "  messages = agent_with_helpfulness_check.invoke(inputs)\n",
        "  print(messages[\"messages\"][-1].content)\n",
        "  print(\"\\n\\n\")"
      ]
    },
    {
      "cell_type": "code",
      "execution_count": null,
      "metadata": {},
      "outputs": [],
      "source": []
    }
  ],
  "metadata": {
    "colab": {
      "provenance": []
    },
    "kernelspec": {
      "display_name": "Python 3",
      "name": "python3"
    },
    "language_info": {
      "codemirror_mode": {
        "name": "ipython",
        "version": 3
      },
      "file_extension": ".py",
      "mimetype": "text/x-python",
      "name": "python",
      "nbconvert_exporter": "python",
      "pygments_lexer": "ipython3",
      "version": "3.11.9"
    }
  },
  "nbformat": 4,
  "nbformat_minor": 0
}
