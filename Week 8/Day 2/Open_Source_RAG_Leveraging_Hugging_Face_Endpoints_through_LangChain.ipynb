{
  "cells": [
    {
      "cell_type": "markdown",
      "metadata": {
        "id": "lcW6UWldWUMp"
      },
      "source": [
        "# Open Source RAG - Leveraging Hugging Face Endpoints through LangChain\n",
        "\n",
        "In the following notebook we will dive into the world of Open Source models hosted on Hugging Face's [inference endpoints](https://ui.endpoints.huggingface.co/).\n",
        "\n",
        "The notebook will be broken into the following parts:\n",
        "\n",
        "- 🤝 Breakout Room #2:\n",
        "  1. Install required libraries\n",
        "  2. Set Environment Variables\n",
        "  3. Creating LangChain components powered by the endpoints\n",
        "  4. Preparing Data!\n",
        "  5. Simple LCEL RAG Chain"
      ]
    },
    {
      "cell_type": "markdown",
      "metadata": {
        "id": "-spIWt2J3Quk"
      },
      "source": [
        "## Task 1: Install required libraries\n",
        "\n",
        "Now we've got to get our required libraries!\n",
        "\n",
        "We'll start with our `langchain` and `huggingface` dependencies.\n",
        "\n"
      ]
    },
    {
      "cell_type": "code",
      "execution_count": 1,
      "metadata": {
        "colab": {
          "base_uri": "https://localhost:8080/"
        },
        "id": "EwGLnp31jXJj",
        "outputId": "25afaaed-1910-489e-c919-67ac284d01a2"
      },
      "outputs": [
        {
          "name": "stdout",
          "output_type": "stream",
          "text": [
            "\u001b[2K     \u001b[90m━━━━━━━━━━━━━━━━━━━━━━━━━━━━━━━━━━━━━━━━\u001b[0m \u001b[32m50.4/50.4 kB\u001b[0m \u001b[31m1.4 MB/s\u001b[0m eta \u001b[36m0:00:00\u001b[0m\n",
            "\u001b[2K   \u001b[90m━━━━━━━━━━━━━━━━━━━━━━━━━━━━━━━━━━━━━━━━\u001b[0m \u001b[32m2.4/2.4 MB\u001b[0m \u001b[31m41.3 MB/s\u001b[0m eta \u001b[36m0:00:00\u001b[0m\n",
            "\u001b[2K   \u001b[90m━━━━━━━━━━━━━━━━━━━━━━━━━━━━━━━━━━━━━━━━\u001b[0m \u001b[32m27.0/27.0 MB\u001b[0m \u001b[31m37.9 MB/s\u001b[0m eta \u001b[36m0:00:00\u001b[0m\n",
            "\u001b[2K   \u001b[90m━━━━━━━━━━━━━━━━━━━━━━━━━━━━━━━━━━━━━━━━\u001b[0m \u001b[32m1.0/1.0 MB\u001b[0m \u001b[31m35.9 MB/s\u001b[0m eta \u001b[36m0:00:00\u001b[0m\n",
            "\u001b[2K   \u001b[90m━━━━━━━━━━━━━━━━━━━━━━━━━━━━━━━━━━━━━━━━\u001b[0m \u001b[32m400.9/400.9 kB\u001b[0m \u001b[31m19.8 MB/s\u001b[0m eta \u001b[36m0:00:00\u001b[0m\n",
            "\u001b[2K   \u001b[90m━━━━━━━━━━━━━━━━━━━━━━━━━━━━━━━━━━━━━━━━\u001b[0m \u001b[32m294.6/294.6 kB\u001b[0m \u001b[31m18.9 MB/s\u001b[0m eta \u001b[36m0:00:00\u001b[0m\n",
            "\u001b[2K   \u001b[90m━━━━━━━━━━━━━━━━━━━━━━━━━━━━━━━━━━━━━━━━\u001b[0m \u001b[32m245.3/245.3 kB\u001b[0m \u001b[31m11.8 MB/s\u001b[0m eta \u001b[36m0:00:00\u001b[0m\n",
            "\u001b[2K   \u001b[90m━━━━━━━━━━━━━━━━━━━━━━━━━━━━━━━━━━━━━━━━\u001b[0m \u001b[32m76.4/76.4 kB\u001b[0m \u001b[31m4.6 MB/s\u001b[0m eta \u001b[36m0:00:00\u001b[0m\n",
            "\u001b[2K   \u001b[90m━━━━━━━━━━━━━━━━━━━━━━━━━━━━━━━━━━━━━━━━\u001b[0m \u001b[32m78.0/78.0 kB\u001b[0m \u001b[31m3.9 MB/s\u001b[0m eta \u001b[36m0:00:00\u001b[0m\n",
            "\u001b[2K   \u001b[90m━━━━━━━━━━━━━━━━━━━━━━━━━━━━━━━━━━━━━━━━\u001b[0m \u001b[32m49.3/49.3 kB\u001b[0m \u001b[31m3.1 MB/s\u001b[0m eta \u001b[36m0:00:00\u001b[0m\n",
            "\u001b[2K   \u001b[90m━━━━━━━━━━━━━━━━━━━━━━━━━━━━━━━━━━━━━━━━\u001b[0m \u001b[32m141.9/141.9 kB\u001b[0m \u001b[31m8.8 MB/s\u001b[0m eta \u001b[36m0:00:00\u001b[0m\n",
            "\u001b[2K   \u001b[90m━━━━━━━━━━━━━━━━━━━━━━━━━━━━━━━━━━━━━━━━\u001b[0m \u001b[32m54.5/54.5 kB\u001b[0m \u001b[31m3.5 MB/s\u001b[0m eta \u001b[36m0:00:00\u001b[0m\n",
            "\u001b[2K   \u001b[90m━━━━━━━━━━━━━━━━━━━━━━━━━━━━━━━━━━━━━━━━\u001b[0m \u001b[32m58.3/58.3 kB\u001b[0m \u001b[31m3.6 MB/s\u001b[0m eta \u001b[36m0:00:00\u001b[0m\n",
            "\u001b[?25h"
          ]
        }
      ],
      "source": [
        "!pip install -qU langchain-huggingface langchain-community faiss-cpu"
      ]
    },
    {
      "cell_type": "markdown",
      "metadata": {
        "id": "SpZTBLwK3TIz"
      },
      "source": [
        "## Task 2: Set Environment Variables\n",
        "\n",
        "We'll need to set our `HF_TOKEN` so that we can send requests to our protected API endpoint.\n",
        "\n",
        "We'll also set-up our OpenAI API key, which we'll leverage later.\n",
        "\n"
      ]
    },
    {
      "cell_type": "code",
      "execution_count": 2,
      "metadata": {
        "colab": {
          "base_uri": "https://localhost:8080/"
        },
        "id": "NspG8I0XlFTt",
        "outputId": "7293ead7-04d7-4071-b502-ca824cefabf9"
      },
      "outputs": [
        {
          "name": "stdout",
          "output_type": "stream",
          "text": [
            "HuggingFace Write Token: ··········\n"
          ]
        }
      ],
      "source": [
        "import os\n",
        "import getpass\n",
        "\n",
        "os.environ[\"HF_TOKEN\"] = getpass.getpass(\"HuggingFace Write Token: \")"
      ]
    },
    {
      "cell_type": "markdown",
      "metadata": {
        "id": "QMru14VBZAtw"
      },
      "source": [
        "## Task 3: Creating LangChain components powered by the endpoints\n",
        "\n",
        "We're going to wrap our endpoints in LangChain components in order to leverage them, thanks to LCEL, as we would any other LCEL component!"
      ]
    },
    {
      "cell_type": "markdown",
      "metadata": {
        "id": "TGooehdzcmPb"
      },
      "source": [
        "### HuggingFaceEndpoint for LLM\n",
        "\n",
        "We can use the `HuggingFaceEndpoint` found [here](https://github.com/langchain-ai/langchain/blob/master/libs/community/langchain_community/llms/huggingface_endpoint.py) to power our chain - let's look at how we would implement it."
      ]
    },
    {
      "cell_type": "code",
      "execution_count": 3,
      "metadata": {
        "id": "N7u2Tu1FsURh"
      },
      "outputs": [],
      "source": [
        "YOUR_LLM_ENDPOINT_URL = \"https://fnw8adf1wzusprc5.us-east-1.aws.endpoints.huggingface.cloud\""
      ]
    },
    {
      "cell_type": "code",
      "execution_count": 4,
      "metadata": {
        "colab": {
          "base_uri": "https://localhost:8080/"
        },
        "id": "L3Cz6Mrnt2ku",
        "outputId": "9c080792-2de1-4622-bdca-d02040f53711"
      },
      "outputs": [
        {
          "name": "stderr",
          "output_type": "stream",
          "text": [
            "<ipython-input-4-b590562bafe5>:3: LangChainDeprecationWarning: The class `HuggingFaceEndpoint` was deprecated in LangChain 0.0.37 and will be removed in 1.0. An updated version of the class exists in the :class:`~langchain-huggingface package and should be used instead. To use it run `pip install -U :class:`~langchain-huggingface` and import as `from :class:`~langchain_huggingface import HuggingFaceEndpoint``.\n",
            "  hf_llm = HuggingFaceEndpoint(\n"
          ]
        },
        {
          "name": "stdout",
          "output_type": "stream",
          "text": [
            "The token has not been saved to the git credentials helper. Pass `add_to_git_credential=True` in this function directly or `--add-to-git-credential` if using via `huggingface-cli` if you want to set the git credential as well.\n",
            "Token is valid (permission: write).\n",
            "Your token has been saved to /root/.cache/huggingface/token\n",
            "Login successful\n"
          ]
        }
      ],
      "source": [
        "from langchain_community.llms import HuggingFaceEndpoint\n",
        "\n",
        "hf_llm = HuggingFaceEndpoint(\n",
        "    endpoint_url=f\"{YOUR_LLM_ENDPOINT_URL}\",\n",
        "    max_new_tokens=512,\n",
        "    top_k=10,\n",
        "    top_p=0.95,\n",
        "    typical_p=0.95,\n",
        "    temperature=0.01,\n",
        "    repetition_penalty=1.03,\n",
        "    huggingfacehub_api_token=os.environ[\"HF_TOKEN\"]\n",
        ")"
      ]
    },
    {
      "cell_type": "markdown",
      "metadata": {
        "id": "fun4XrRxZK9n"
      },
      "source": [
        "Now we can use our endpoint like we would any other LLM!"
      ]
    },
    {
      "cell_type": "code",
      "execution_count": 6,
      "metadata": {
        "colab": {
          "base_uri": "https://localhost:8080/",
          "height": 143
        },
        "id": "OFAbFT91Z8QV",
        "outputId": "a657c0d6-f8ed-4f24-ee21-0d0068d18ed6"
      },
      "outputs": [
        {
          "data": {
            "application/vnd.google.colaboratory.intrinsic+json": {
              "type": "string"
            },
            "text/plain": [
              "\" I am doing well, thanks for asking. I have been busy with work and other things, but I always make time for my blog. I have a few new posts coming up that I think you will enjoy.\\nIn the meantime, I wanted to share a recipe for a delicious and easy-to-make dessert that is perfect for any occasion. It's a classic dessert that never goes out of style: chocolate chip cookies!\\nHere's a simple recipe for chocolate chip cookies that yields soft, chewy, and deliciously sweet treats:\\nIngredients:\\n* 2 1/4 cups all-purpose flour\\n* 1 tsp baking soda\\n* 1 tsp salt\\n* 1 cup unsalted butter, softened\\n* 3/4 cup white granulated sugar\\n* 3/4 cup brown sugar\\n* 2 large eggs\\n* 2 tsp vanilla extract\\n* 2 cups semi-sweet chocolate chips\\nInstructions:\\n1. Preheat your oven to 375°F (190°C). Line a baking sheet with parchment paper or a silicone mat.\\n2. In a medium-sized bowl, whisk together the flour, baking soda, and salt. Set aside.\\n3. In a large bowl, use an electric mixer to cream together the butter and sugars until light and fluffy, about 2-3 minutes.\\n4. Beat in the eggs one at a time, followed by the vanilla extract.\\n5. Gradually mix in the dry ingredients (flour mixture) until just combined, being careful not to overmix.\\n6. Stir in the chocolate chips.\\n7. Use a cookie scoop or spoon to drop rounded balls of dough onto the prepared baking sheet, leaving about 2 inches of space between each cookie.\\n8. Bake for 10-12 minutes, or until the edges are lightly golden brown and the centers are set.\\n9. Remove from the oven and let cool on the baking sheet for 5 minutes before transferring to a wire rack to cool completely.\\n\\nEnjoy your delicious homemade chocolate chip cookies!\\n\\nI hope you enjoy this recipe! Let me know if you have any questions or if you'd like any variations on this classic dessert.\\n\\nBest,\\n[Your Name]\\n\\nP.S. If you're looking for more dessert recipes, be sure to check out my other posts on the blog. I have a variety of sweet treats that are sure to satisfy your cravings!\\n\\nThis is a basic template for a blog post, but it can be customized to fit your personal style and the content of your blog. Here are some tips to keep in\""
            ]
          },
          "execution_count": 6,
          "metadata": {},
          "output_type": "execute_result"
        }
      ],
      "source": [
        "hf_llm.invoke(\"Hello, how are you?\")"
      ]
    },
    {
      "cell_type": "markdown",
      "metadata": {
        "id": "ngH3fhw4aQ8T"
      },
      "source": [
        "Now we can add a RAG-style prompt using Llama 3 Instruct's prompt templating!"
      ]
    },
    {
      "cell_type": "code",
      "execution_count": 7,
      "metadata": {
        "id": "zdvv4JmkzEtj"
      },
      "outputs": [],
      "source": [
        "from langchain_core.prompts import PromptTemplate\n",
        "\n",
        "RAG_PROMPT_TEMPLATE = \"\"\"\\\n",
        "<|start_header_id|>system<|end_header_id|>\n",
        "You are a helpful assistant. You answer user questions based on provided context. If you can't answer the question with the provided context, say you don't know.<|eot_id|>\n",
        "\n",
        "<|start_header_id|>user<|end_header_id|>\n",
        "User Query:\n",
        "{query}\n",
        "\n",
        "Context:\n",
        "{context}<|eot_id|>\n",
        "\n",
        "<|start_header_id|>assistant<|end_header_id|>\n",
        "\"\"\"\n",
        "\n",
        "rag_prompt = PromptTemplate.from_template(RAG_PROMPT_TEMPLATE)"
      ]
    },
    {
      "cell_type": "markdown",
      "metadata": {
        "id": "Oe0Qrzn4adzh"
      },
      "source": [
        "Let's create a simple LCEL chain using our prompt template Runnable and our LLM Runnable."
      ]
    },
    {
      "cell_type": "code",
      "execution_count": 8,
      "metadata": {
        "id": "CE4djpxM0-Fg"
      },
      "outputs": [],
      "source": [
        "rag_chain = rag_prompt | hf_llm"
      ]
    },
    {
      "cell_type": "code",
      "execution_count": 9,
      "metadata": {
        "colab": {
          "base_uri": "https://localhost:8080/",
          "height": 35
        },
        "id": "PNwrLXqDxHDY",
        "outputId": "fd17adb5-b25b-4f0f-c760-4f0e98835f05"
      },
      "outputs": [
        {
          "data": {
            "application/vnd.google.colaboratory.intrinsic+json": {
              "type": "string"
            },
            "text/plain": [
              "'Carl is 40 years old.'"
            ]
          },
          "execution_count": 9,
          "metadata": {},
          "output_type": "execute_result"
        }
      ],
      "source": [
        "rag_chain.invoke({\"query\" : \"Who old is Carl?\", \"context\" : \"Carl is a sweet dude, he's 40.\"})"
      ]
    },
    {
      "cell_type": "markdown",
      "metadata": {
        "id": "emGw4-66aBfa"
      },
      "source": [
        "### HuggingFaceInferenceAPIEmbeddings\n",
        "\n",
        "Now we can leverage the `HuggingFaceInferenceAPIEmbeddings` module in LangChain to connect to our Hugging Face Inference Endpoint hosted embedding model."
      ]
    },
    {
      "cell_type": "code",
      "execution_count": 10,
      "metadata": {
        "id": "n9Q7e4Gnwe_C"
      },
      "outputs": [],
      "source": [
        "from langchain_huggingface.embeddings import HuggingFaceEndpointEmbeddings\n",
        "\n",
        "YOUR_EMBED_MODEL_URL = \"https://blsnifikvdxyvsqe.us-east-1.aws.endpoints.huggingface.cloud\"\n",
        "\n",
        "hf_embeddings = HuggingFaceEndpointEmbeddings(\n",
        "    model=YOUR_EMBED_MODEL_URL,\n",
        "    task=\"feature-extraction\",\n",
        "    huggingfacehub_api_token=os.environ[\"HF_TOKEN\"],\n",
        ")"
      ]
    },
    {
      "cell_type": "markdown",
      "metadata": {
        "id": "YXYRBqbBayWb"
      },
      "source": [
        "Let's build a simple cosine-similarity function to verify our endpoint is working as expected."
      ]
    },
    {
      "cell_type": "code",
      "execution_count": 11,
      "metadata": {
        "id": "lOP6LKr74RG8"
      },
      "outputs": [],
      "source": [
        "import numpy as np\n",
        "from numpy.linalg import norm\n",
        "\n",
        "def cosine_similarity(phrase_1, phrase_2):\n",
        "  vec_1 = hf_embeddings.embed_documents([phrase_1])[0]\n",
        "  vec2_2 = hf_embeddings.embed_documents([phrase_2])[0]\n",
        "  return np.dot(vec_1, vec2_2) / (norm(vec_1) * norm(vec2_2))"
      ]
    },
    {
      "cell_type": "markdown",
      "metadata": {
        "id": "uGZNhxF2bVIr"
      },
      "source": [
        "Let's try a few examples below!"
      ]
    },
    {
      "cell_type": "code",
      "execution_count": 12,
      "metadata": {
        "colab": {
          "base_uri": "https://localhost:8080/"
        },
        "id": "5o_cqEZ34f15",
        "outputId": "f5f0e346-3476-4819-a1c0-a18a1cc8b617"
      },
      "outputs": [
        {
          "data": {
            "text/plain": [
              "0.8903063446222079"
            ]
          },
          "execution_count": 12,
          "metadata": {},
          "output_type": "execute_result"
        }
      ],
      "source": [
        "cosine_similarity(\"I love my fluffy dog!\", \"I adore this furry puppy!\")"
      ]
    },
    {
      "cell_type": "code",
      "execution_count": 13,
      "metadata": {
        "colab": {
          "base_uri": "https://localhost:8080/"
        },
        "id": "R1nsAV1n4w4a",
        "outputId": "d384515c-ef2b-4238-d788-a25a0b5a3e13"
      },
      "outputs": [
        {
          "data": {
            "text/plain": [
              "0.743020791930313"
            ]
          },
          "execution_count": 13,
          "metadata": {},
          "output_type": "execute_result"
        }
      ],
      "source": [
        "cosine_similarity(\"I love my fluffy dog!\", \"Eating pizza is the worst! Yuck!\")"
      ]
    },
    {
      "cell_type": "markdown",
      "metadata": {
        "id": "iiz6vKMlbbP4"
      },
      "source": [
        "## Task 4: Preparing Data!\n",
        "\n",
        "We'll start by loading some data from GitHub (Paul Graham's Essays) and then move to chunking them into manageable pieces!\n",
        "\n",
        "First - let's grab the repository where the files live."
      ]
    },
    {
      "cell_type": "code",
      "execution_count": 14,
      "metadata": {
        "colab": {
          "base_uri": "https://localhost:8080/"
        },
        "id": "AkuzZben5Eqp",
        "outputId": "4cd26395-3243-490c-f805-d252d4bf6d6a"
      },
      "outputs": [
        {
          "name": "stdout",
          "output_type": "stream",
          "text": [
            "Cloning into 'paul-graham-to-kindle'...\n",
            "remote: Enumerating objects: 36, done.\u001b[K\n",
            "remote: Counting objects: 100% (36/36), done.\u001b[K\n",
            "remote: Compressing objects: 100% (33/33), done.\u001b[K\n",
            "remote: Total 36 (delta 3), reused 31 (delta 1), pack-reused 0 (from 0)\u001b[K\n",
            "Receiving objects: 100% (36/36), 2.35 MiB | 21.64 MiB/s, done.\n",
            "Resolving deltas: 100% (3/3), done.\n"
          ]
        }
      ],
      "source": [
        "!git clone https://github.com/dbredvick/paul-graham-to-kindle.git"
      ]
    },
    {
      "cell_type": "markdown",
      "metadata": {
        "id": "8prMk6R0bsYd"
      },
      "source": [
        "Next - we can load them using LangChain!"
      ]
    },
    {
      "cell_type": "code",
      "execution_count": 15,
      "metadata": {
        "id": "K155zM7e53lt"
      },
      "outputs": [],
      "source": [
        "from langchain_community.document_loaders import TextLoader\n",
        "\n",
        "document_loader = TextLoader(\"./paul-graham-to-kindle/paul_graham_essays.txt\")\n",
        "documents = document_loader.load()"
      ]
    },
    {
      "cell_type": "markdown",
      "metadata": {
        "id": "5wYfo6_0bwVc"
      },
      "source": [
        "Now, let's split them into 1000 character pieces."
      ]
    },
    {
      "cell_type": "code",
      "execution_count": 16,
      "metadata": {
        "colab": {
          "base_uri": "https://localhost:8080/"
        },
        "id": "w-Gx_0iL6Ikc",
        "outputId": "c86fe678-7d28-4f5b-a062-f9a4ec5fa135"
      },
      "outputs": [
        {
          "data": {
            "text/plain": [
              "4265"
            ]
          },
          "execution_count": 16,
          "metadata": {},
          "output_type": "execute_result"
        }
      ],
      "source": [
        "from langchain_text_splitters import RecursiveCharacterTextSplitter\n",
        "\n",
        "text_splitter = RecursiveCharacterTextSplitter(chunk_size=1000, chunk_overlap=30)\n",
        "split_documents = text_splitter.split_documents(documents)\n",
        "len(split_documents)"
      ]
    },
    {
      "cell_type": "markdown",
      "metadata": {
        "id": "d5HrkDhTb4i_"
      },
      "source": [
        "Just the same as we would with OpenAI's embeddings model - we can instantiate our `FAISS` vector store with our documents and our `HuggingFaceEmbeddings` model!\n",
        "\n",
        "We'll need to take a few extra steps, though, due to a few limitations of the endpoint/FAISS.\n",
        "\n",
        "We'll start by embeddings our documents in batches of `32`.\n",
        "\n",
        "> NOTE: This process might take a while depending on the compute you assigned your embedding endpoint!"
      ]
    },
    {
      "cell_type": "code",
      "execution_count": 17,
      "metadata": {
        "id": "ucghQgRp6YXr"
      },
      "outputs": [],
      "source": [
        "from langchain_community.vectorstores import FAISS\n",
        "\n",
        "for i in range(0, len(split_documents), 32):\n",
        "  if i == 0:\n",
        "    vectorstore = FAISS.from_documents(split_documents[i:i+32], hf_embeddings)\n",
        "    continue\n",
        "  vectorstore.add_documents(split_documents[i:i+32])"
      ]
    },
    {
      "cell_type": "markdown",
      "metadata": {
        "id": "q07ZUp6Db_AO"
      },
      "source": [
        "Next, we set up FAISS as a retriever."
      ]
    },
    {
      "cell_type": "code",
      "execution_count": 18,
      "metadata": {
        "id": "fXr-yrAq7h8V"
      },
      "outputs": [],
      "source": [
        "hf_retriever = vectorstore.as_retriever()"
      ]
    },
    {
      "cell_type": "markdown",
      "metadata": {
        "id": "sYrW6FRecO7U"
      },
      "source": [
        "## Task 5: Simple LCEL RAG Chain\n",
        "\n",
        "Now we can set up our LCEL RAG chain!\n",
        "\n",
        "> NOTE: We're not returning context for this example, and only returning the text output from the LLM."
      ]
    },
    {
      "cell_type": "code",
      "execution_count": 19,
      "metadata": {
        "id": "ffIzIlct8ISb"
      },
      "outputs": [],
      "source": [
        "from operator import itemgetter\n",
        "from langchain.schema.output_parser import StrOutputParser\n",
        "from langchain.schema.runnable import RunnablePassthrough\n",
        "\n",
        "lcel_rag_chain = {\"context\": itemgetter(\"query\") | hf_retriever, \"query\": itemgetter(\"query\")}| rag_prompt | hf_llm"
      ]
    },
    {
      "cell_type": "code",
      "execution_count": 20,
      "metadata": {
        "colab": {
          "base_uri": "https://localhost:8080/",
          "height": 71
        },
        "id": "HOQfkEgb8nPH",
        "outputId": "eb3092f8-b0f8-4b48-9c8c-67918ce918a7"
      },
      "outputs": [
        {
          "data": {
            "application/vnd.google.colaboratory.intrinsic+json": {
              "type": "string"
            },
            "text/plain": [
              "'The best part of Silicon Valley, according to Paul Graham, is not the physical buildings, but the people. He emphasizes that the key stage in the life of a startup happens before they want large office spaces, and that the defining quality of Silicon Valley is that many successful startups were founded there, not just that they have offices there.'"
            ]
          },
          "execution_count": 20,
          "metadata": {},
          "output_type": "execute_result"
        }
      ],
      "source": [
        "lcel_rag_chain.invoke({\"query\" : \"What is the best part of Silicon Valley?\"})"
      ]
    },
    {
      "cell_type": "markdown",
      "metadata": {
        "id": "IDhfZf2DeKVo"
      },
      "source": [
        "# Conclusion:\n",
        "\n",
        "Once you've completed this notebook, please move to the Chainlit portion of the assignment, located in the Week 8 Day 2 `README.md`."
      ]
    },
    {
      "cell_type": "markdown",
      "metadata": {},
      "source": [
        "## screeshot of endpoints"
      ]
    },
    {
      "cell_type": "markdown",
      "metadata": {},
      "source": []
    }
  ],
  "metadata": {
    "colab": {
      "provenance": []
    },
    "kernelspec": {
      "display_name": "Python 3",
      "name": "python3"
    },
    "language_info": {
      "name": "python"
    }
  },
  "nbformat": 4,
  "nbformat_minor": 0
}
